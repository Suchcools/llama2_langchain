{
 "cells": [
  {
   "cell_type": "markdown",
   "metadata": {},
   "source": [
    "#### 导入库"
   ]
  },
  {
   "cell_type": "code",
   "execution_count": 1,
   "metadata": {},
   "outputs": [],
   "source": [
    "from langchain.document_loaders import UnstructuredFileLoader\n",
    "from langchain.text_splitter import RecursiveCharacterTextSplitter\n",
    "from langchain.embeddings.huggingface import HuggingFaceEmbeddings\n",
    "from langchain.vectorstores import FAISS\n",
    "from langchain.embeddings import HuggingFaceEmbeddings\n",
    "from langchain.vectorstores import Chroma\n",
    "import chromadb\n",
    "from langchain.output_parsers import StructuredOutputParser, ResponseSchema\n",
    "from langchain.prompts import PromptTemplate, ChatPromptTemplate, HumanMessagePromptTemplate\n",
    "from langchain.llms import OpenAI\n",
    "from langchain.chat_models import ChatOpenAI\n",
    "import os\n",
    "import sys"
   ]
  },
  {
   "cell_type": "markdown",
   "metadata": {},
   "source": [
    "#### 文档加载&切分&检索"
   ]
  },
  {
   "cell_type": "code",
   "execution_count": 2,
   "metadata": {},
   "outputs": [
    {
     "name": "stdout",
     "output_type": "stream",
     "text": [
      "python: can't open file '/home/linjw/AGI/llama2/langchain/ingest.py': [Errno 2] No such file or directory\n"
     ]
    }
   ],
   "source": [
    "! python ingest.py # 命令行 python3 ./DB/Process/ingest.py 制作向量数据库"
   ]
  },
  {
   "cell_type": "code",
   "execution_count": 3,
   "metadata": {},
   "outputs": [],
   "source": [
    "### 文档查询 去向量数据库匹配相关代码\n",
    "doc_query = \"人工智能 突破技术 未来技术 塑造未来 革命 新一代技术 未来产业\"\n",
    "\n",
    "\n",
    "### 递归总结, 根据查询出来的向量数据库相关片段 循环输入进llm进行要素提取\n",
    "refine_query = \"\"\"\n",
    "根据获取的信息，总结并提炼出人工智能的突破性技术：\n",
    "1. 技术1: [描述]\n",
    "2. 技术2: [描述]\n",
    "3. 技术3: [描述]\n",
    "4. 技术4: [描述]\n",
    "5. 技术5: [描述]\n",
    "6. 技术6: [描述]\n",
    "7. 技术7: [描述]\n",
    "8. 技术8: [描述]\n",
    "9. 技术9: [描述]\n",
    "10. 技术10: [描述]\n",
    "\"\"\"\n",
    "\n",
    "\n",
    "# 最终总结输出 总结递归的最后输出\n",
    "summary_query = \"\"\"在已知的信息中，确定并列出人工智能的突破性技术\"\"\"\n",
    "\n",
    "\n",
    "# 回答模板 将summary_query的输出格式化为对象\n",
    "response_schemas = [\n",
    "    ResponseSchema(name=\"技术1\", description=\"技术1的简要描述\"),\n",
    "    ResponseSchema(name=\"技术2\", description=\"技术2的简要描述\"),\n",
    "    ResponseSchema(name=\"技术3\", description=\"技术3的简要描述\"),\n",
    "    ResponseSchema(name=\"技术4\", description=\"技术4的简要描述\"),\n",
    "    ResponseSchema(name=\"技术5\", description=\"技术5的简要描述\"),\n",
    "    ResponseSchema(name=\"技术6\", description=\"技术1的简要描述\"),\n",
    "    ResponseSchema(name=\"技术7\", description=\"技术2的简要描述\"),\n",
    "    ResponseSchema(name=\"技术8\", description=\"技术3的简要描述\"),\n",
    "    ResponseSchema(name=\"技术9\", description=\"技术4的简要描述\"),\n",
    "    ResponseSchema(name=\"技术10\", description=\"技术5的简要描述\"),\n",
    "]\n"
   ]
  },
  {
   "cell_type": "code",
   "execution_count": 4,
   "metadata": {},
   "outputs": [
    {
     "ename": "ValueError",
     "evalue": "Path /home/linjw/AGI/llama2/langchain/checkpoints/paraphrase-multilingual-MiniLM-L12-v2 not found",
     "output_type": "error",
     "traceback": [
      "\u001b[0;31m---------------------------------------------------------------------------\u001b[0m",
      "\u001b[0;31mValueError\u001b[0m                                Traceback (most recent call last)",
      "\u001b[1;32m/home/linjw/AGI/llama2/langchain/列举人工智能未来方向.ipynb 单元格 6\u001b[0m line \u001b[0;36m1\n\u001b[1;32m     <a href='vscode-notebook-cell://ssh-remote%2Bpizza/home/linjw/AGI/llama2/langchain/%E5%88%97%E4%B8%BE%E4%BA%BA%E5%B7%A5%E6%99%BA%E8%83%BD%E6%9C%AA%E6%9D%A5%E6%96%B9%E5%90%91.ipynb#W5sdnNjb2RlLXJlbW90ZQ%3D%3D?line=16'>17</a>\u001b[0m model_n_batch \u001b[39m=\u001b[39m cfg\u001b[39m.\u001b[39mMODEL_N_BATCH\n\u001b[1;32m     <a href='vscode-notebook-cell://ssh-remote%2Bpizza/home/linjw/AGI/llama2/langchain/%E5%88%97%E4%B8%BE%E4%BA%BA%E5%B7%A5%E6%99%BA%E8%83%BD%E6%9C%AA%E6%9D%A5%E6%96%B9%E5%90%91.ipynb#W5sdnNjb2RlLXJlbW90ZQ%3D%3D?line=17'>18</a>\u001b[0m target_source_chunks \u001b[39m=\u001b[39m \u001b[39m4\u001b[39m\n\u001b[0;32m---> <a href='vscode-notebook-cell://ssh-remote%2Bpizza/home/linjw/AGI/llama2/langchain/%E5%88%97%E4%B8%BE%E4%BA%BA%E5%B7%A5%E6%99%BA%E8%83%BD%E6%9C%AA%E6%9D%A5%E6%96%B9%E5%90%91.ipynb#W5sdnNjb2RlLXJlbW90ZQ%3D%3D?line=18'>19</a>\u001b[0m embeddings \u001b[39m=\u001b[39m HuggingFaceEmbeddings(model_name\u001b[39m=\u001b[39;49membeddings_model_name)\n\u001b[1;32m     <a href='vscode-notebook-cell://ssh-remote%2Bpizza/home/linjw/AGI/llama2/langchain/%E5%88%97%E4%B8%BE%E4%BA%BA%E5%B7%A5%E6%99%BA%E8%83%BD%E6%9C%AA%E6%9D%A5%E6%96%B9%E5%90%91.ipynb#W5sdnNjb2RlLXJlbW90ZQ%3D%3D?line=19'>20</a>\u001b[0m chroma_client \u001b[39m=\u001b[39m chromadb\u001b[39m.\u001b[39mPersistentClient(settings\u001b[39m=\u001b[39mCHROMA_SETTINGS , path\u001b[39m=\u001b[39mpersist_directory)\n\u001b[1;32m     <a href='vscode-notebook-cell://ssh-remote%2Bpizza/home/linjw/AGI/llama2/langchain/%E5%88%97%E4%B8%BE%E4%BA%BA%E5%B7%A5%E6%99%BA%E8%83%BD%E6%9C%AA%E6%9D%A5%E6%96%B9%E5%90%91.ipynb#W5sdnNjb2RlLXJlbW90ZQ%3D%3D?line=20'>21</a>\u001b[0m db \u001b[39m=\u001b[39m Chroma(persist_directory\u001b[39m=\u001b[39mpersist_directory, embedding_function\u001b[39m=\u001b[39membeddings, client_settings\u001b[39m=\u001b[39mCHROMA_SETTINGS, client\u001b[39m=\u001b[39mchroma_client)\n",
      "File \u001b[0;32m~/anaconda3/envs/llama/lib/python3.10/site-packages/langchain/embeddings/huggingface.py:64\u001b[0m, in \u001b[0;36mHuggingFaceEmbeddings.__init__\u001b[0;34m(self, **kwargs)\u001b[0m\n\u001b[1;32m     58\u001b[0m \u001b[39mexcept\u001b[39;00m \u001b[39mImportError\u001b[39;00m \u001b[39mas\u001b[39;00m exc:\n\u001b[1;32m     59\u001b[0m     \u001b[39mraise\u001b[39;00m \u001b[39mImportError\u001b[39;00m(\n\u001b[1;32m     60\u001b[0m         \u001b[39m\"\u001b[39m\u001b[39mCould not import sentence_transformers python package. \u001b[39m\u001b[39m\"\u001b[39m\n\u001b[1;32m     61\u001b[0m         \u001b[39m\"\u001b[39m\u001b[39mPlease install it with `pip install sentence_transformers`.\u001b[39m\u001b[39m\"\u001b[39m\n\u001b[1;32m     62\u001b[0m     ) \u001b[39mfrom\u001b[39;00m \u001b[39mexc\u001b[39;00m\n\u001b[0;32m---> 64\u001b[0m \u001b[39mself\u001b[39m\u001b[39m.\u001b[39mclient \u001b[39m=\u001b[39m sentence_transformers\u001b[39m.\u001b[39;49mSentenceTransformer(\n\u001b[1;32m     65\u001b[0m     \u001b[39mself\u001b[39;49m\u001b[39m.\u001b[39;49mmodel_name, cache_folder\u001b[39m=\u001b[39;49m\u001b[39mself\u001b[39;49m\u001b[39m.\u001b[39;49mcache_folder, \u001b[39m*\u001b[39;49m\u001b[39m*\u001b[39;49m\u001b[39mself\u001b[39;49m\u001b[39m.\u001b[39;49mmodel_kwargs\n\u001b[1;32m     66\u001b[0m )\n",
      "File \u001b[0;32m~/anaconda3/envs/llama/lib/python3.10/site-packages/sentence_transformers/SentenceTransformer.py:77\u001b[0m, in \u001b[0;36mSentenceTransformer.__init__\u001b[0;34m(self, model_name_or_path, modules, device, cache_folder, use_auth_token)\u001b[0m\n\u001b[1;32m     74\u001b[0m \u001b[39melse\u001b[39;00m:\n\u001b[1;32m     75\u001b[0m     \u001b[39m#Not a path, load from hub\u001b[39;00m\n\u001b[1;32m     76\u001b[0m     \u001b[39mif\u001b[39;00m \u001b[39m'\u001b[39m\u001b[39m\\\\\u001b[39;00m\u001b[39m'\u001b[39m \u001b[39min\u001b[39;00m model_name_or_path \u001b[39mor\u001b[39;00m model_name_or_path\u001b[39m.\u001b[39mcount(\u001b[39m'\u001b[39m\u001b[39m/\u001b[39m\u001b[39m'\u001b[39m) \u001b[39m>\u001b[39m \u001b[39m1\u001b[39m:\n\u001b[0;32m---> 77\u001b[0m         \u001b[39mraise\u001b[39;00m \u001b[39mValueError\u001b[39;00m(\u001b[39m\"\u001b[39m\u001b[39mPath \u001b[39m\u001b[39m{}\u001b[39;00m\u001b[39m not found\u001b[39m\u001b[39m\"\u001b[39m\u001b[39m.\u001b[39mformat(model_name_or_path))\n\u001b[1;32m     79\u001b[0m     \u001b[39mif\u001b[39;00m \u001b[39m'\u001b[39m\u001b[39m/\u001b[39m\u001b[39m'\u001b[39m \u001b[39mnot\u001b[39;00m \u001b[39min\u001b[39;00m model_name_or_path \u001b[39mand\u001b[39;00m model_name_or_path\u001b[39m.\u001b[39mlower() \u001b[39mnot\u001b[39;00m \u001b[39min\u001b[39;00m basic_transformer_models:\n\u001b[1;32m     80\u001b[0m         \u001b[39m# A model from sentence-transformers\u001b[39;00m\n\u001b[1;32m     81\u001b[0m         model_name_or_path \u001b[39m=\u001b[39m __MODEL_HUB_ORGANIZATION__ \u001b[39m+\u001b[39m \u001b[39m\"\u001b[39m\u001b[39m/\u001b[39m\u001b[39m\"\u001b[39m \u001b[39m+\u001b[39m model_name_or_path\n",
      "\u001b[0;31mValueError\u001b[0m: Path /home/linjw/AGI/llama2/langchain/checkpoints/paraphrase-multilingual-MiniLM-L12-v2 not found"
     ]
    }
   ],
   "source": [
    "sys.path.append(os.path.dirname(os.path.realpath('__file__'))+\"/../\")\n",
    "import config.conf as cfg\n",
    "from chromadb.config import Settings\n",
    "\n",
    "# Define the folder for storing database\n",
    "PERSIST_DIRECTORY = cfg.PERSIST_DIRECTORY.replace(\"\\\\langchain\",\"\")\n",
    "# Define the Chroma settings\n",
    "CHROMA_SETTINGS = Settings(\n",
    "        persist_directory=PERSIST_DIRECTORY,\n",
    "        anonymized_telemetry=False\n",
    ")\n",
    "\n",
    "embeddings_model_name = cfg.EMBEDDINGS_MODEL_NAME.replace(\"\\\\langchain\",\"\")\n",
    "persist_directory = cfg.PERSIST_DIRECTORY.replace(\"\\\\langchain\",\"\")\n",
    "model_path = cfg.MODEL_PATH.replace(\"\\\\langchain\",\"\")\n",
    "model_n_ctx = cfg.MODEL_N_CTX\n",
    "model_n_batch = cfg.MODEL_N_BATCH\n",
    "target_source_chunks = 4\n",
    "embeddings = HuggingFaceEmbeddings(model_name=embeddings_model_name)\n",
    "chroma_client = chromadb.PersistentClient(settings=CHROMA_SETTINGS , path=persist_directory)\n",
    "db = Chroma(persist_directory=persist_directory, embedding_function=embeddings, client_settings=CHROMA_SETTINGS, client=chroma_client)"
   ]
  },
  {
   "cell_type": "code",
   "execution_count": null,
   "metadata": {},
   "outputs": [
    {
     "data": {
      "text/plain": [
       "'D:\\\\WorkSpace\\\\llama2\\\\langchain/checkpoints/paraphrase-multilingual-MiniLM-L12-v2'"
      ]
     },
     "execution_count": 4,
     "metadata": {},
     "output_type": "execute_result"
    }
   ],
   "source": [
    "cfg.EMBEDDINGS_MODEL_NAME"
   ]
  },
  {
   "cell_type": "markdown",
   "metadata": {},
   "source": [
    "##### 普通检索"
   ]
  },
  {
   "cell_type": "code",
   "execution_count": null,
   "metadata": {},
   "outputs": [],
   "source": [
    "retriever = db.as_retriever(search_kwargs={\"k\": 20})\n",
    "\n",
    "# retriever = db.as_retriever(    \n",
    "#     search_type=\"mmr\",\n",
    "#     search_kwargs={'k': 20, 'lambda_mult': 0.25})\n"
   ]
  },
  {
   "cell_type": "code",
   "execution_count": null,
   "metadata": {},
   "outputs": [
    {
     "data": {
      "text/plain": [
       "['their overall digital transformation maturity journey .\\n人工智能未来\\n已来，是机遇\\n还是挑战\\n人工智能产业近年来发展迅猛，渗透了各行各业，而新技术的革新往往\\n是一把“双刃剑”，在提升企业商业利益的同时也会带来一定的风险。\\n本报告对各行业领域中超过100家企业进行了调研，并根据整合的数据\\n进行了深度洞察分析，其中包括人工智能未来5年的用途和影响，以及\\n人工智能为企业带来的商业利益和风险。\\n大中华区人工智能成熟度调研\\n35',\n",
       " 'their overall digital transformation maturity journey .\\n人工智能未来\\n已来，是机遇\\n还是挑战\\n人工智能产业近年来发展迅猛，渗透了各行各业，而新技术的革新往往\\n是一把“双刃剑”，在提升企业商业利益的同时也会带来一定的风险。\\n本报告对各行业领域中超过100家企业进行了调研，并根据整合的数据\\n进行了深度洞察分析，其中包括人工智能未来5年的用途和影响，以及\\n人工智能为企业带来的商业利益和风险。\\n大中华区人工智能成熟度调研\\n35',\n",
       " '01  <<\\n新一代人工智能产业白皮书（2019 年）\\n——主要应用场景研判\\n新一代人工智能作为全球新一轮科技和产业变革的关键驱动力，将进一步释放科技\\n革命和产业变革积蓄的巨大能量，持续探索新一代人工智能应用场景，将重构生产、分配、\\n交换、消费等经济活动各环节，催生新技术、新产品、新产业、新业态、新模式，形成\\n从宏观到微观各领域的智能化新需求，并创造新的经济发展的强大引擎，引发经济结构\\n重大变革，深刻改变人类生产生活方式和思维模式，实现社会生产力的整体跃升。\\n全球新一代人工智能产业依赖强大的技术创新积累优势，以谷歌、英特尔、微软、\\n亚马逊等跨国大型科技企业为主导，充分发挥其强大的资源整合能力与持续创新功能，\\n不断加快基础层底层技术研发与应用产品实践步伐，围绕智能硬件与软件核心算法产业\\n上下游进行有效部署。随着技术的不断成熟和底层技术框架的开源，吸引创新企业不断\\n涌入，推动产业规模持续加速增长。2018 年全球新一代人工智能产业规模超过 555.7 亿\\n美元，预计 2019 年产业规模将突破 718 亿美元，带动 2022 年产业规模将超过 1630.2',\n",
       " '01  <<\\n新一代人工智能产业白皮书（2019 年）\\n——主要应用场景研判\\n新一代人工智能作为全球新一轮科技和产业变革的关键驱动力，将进一步释放科技\\n革命和产业变革积蓄的巨大能量，持续探索新一代人工智能应用场景，将重构生产、分配、\\n交换、消费等经济活动各环节，催生新技术、新产品、新产业、新业态、新模式，形成\\n从宏观到微观各领域的智能化新需求，并创造新的经济发展的强大引擎，引发经济结构\\n重大变革，深刻改变人类生产生活方式和思维模式，实现社会生产力的整体跃升。\\n全球新一代人工智能产业依赖强大的技术创新积累优势，以谷歌、英特尔、微软、\\n亚马逊等跨国大型科技企业为主导，充分发挥其强大的资源整合能力与持续创新功能，\\n不断加快基础层底层技术研发与应用产品实践步伐，围绕智能硬件与软件核心算法产业\\n上下游进行有效部署。随着技术的不断成熟和底层技术框架的开源，吸引创新企业不断\\n涌入，推动产业规模持续加速增长。2018 年全球新一代人工智能产业规模超过 555.7 亿\\n美元，预计 2019 年产业规模将突破 718 亿美元，带动 2022 年产业规模将超过 1630.2',\n",
       " '27\\n人工智能未来发展洞察\\n全球趋势一：人工智能企业将以技术共享的方式\\n推动技术迭代\\n人工智能处于高速发展阶段，技术快速迭代，企\\n业研发新技术需要耗费大量的人力及时间成本，\\n变相减缓人工智能行业发展速度。因此，人工智\\n能企业将会结成发展联盟，共享彼此的专利技术，\\n共同推进AI通用技术发展，缩短人工智能行业进\\n入成熟期的时间。\\n全球趋势二：人工智能企业持续挖掘多元场景应\\n用，以期稳定市场期望值\\n根据Gartner人工智能技术成熟度曲线显示，有大\\n量人工智能应用技术步入泡沫破裂低谷期，但仅\\n需2-5年即可到达技术成熟期。造成这一现象的主\\n要原因是许多人工智能技术应用场景受限，难以\\n实现落地应用或其应用达不到市场预期效果，因\\n此导致整体预期值大幅下降。未来2-5年内，人工\\n智能企业的核心目标是不断优化技术，拓宽应用\\n场景，实现规模商业化，提升市场整体期望值。\\n全球趋势三：人工智能企业趋向泛领域化，避免\\n聚焦单一垂直赛道\\n结合人工智能共享化及拓场景化，2020年起人工\\n智能企业呈现出泛行业趋势。头部和初创企业均\\n开拓应用场景，避免聚焦单一垂直行业。例如科',\n",
       " '27\\n人工智能未来发展洞察\\n全球趋势一：人工智能企业将以技术共享的方式\\n推动技术迭代\\n人工智能处于高速发展阶段，技术快速迭代，企\\n业研发新技术需要耗费大量的人力及时间成本，\\n变相减缓人工智能行业发展速度。因此，人工智\\n能企业将会结成发展联盟，共享彼此的专利技术，\\n共同推进AI通用技术发展，缩短人工智能行业进\\n入成熟期的时间。\\n全球趋势二：人工智能企业持续挖掘多元场景应\\n用，以期稳定市场期望值\\n根据Gartner人工智能技术成熟度曲线显示，有大\\n量人工智能应用技术步入泡沫破裂低谷期，但仅\\n需2-5年即可到达技术成熟期。造成这一现象的主\\n要原因是许多人工智能技术应用场景受限，难以\\n实现落地应用或其应用达不到市场预期效果，因\\n此导致整体预期值大幅下降。未来2-5年内，人工\\n智能企业的核心目标是不断优化技术，拓宽应用\\n场景，实现规模商业化，提升市场整体期望值。\\n全球趋势三：人工智能企业趋向泛领域化，避免\\n聚焦单一垂直赛道\\n结合人工智能共享化及拓场景化，2020年起人工\\n智能企业呈现出泛行业趋势。头部和初创企业均\\n开拓应用场景，避免聚焦单一垂直行业。例如科',\n",
       " '408 \\n \\n11.1.2 人工智能发展方向 \\n近几年，人工智能获得了越来越多的关注，正处于发展的黄金时期，被视为是\\n能够引发下一轮技术变革的引擎。由于信息技术已经度过了高速发展的时期，产业\\n发展也逐渐遭遇天花板，步入了同行竞争激烈、创新驱动力疲软的瓶颈阶段，亟待\\n下一次技术变革来打破这种局面。人工智能技术是当下新兴的互联网前沿科技，有\\n着无限潜力，而它作为一种基础技术，能够在各个行业中渗透，为这些传统产业赋\\n能，帮助实现产业的重塑，带来越来越多的发展机遇。 \\n至今，关于人工智能的研究和探索实际上已经进行了 60 多年，随着信息技术\\n发展成熟，人工智能技术的发展也逐渐步入黄金期。数据资源、计算力和深度学习\\n算法是人工智能的三大基本要素，而这三大要素近些年的突破也让人工智能的发展\\n站上了新的台阶，使得人工智能在自然语言处理、计算机视觉技术等各大细分领域\\n中表现得越来越突出，推动人工智能向更高层的感知发展，推动以人工智能技术为\\n底层技术的多种衍生技术或解决方案大规模落地，掀起人工智能热潮。 \\n虽然当前的人工智能技术无法在每个方面都表现出很强的智能，但是对于完成',\n",
       " '408 \\n \\n11.1.2 人工智能发展方向 \\n近几年，人工智能获得了越来越多的关注，正处于发展的黄金时期，被视为是\\n能够引发下一轮技术变革的引擎。由于信息技术已经度过了高速发展的时期，产业\\n发展也逐渐遭遇天花板，步入了同行竞争激烈、创新驱动力疲软的瓶颈阶段，亟待\\n下一次技术变革来打破这种局面。人工智能技术是当下新兴的互联网前沿科技，有\\n着无限潜力，而它作为一种基础技术，能够在各个行业中渗透，为这些传统产业赋\\n能，帮助实现产业的重塑，带来越来越多的发展机遇。 \\n至今，关于人工智能的研究和探索实际上已经进行了 60 多年，随着信息技术\\n发展成熟，人工智能技术的发展也逐渐步入黄金期。数据资源、计算力和深度学习\\n算法是人工智能的三大基本要素，而这三大要素近些年的突破也让人工智能的发展\\n站上了新的台阶，使得人工智能在自然语言处理、计算机视觉技术等各大细分领域\\n中表现得越来越突出，推动人工智能向更高层的感知发展，推动以人工智能技术为\\n底层技术的多种衍生技术或解决方案大规模落地，掀起人工智能热潮。 \\n虽然当前的人工智能技术无法在每个方面都表现出很强的智能，但是对于完成',\n",
       " '70\\n•\\n人工智能是历史和科技发展的必然趋势。在互联网时代，新的一波高新技术浪潮将会带动新的经济业态，灼识咨询预计未\\n来将有更多的行业投入人工智能的怀抱，不仅仅局限于本报告中所提及的零售、医疗、家居和汽车领域，对于投资者而\\n言，放宽思路、结合过去经验和对未来的展望，积极寻找新的行业独角兽或能取得新的高回报投资举动。\\n人工智能或将成为新的\\n行业独角兽\\n人工智能人才储备将成\\n为未来竞争关键\\n人工智能将在未来面对\\n更多的困难与挑战\\n•\\n人工智能领域的高速发展使得未来中国该领域的人才储备显得尤为重要。虽然中国在数据积累和传统工业等发面都有着\\n一定的优势，但整体人才储备、基础教育和科学成果落后于发达国家。这对于今后的基础研究、行业产业链、经济效益\\n等都会制造困难与阻碍，从而限制中国未来人工智能的发展。故，积极寻找和投资相关人才对于公司或国家都将是极有\\n利的措施。\\n•\\n人工智能为解放劳动力、释放生产力等方面都有着积极的贡献，但对于人口大国的中国，如何平衡好人工智能和人本身还\\n需要进一步的探索与把握。如今，还是有很多人持有“机器人将统治人类”的恐怖观点，这对于当今人类的道德标准、思',\n",
       " '70\\n•\\n人工智能是历史和科技发展的必然趋势。在互联网时代，新的一波高新技术浪潮将会带动新的经济业态，灼识咨询预计未\\n来将有更多的行业投入人工智能的怀抱，不仅仅局限于本报告中所提及的零售、医疗、家居和汽车领域，对于投资者而\\n言，放宽思路、结合过去经验和对未来的展望，积极寻找新的行业独角兽或能取得新的高回报投资举动。\\n人工智能或将成为新的\\n行业独角兽\\n人工智能人才储备将成\\n为未来竞争关键\\n人工智能将在未来面对\\n更多的困难与挑战\\n•\\n人工智能领域的高速发展使得未来中国该领域的人才储备显得尤为重要。虽然中国在数据积累和传统工业等发面都有着\\n一定的优势，但整体人才储备、基础教育和科学成果落后于发达国家。这对于今后的基础研究、行业产业链、经济效益\\n等都会制造困难与阻碍，从而限制中国未来人工智能的发展。故，积极寻找和投资相关人才对于公司或国家都将是极有\\n利的措施。\\n•\\n人工智能为解放劳动力、释放生产力等方面都有着积极的贡献，但对于人口大国的中国，如何平衡好人工智能和人本身还\\n需要进一步的探索与把握。如今，还是有很多人持有“机器人将统治人类”的恐怖观点，这对于当今人类的道德标准、思',\n",
       " '2\\n序言\\n2020年，我们谈到，被纳入新基建范畴的人工智能技术已经广泛出现在决定企业产生经济效益的各个环\\n节，以人机协同模式为主导，推动传统行业启动效率变革、动能转换之路。人工智能作为创业企业标签的属\\n性在变弱，而越来越成为千行百业的经营主体都在积极尝试和运用的生产要素。2021年，作为智能化转型\\n的核心生产力，人工智能技术所带来的创新增量价值引人瞩目，产业应用规模不断突破，数字经济加速器的\\n产业地位逐步稳固。行业领先企业也多在算力、算法、数据三大基础层要素上做整体布局，加速推进人工智\\n能产业进入效率化、工业化生产阶段。\\n2021年，艾瑞连续第四年发布《中国人工智能产业研究报告》，这也是国家大力提倡发展数字经济、\\n细分赛道领先者提速上市，争相步入资本市场发展新阶段、人工智能产业持续增长的一年，人工智能产业经\\n济规模近2000亿元。本年度艾瑞除了持续更新计算机视觉、对话式AI、机器学习、自然语言处理与知识图\\n谱等各项技术的细分市场规模、探讨新兴应用场景或趋势外；在今年的研究报告中，我们希望探讨四大问',\n",
       " '2\\n序言\\n2020年，我们谈到，被纳入新基建范畴的人工智能技术已经广泛出现在决定企业产生经济效益的各个环\\n节，以人机协同模式为主导，推动传统行业启动效率变革、动能转换之路。人工智能作为创业企业标签的属\\n性在变弱，而越来越成为千行百业的经营主体都在积极尝试和运用的生产要素。2021年，作为智能化转型\\n的核心生产力，人工智能技术所带来的创新增量价值引人瞩目，产业应用规模不断突破，数字经济加速器的\\n产业地位逐步稳固。行业领先企业也多在算力、算法、数据三大基础层要素上做整体布局，加速推进人工智\\n能产业进入效率化、工业化生产阶段。\\n2021年，艾瑞连续第四年发布《中国人工智能产业研究报告》，这也是国家大力提倡发展数字经济、\\n细分赛道领先者提速上市，争相步入资本市场发展新阶段、人工智能产业持续增长的一年，人工智能产业经\\n济规模近2000亿元。本年度艾瑞除了持续更新计算机视觉、对话式AI、机器学习、自然语言处理与知识图\\n谱等各项技术的细分市场规模、探讨新兴应用场景或趋势外；在今年的研究报告中，我们希望探讨四大问',\n",
       " '43\\n©2018.11 iResearch Inc                                                                                                       \\nwww.iresearch.com.cn\\n人工智能+金融行业趋势展望\\n科技巨头与细分领域标杆共建生态，行业集中度提高\\n未来伴随着人工智能技术的进一步发展以及市场趋于理性与成熟，人工智能+金融行业将面临重新洗牌。一些打着人工智\\n能的旗号而没有实际核心技术研发能力的公司将被市场所淘汰，而真正具有人才优势、技术优势、数据优势以及场景流量\\n优势的企业将得以长期持续发展。未来行业将会呈现以互联网科技巨头、金融科技集团以及人工智能技术提供方为主要参\\n与主体的三足鼎立的局面。互联网科技巨头将发挥自身优势加大科技研发拓展更多的应用场景；金融科技集团将利用对于\\n金融业务的深入理解不断提升行业转型升级的速度；人工智能技术提供主体则将会集中在细分领域的头部企业，而中游的\\n企业则存在被科技巨头收购的可能。\\n来源：艾瑞咨询研究院自主研究及绘制。\\nAI+金融',\n",
       " '43\\n©2018.11 iResearch Inc                                                                                                       \\nwww.iresearch.com.cn\\n人工智能+金融行业趋势展望\\n科技巨头与细分领域标杆共建生态，行业集中度提高\\n未来伴随着人工智能技术的进一步发展以及市场趋于理性与成熟，人工智能+金融行业将面临重新洗牌。一些打着人工智\\n能的旗号而没有实际核心技术研发能力的公司将被市场所淘汰，而真正具有人才优势、技术优势、数据优势以及场景流量\\n优势的企业将得以长期持续发展。未来行业将会呈现以互联网科技巨头、金融科技集团以及人工智能技术提供方为主要参\\n与主体的三足鼎立的局面。互联网科技巨头将发挥自身优势加大科技研发拓展更多的应用场景；金融科技集团将利用对于\\n金融业务的深入理解不断提升行业转型升级的速度；人工智能技术提供主体则将会集中在细分领域的头部企业，而中游的\\n企业则存在被科技巨头收购的可能。\\n来源：艾瑞咨询研究院自主研究及绘制。\\nAI+金融',\n",
       " '新一代人工智能产业应用驱动的特征愈加明显，从生产方式的智能化改造，生活水\\n平的智能化提升，到社会治理的智能化升级，都对新一代人工智能技术、产品、服务及\\n解决方案有着旺盛的需求。当前，新一代人工智能技术正加速在各行业深度融合和落地\\n应用，推动经济社会各领域从数字化、网络化向智能化加速跃升。基于此，中国电子学\\n会组织专门团队研究编制《新一代人工智能产业白皮书（2019 年）——主要应用场景研\\n判》，全面梳理了全球和我国新一代人工智能产业的发展现状，详细分析了基础层、技\\n术层和应用层的产业发展态势，并归纳出新一代人工智能产业的整体发展趋势，深入剖\\n析了新一代人工智能产业应用场景落地在网络环境、应用需求、智能化基础设施、计算\\n能力、内容升级五大关键因素，重点围绕公共领域的安全防护、金融机构的风险控制、\\n在线客服的标准化应答、医学影像的诊疗和预测性分析、零售门店的营销和供应链管理、\\n广告营销的场景识别、自主学习的学习管理和测评环节、城市管理的车辆管控和资源统\\n筹的应用趋势、商业价值及竞争态势进行研判，最后提出强化共性技术攻关、深化拓展',\n",
       " '新一代人工智能产业应用驱动的特征愈加明显，从生产方式的智能化改造，生活水\\n平的智能化提升，到社会治理的智能化升级，都对新一代人工智能技术、产品、服务及\\n解决方案有着旺盛的需求。当前，新一代人工智能技术正加速在各行业深度融合和落地\\n应用，推动经济社会各领域从数字化、网络化向智能化加速跃升。基于此，中国电子学\\n会组织专门团队研究编制《新一代人工智能产业白皮书（2019 年）——主要应用场景研\\n判》，全面梳理了全球和我国新一代人工智能产业的发展现状，详细分析了基础层、技\\n术层和应用层的产业发展态势，并归纳出新一代人工智能产业的整体发展趋势，深入剖\\n析了新一代人工智能产业应用场景落地在网络环境、应用需求、智能化基础设施、计算\\n能力、内容升级五大关键因素，重点围绕公共领域的安全防护、金融机构的风险控制、\\n在线客服的标准化应答、医学影像的诊疗和预测性分析、零售门店的营销和供应链管理、\\n广告营销的场景识别、自主学习的学习管理和测评环节、城市管理的车辆管控和资源统\\n筹的应用趋势、商业价值及竞争态势进行研判，最后提出强化共性技术攻关、深化拓展',\n",
       " '竞争力、维护国家安全的重大战略，力图在国际科技竞争中掌握主导权。习近平\\n总书记在十九届中央政治局第九次集体学习时深刻指出，加快发展新一代人工智\\n能是事关我国能否抓住新一轮科技革命和产业变革机遇的战略问题。错失一个机\\n遇，就有可能错过整整一个时代。新一轮科技革命与产业变革已曙光可见，在这\\n场关乎前途命运的大赛场上，我们必须抢抓机遇、奋起直追、力争超越。 \\n \\n \\n \\n百一知识产权 \\n二〇一九年四月',\n",
       " '竞争力、维护国家安全的重大战略，力图在国际科技竞争中掌握主导权。习近平\\n总书记在十九届中央政治局第九次集体学习时深刻指出，加快发展新一代人工智\\n能是事关我国能否抓住新一轮科技革命和产业变革机遇的战略问题。错失一个机\\n遇，就有可能错过整整一个时代。新一轮科技革命与产业变革已曙光可见，在这\\n场关乎前途命运的大赛场上，我们必须抢抓机遇、奋起直追、力争超越。 \\n \\n \\n \\n百一知识产权 \\n二〇一九年四月',\n",
       " '��\\n新一代人工智能白皮书（2020年）\\n当前，我国经济发展进入新阶段，既面临产业转型升级与重塑国际经济格局的机遇，也\\n面对传统要素红利衰减、经济增速换挡、经济结构失衡的挑战。传统的以规模扩张为特征的\\n数量型增长动力难以支撑新阶段高质量发展的要求,亟需培育经济增长新动能，实现效率提升\\n型的质量型增长。新一代人工智能是引领这一轮科技革命和产业变革的战略性技术，正在对\\n经济发展、社会进步、国际竞争格局等方面产生重大而深远的影响，加快发展新一代人工智\\n能是赢得全球科技竞争主动权的重要战略抓手，是推动科技跨越发展、产业优化升级、生产\\n力整体跃升的重要战略资源。\\n一、全球产业智能化升级的主要表现与特征\\n新一代人工智能与产业各领域、各环节深度融合，加速推动数据和知识成为经济增长的\\n第一要素，人机协同成为主流生产和服务方式，跨界融合成为重要发展模式，共创分享成为\\n经济生态的基本特征，持续引领产业向价值链高端迈进，加快推进产业智能化升级。\\n（一）全面提升经营效益\\n新一代人工智能加速渗透融入设计、生产、管理、物流和营销等核心环节，重构产业组织',\n",
       " '��\\n新一代人工智能白皮书（2020年）\\n当前，我国经济发展进入新阶段，既面临产业转型升级与重塑国际经济格局的机遇，也\\n面对传统要素红利衰减、经济增速换挡、经济结构失衡的挑战。传统的以规模扩张为特征的\\n数量型增长动力难以支撑新阶段高质量发展的要求,亟需培育经济增长新动能，实现效率提升\\n型的质量型增长。新一代人工智能是引领这一轮科技革命和产业变革的战略性技术，正在对\\n经济发展、社会进步、国际竞争格局等方面产生重大而深远的影响，加快发展新一代人工智\\n能是赢得全球科技竞争主动权的重要战略抓手，是推动科技跨越发展、产业优化升级、生产\\n力整体跃升的重要战略资源。\\n一、全球产业智能化升级的主要表现与特征\\n新一代人工智能与产业各领域、各环节深度融合，加速推动数据和知识成为经济增长的\\n第一要素，人机协同成为主流生产和服务方式，跨界融合成为重要发展模式，共创分享成为\\n经济生态的基本特征，持续引领产业向价值链高端迈进，加快推进产业智能化升级。\\n（一）全面提升经营效益\\n新一代人工智能加速渗透融入设计、生产、管理、物流和营销等核心环节，重构产业组织']"
      ]
     },
     "execution_count": 6,
     "metadata": {},
     "output_type": "execute_result"
    }
   ],
   "source": [
    "docs = retriever.get_relevant_documents(doc_query)\n",
    "[doc.page_content for doc in docs]"
   ]
  },
  {
   "cell_type": "code",
   "execution_count": null,
   "metadata": {},
   "outputs": [
    {
     "name": "stdout",
     "output_type": "stream",
     "text": [
      "{'author': '', 'creationDate': \"D:20201022153906+08'00'\", 'creator': 'Adobe InDesign 15.0 (Windows)', 'file_path': 'D:\\\\WorkSpace\\\\llama2/DB/Process/source\\\\2020年  大中华区人工智能成熟度调研——中国大陆，解码2020，展望数字未来-安永x微软.pdf', 'format': 'PDF 1.7', 'keywords': '', 'modDate': \"D:20201112143019+08'00'\", 'page': 34, 'producer': '99pdf.com', 'source': 'D:\\\\WorkSpace\\\\llama2/DB/Process/source\\\\2020年  大中华区人工智能成熟度调研——中国大陆，解码2020，展望数字未来-安永x微软.pdf', 'subject': '', 'title': '', 'total_pages': 81, 'trapped': ''}\n",
      "{'author': '', 'creationDate': \"D:20201022153906+08'00'\", 'creator': 'Adobe InDesign 15.0 (Windows)', 'file_path': 'D:\\\\WorkSpace\\\\llama2/DB/Process/source\\\\2020年  大中华区人工智能成熟度调研——中国大陆，解码2020，展望数字未来-安永x微软.pdf', 'format': 'PDF 1.7', 'keywords': '', 'modDate': \"D:20201112143019+08'00'\", 'page': 34, 'producer': '99pdf.com', 'source': 'D:\\\\WorkSpace\\\\llama2/DB/Process/source\\\\2020年  大中华区人工智能成熟度调研——中国大陆，解码2020，展望数字未来-安永x微软.pdf', 'subject': '', 'title': '', 'total_pages': 81, 'trapped': ''}\n",
      "{'author': '', 'creationDate': '', 'creator': '', 'file_path': 'D:\\\\WorkSpace\\\\llama2/DB/Process/source\\\\2019年  新一代人工智能产业白皮书：主要应用场景研判-200114.pdf', 'format': 'PDF 1.7', 'keywords': '', 'modDate': \"D:20200515121112+08'00'\", 'page': 8, 'producer': '3-Heights(TM) PDF Optimization Shell 5.9.1.5 (http://www.pdf-tools.com); modified using iTextSharp 5.2.1 (c) 1T3XT BVBA', 'source': 'D:\\\\WorkSpace\\\\llama2/DB/Process/source\\\\2019年  新一代人工智能产业白皮书：主要应用场景研判-200114.pdf', 'subject': '', 'title': '中国电子学会-2019新一代人工智能产业白皮书：主要应用场景研判-200114.pdf', 'total_pages': 50, 'trapped': 'False'}\n",
      "{'author': '', 'creationDate': '', 'creator': '', 'file_path': 'D:\\\\WorkSpace\\\\llama2/DB/Process/source\\\\2019年  新一代人工智能产业白皮书：主要应用场景研判-200114.pdf', 'format': 'PDF 1.7', 'keywords': '', 'modDate': \"D:20200515121112+08'00'\", 'page': 8, 'producer': '3-Heights(TM) PDF Optimization Shell 5.9.1.5 (http://www.pdf-tools.com); modified using iTextSharp 5.2.1 (c) 1T3XT BVBA', 'source': 'D:\\\\WorkSpace\\\\llama2/DB/Process/source\\\\2019年  新一代人工智能产业白皮书：主要应用场景研判-200114.pdf', 'subject': '', 'title': '中国电子学会-2019新一代人工智能产业白皮书：主要应用场景研判-200114.pdf', 'total_pages': 50, 'trapped': 'False'}\n",
      "{'author': '', 'creationDate': '', 'creator': '', 'file_path': 'D:\\\\WorkSpace\\\\llama2/DB/Process/source\\\\2020年  全球人工智能科技创新TOP50-2020-12-09.pdf', 'format': 'PDF 1.3', 'keywords': '', 'modDate': '', 'page': 26, 'producer': 'PyPDF2', 'source': 'D:\\\\WorkSpace\\\\llama2/DB/Process/source\\\\2020年  全球人工智能科技创新TOP50-2020-12-09.pdf', 'subject': '', 'title': '', 'total_pages': 31, 'trapped': ''}\n",
      "{'author': '', 'creationDate': '', 'creator': '', 'file_path': 'D:\\\\WorkSpace\\\\llama2/DB/Process/source\\\\2020年  全球人工智能科技创新TOP50-2020-12-09.pdf', 'format': 'PDF 1.3', 'keywords': '', 'modDate': '', 'page': 26, 'producer': 'PyPDF2', 'source': 'D:\\\\WorkSpace\\\\llama2/DB/Process/source\\\\2020年  全球人工智能科技创新TOP50-2020-12-09.pdf', 'subject': '', 'title': '', 'total_pages': 31, 'trapped': ''}\n",
      "{'author': 'jingpeng nie', 'creationDate': \"D:20180924171454+08'00'\", 'creator': 'Acrobat PDFMaker 18 Word 版', 'file_path': 'D:\\\\WorkSpace\\\\llama2/DB/Process/source\\\\2018年  云计算和人工智能产业应用白皮书【450页】.pdf', 'format': 'PDF 1.6', 'keywords': '', 'modDate': \"D:20180928211958+08'00'\", 'page': 430, 'producer': 'Adobe PDF Library 15.0', 'source': 'D:\\\\WorkSpace\\\\llama2/DB/Process/source\\\\2018年  云计算和人工智能产业应用白皮书【450页】.pdf', 'subject': '', 'title': '', 'total_pages': 450, 'trapped': ''}\n",
      "{'author': 'jingpeng nie', 'creationDate': \"D:20180924171454+08'00'\", 'creator': 'Acrobat PDFMaker 18 Word 版', 'file_path': 'D:\\\\WorkSpace\\\\llama2/DB/Process/source\\\\2018年  云计算和人工智能产业应用白皮书【450页】.pdf', 'format': 'PDF 1.6', 'keywords': '', 'modDate': \"D:20180928211958+08'00'\", 'page': 430, 'producer': 'Adobe PDF Library 15.0', 'source': 'D:\\\\WorkSpace\\\\llama2/DB/Process/source\\\\2018年  云计算和人工智能产业应用白皮书【450页】.pdf', 'subject': '', 'title': '', 'total_pages': 450, 'trapped': ''}\n",
      "{'author': 'Chang Zhao', 'creationDate': \"D:20180509100948+08'00'\", 'creator': 'Microsoft® PowerPoint® 2016', 'file_path': 'D:\\\\WorkSpace\\\\llama2/DB/Process/source\\\\2018年  2018人工智能行业创新情报白皮书【136页】.pdf', 'format': 'PDF 1.7', 'keywords': '', 'modDate': \"D:20180509100948+08'00'\", 'page': 69, 'producer': 'Microsoft® PowerPoint® 2016', 'source': 'D:\\\\WorkSpace\\\\llama2/DB/Process/source\\\\2018年  2018人工智能行业创新情报白皮书【136页】.pdf', 'subject': '', 'title': 'PowerPoint 演示文稿', 'total_pages': 136, 'trapped': ''}\n",
      "{'author': 'Chang Zhao', 'creationDate': \"D:20180509100948+08'00'\", 'creator': 'Microsoft® PowerPoint® 2016', 'file_path': 'D:\\\\WorkSpace\\\\llama2/DB/Process/source\\\\2018年  2018人工智能行业创新情报白皮书【136页】.pdf', 'format': 'PDF 1.7', 'keywords': '', 'modDate': \"D:20180509100948+08'00'\", 'page': 69, 'producer': 'Microsoft® PowerPoint® 2016', 'source': 'D:\\\\WorkSpace\\\\llama2/DB/Process/source\\\\2018年  2018人工智能行业创新情报白皮书【136页】.pdf', 'subject': '', 'title': 'PowerPoint 演示文稿', 'total_pages': 136, 'trapped': ''}\n",
      "{'author': 'BJB218USER', 'creationDate': \"D:20220121113127+08'00'\", 'creator': 'Microsoft® PowerPoint® 2019', 'file_path': 'D:\\\\WorkSpace\\\\llama2/DB/Process/source\\\\2022年  【99页】艾瑞咨询：中国人工智能产业研究报告（Ⅳ）.pdf', 'format': 'PDF 1.7', 'keywords': '', 'modDate': \"D:20220121113127+08'00'\", 'page': 1, 'producer': 'Microsoft® PowerPoint® 2019', 'source': 'D:\\\\WorkSpace\\\\llama2/DB/Process/source\\\\2022年  【99页】艾瑞咨询：中国人工智能产业研究报告（Ⅳ）.pdf', 'subject': '', 'title': '幻灯片 1', 'total_pages': 99, 'trapped': ''}\n",
      "{'author': 'BJB218USER', 'creationDate': \"D:20220121113127+08'00'\", 'creator': 'Microsoft® PowerPoint® 2019', 'file_path': 'D:\\\\WorkSpace\\\\llama2/DB/Process/source\\\\2022年  【99页】艾瑞咨询：中国人工智能产业研究报告（Ⅳ）.pdf', 'format': 'PDF 1.7', 'keywords': '', 'modDate': \"D:20220121113127+08'00'\", 'page': 1, 'producer': 'Microsoft® PowerPoint® 2019', 'source': 'D:\\\\WorkSpace\\\\llama2/DB/Process/source\\\\2022年  【99页】艾瑞咨询：中国人工智能产业研究报告（Ⅳ）.pdf', 'subject': '', 'title': '幻灯片 1', 'total_pages': 99, 'trapped': ''}\n",
      "{'author': 'BJB218USER', 'creationDate': \"D:20181115123130+08'00'\", 'creator': 'Microsoft® PowerPoint® 2016', 'file_path': 'D:\\\\WorkSpace\\\\llama2/DB/Process/source\\\\2018年中国人工智能+金融行业研究报告.pdf', 'format': 'PDF 1.5', 'keywords': '', 'modDate': \"D:20181115123130+08'00'\", 'page': 42, 'producer': 'Microsoft® PowerPoint® 2016', 'source': 'D:\\\\WorkSpace\\\\llama2/DB/Process/source\\\\2018年中国人工智能+金融行业研究报告.pdf', 'subject': '', 'title': '幻灯片 1', 'total_pages': 48, 'trapped': ''}\n",
      "{'author': 'BJB218USER', 'creationDate': \"D:20181115123130+08'00'\", 'creator': 'Microsoft® PowerPoint® 2016', 'file_path': 'D:\\\\WorkSpace\\\\llama2/DB/Process/source\\\\2018年中国人工智能+金融行业研究报告.pdf', 'format': 'PDF 1.5', 'keywords': '', 'modDate': \"D:20181115123130+08'00'\", 'page': 42, 'producer': 'Microsoft® PowerPoint® 2016', 'source': 'D:\\\\WorkSpace\\\\llama2/DB/Process/source\\\\2018年中国人工智能+金融行业研究报告.pdf', 'subject': '', 'title': '幻灯片 1', 'total_pages': 48, 'trapped': ''}\n",
      "{'author': '', 'creationDate': '', 'creator': '', 'file_path': 'D:\\\\WorkSpace\\\\llama2/DB/Process/source\\\\2019年  新一代人工智能产业白皮书：主要应用场景研判-200114.pdf', 'format': 'PDF 1.7', 'keywords': '', 'modDate': \"D:20200515121112+08'00'\", 'page': 2, 'producer': '3-Heights(TM) PDF Optimization Shell 5.9.1.5 (http://www.pdf-tools.com); modified using iTextSharp 5.2.1 (c) 1T3XT BVBA', 'source': 'D:\\\\WorkSpace\\\\llama2/DB/Process/source\\\\2019年  新一代人工智能产业白皮书：主要应用场景研判-200114.pdf', 'subject': '', 'title': '中国电子学会-2019新一代人工智能产业白皮书：主要应用场景研判-200114.pdf', 'total_pages': 50, 'trapped': 'False'}\n",
      "{'author': '', 'creationDate': '', 'creator': '', 'file_path': 'D:\\\\WorkSpace\\\\llama2/DB/Process/source\\\\2019年  新一代人工智能产业白皮书：主要应用场景研判-200114.pdf', 'format': 'PDF 1.7', 'keywords': '', 'modDate': \"D:20200515121112+08'00'\", 'page': 2, 'producer': '3-Heights(TM) PDF Optimization Shell 5.9.1.5 (http://www.pdf-tools.com); modified using iTextSharp 5.2.1 (c) 1T3XT BVBA', 'source': 'D:\\\\WorkSpace\\\\llama2/DB/Process/source\\\\2019年  新一代人工智能产业白皮书：主要应用场景研判-200114.pdf', 'subject': '', 'title': '中国电子学会-2019新一代人工智能产业白皮书：主要应用场景研判-200114.pdf', 'total_pages': 50, 'trapped': 'False'}\n",
      "{'author': 'lidin', 'creationDate': \"D:20190422151016+08'00'\", 'creator': '', 'file_path': 'D:\\\\WorkSpace\\\\llama2/DB/Process/source\\\\2019年  中国人工智能专利发展专题报告.pdf', 'format': 'PDF 1.7', 'keywords': '', 'modDate': \"D:20190422151040+08'00'\", 'page': 58, 'producer': 'Microsoft: Print To PDF', 'source': 'D:\\\\WorkSpace\\\\llama2/DB/Process/source\\\\2019年  中国人工智能专利发展专题报告.pdf', 'subject': '', 'title': 'Microsoft Word - ä¸Łåł½äººå·¥æŽºè…½ä¸fiå‹©å‘‚å±Łä¸fié¢Ÿæ−¥å‚−V10_20190418(1)', 'total_pages': 60, 'trapped': ''}\n",
      "{'author': 'lidin', 'creationDate': \"D:20190422151016+08'00'\", 'creator': '', 'file_path': 'D:\\\\WorkSpace\\\\llama2/DB/Process/source\\\\2019年  中国人工智能专利发展专题报告.pdf', 'format': 'PDF 1.7', 'keywords': '', 'modDate': \"D:20190422151040+08'00'\", 'page': 58, 'producer': 'Microsoft: Print To PDF', 'source': 'D:\\\\WorkSpace\\\\llama2/DB/Process/source\\\\2019年  中国人工智能专利发展专题报告.pdf', 'subject': '', 'title': 'Microsoft Word - ä¸Łåł½äººå·¥æŽºè…½ä¸fiå‹©å‘‚å±Łä¸fié¢Ÿæ−¥å‚−V10_20190418(1)', 'total_pages': 60, 'trapped': ''}\n",
      "{'author': '', 'creationDate': \"D:20200921204445+08'00'\", 'creator': '', 'encryption': 'Standard V5 R6 256-bit AES', 'file_path': 'D:\\\\WorkSpace\\\\llama2/DB/Process/source\\\\2020年  中国电子学会&商汤-新一代人工智能白皮书-2020.9-46页.pdf', 'format': 'PDF 1.4', 'keywords': '', 'modDate': \"D:20201012102719+08'00'\", 'page': 9, 'producer': 'PDFdo.com  5.5.6.0', 'source': 'D:\\\\WorkSpace\\\\llama2/DB/Process/source\\\\2020年  中国电子学会&商汤-新一代人工智能白皮书-2020.9-46页.pdf', 'subject': '', 'title': '', 'total_pages': 46, 'trapped': ''}\n",
      "{'author': '', 'creationDate': \"D:20200921204445+08'00'\", 'creator': '', 'encryption': 'Standard V5 R6 256-bit AES', 'file_path': 'D:\\\\WorkSpace\\\\llama2/DB/Process/source\\\\2020年  中国电子学会&商汤-新一代人工智能白皮书-2020.9-46页.pdf', 'format': 'PDF 1.4', 'keywords': '', 'modDate': \"D:20201012102719+08'00'\", 'page': 9, 'producer': 'PDFdo.com  5.5.6.0', 'source': 'D:\\\\WorkSpace\\\\llama2/DB/Process/source\\\\2020年  中国电子学会&商汤-新一代人工智能白皮书-2020.9-46页.pdf', 'subject': '', 'title': '', 'total_pages': 46, 'trapped': ''}\n"
     ]
    }
   ],
   "source": [
    "for doc in docs:# 来源\n",
    "    print(doc.metadata)\n"
   ]
  },
  {
   "cell_type": "markdown",
   "metadata": {},
   "source": [
    "##### LLM压缩检索"
   ]
  },
  {
   "cell_type": "code",
   "execution_count": null,
   "metadata": {},
   "outputs": [],
   "source": [
    "# from langchain.retrievers import ContextualCompressionRetriever\n",
    "# from langchain.retrievers.document_compressors import LLMChainExtractor\n",
    "# from langchain.llms import OpenAI\n",
    "# from langchain.retrievers.self_query.base import SelfQueryRetriever\n",
    "# from langchain.chains.query_constructor.base import AttributeInfo\n",
    " \n",
    "# #定义元数据的过滤条件\n",
    "# metadata_field_info = [\n",
    "#     AttributeInfo(\n",
    "#         name=\"source\",\n",
    "#         description=\"The lecture the chunk is from, should be one of `docs/cs229_lectures/MachineLearning-Lecture01.pdf`, `docs/cs229_lectures/MachineLearning-Lecture02.pdf`, or `docs/cs229_lectures/MachineLearning-Lecture03.pdf`\",\n",
    "#         type=\"string\",\n",
    "#     ),\n",
    "#     AttributeInfo(\n",
    "#         name=\"page\",\n",
    "#         description=\"The page from the lecture\",\n",
    "#         type=\"integer\",\n",
    "#     ),\n",
    "# ]\n",
    " \n",
    "# #创建SelfQueryRetriever\n",
    "# document_content_description = \"Lecture notes\"\n",
    "# llm = OpenAI(temperature=0)\n",
    "# retriever = SelfQueryRetriever.from_llm(\n",
    "#     llm,\n",
    "#     db,\n",
    "#     document_content_description,\n",
    "#     metadata_field_info,\n",
    "#     verbose=True\n",
    "# )\n",
    "# def pretty_print_docs(docs):\n",
    "#     print(f\"\\n{'-' * 100}\\n\".join([f\"Document {i+1}:\\n\\n\" + d.page_content for i, d in enumerate(docs)]))\n",
    "    \n",
    "# # Wrap our vectorstore\n",
    "# llm = OpenAI(temperature=0)\n",
    "# compressor = LLMChainExtractor.from_llm(llm)\n",
    " \n",
    "# compression_retriever = ContextualCompressionRetriever(\n",
    "#     base_compressor=compressor,\n",
    "#     base_retriever=db.as_retriever()\n",
    "# )\n",
    "\n",
    "# question = \"what did they say about matlab?\"\n",
    "# compressed_docs = compression_retriever.get_relevant_documents(question)\n",
    "# pretty_print_docs(compressed_docs)"
   ]
  },
  {
   "cell_type": "markdown",
   "metadata": {},
   "source": [
    "#### 加载模型"
   ]
  },
  {
   "cell_type": "code",
   "execution_count": null,
   "metadata": {},
   "outputs": [
    {
     "data": {
      "application/vnd.jupyter.widget-view+json": {
       "model_id": "89516e2b587e464eab89b4f06ce9e5f8",
       "version_major": 2,
       "version_minor": 0
      },
      "text/plain": [
       "Loading checkpoint shards:   0%|          | 0/2 [00:00<?, ?it/s]"
      ]
     },
     "metadata": {},
     "output_type": "display_data"
    }
   ],
   "source": [
    "from langchain.chains import RetrievalQA\n",
    "from langchain.embeddings.huggingface import HuggingFaceEmbeddings\n",
    "from langchain import HuggingFacePipeline\n",
    "embeddings = HuggingFaceEmbeddings(model_name=embeddings_model_name)\n",
    "model = HuggingFacePipeline.from_model_id(model_id=model_path,\n",
    "        task=\"text-generation\",\n",
    "        device=0,\n",
    "        pipeline_kwargs={\n",
    "            \"max_new_tokens\": 4096, \n",
    "            \"do_sample\": True,\n",
    "            \"temperature\": 0.2,\n",
    "            \"top_k\": 1,\n",
    "            \"top_p\": 0.9,\n",
    "            \"repetition_penalty\": 1.1},\n",
    "        model_kwargs={\n",
    "            \"torch_dtype\": \"auto\",\n",
    "            \"low_cpu_mem_usage\": True}\n",
    "        )"
   ]
  },
  {
   "cell_type": "markdown",
   "metadata": {},
   "source": [
    "##### 定义目标模板"
   ]
  },
  {
   "cell_type": "code",
   "execution_count": null,
   "metadata": {},
   "outputs": [],
   "source": [
    "qa_chain_refine = RetrievalQA.from_chain_type(\n",
    "    model,\n",
    "    retriever=db.as_retriever(search_kwargs={\"k\": 20}),\n",
    "    chain_type=\"refine\"\n",
    ")\n",
    " \n",
    "result = qa_chain_refine({\"query\": refine_query})\n",
    "result[\"result\"]\n"
   ]
  },
  {
   "cell_type": "markdown",
   "metadata": {},
   "source": [
    "### 整理回答"
   ]
  },
  {
   "cell_type": "markdown",
   "metadata": {},
   "source": [
    "#### 数据解析器"
   ]
  },
  {
   "cell_type": "code",
   "execution_count": null,
   "metadata": {},
   "outputs": [
    {
     "name": "stdout",
     "output_type": "stream",
     "text": [
      " 以下是人工智能的突破性技术列表：\n",
      "\n",
      "- 机器学习（Machine Learning）：通过训练模型来识别模式和做出决策的能力。\n",
      "- 自然语言处理（Natural Language Processing）：使计算机能够理解、分析和生成人类语言的技术。\n",
      "- 深度学习（Deep Learning）：一种基于神经网络的学习方法，可以自动提取特征并将其用于分类或预测任务。\n",
      "- 计算机视觉（Computer Vision）：让计算机能够感知和理解图像和视频的能力。\n",
      "- 强化学习（Reinforcement Learning）：通过与环境互动来学习最优策略的方法。\n",
      "- 语音识别（Speech Recognition）：将人类语音转换为可理解的形式的能力。\n",
      "- 机器人学（Robotics）：研究如何设计、制造和控制智能机器的行为和动作。\n"
     ]
    },
    {
     "ename": "OutputParserException",
     "evalue": "Got invalid JSON object. Error: Expecting value: line 1 column 1 (char 0)",
     "output_type": "error",
     "traceback": [
      "\u001b[1;31m---------------------------------------------------------------------------\u001b[0m",
      "\u001b[1;31mJSONDecodeError\u001b[0m                           Traceback (most recent call last)",
      "File \u001b[1;32md:\\ProgramData\\anaconda3\\Lib\\site-packages\\langchain\\output_parsers\\json.py:154\u001b[0m, in \u001b[0;36mparse_and_check_json_markdown\u001b[1;34m(text, expected_keys)\u001b[0m\n\u001b[0;32m    153\u001b[0m \u001b[39mtry\u001b[39;00m:\n\u001b[1;32m--> 154\u001b[0m     json_obj \u001b[39m=\u001b[39m parse_json_markdown(text)\n\u001b[0;32m    155\u001b[0m \u001b[39mexcept\u001b[39;00m json\u001b[39m.\u001b[39mJSONDecodeError \u001b[39mas\u001b[39;00m e:\n",
      "File \u001b[1;32md:\\ProgramData\\anaconda3\\Lib\\site-packages\\langchain\\output_parsers\\json.py:136\u001b[0m, in \u001b[0;36mparse_json_markdown\u001b[1;34m(json_string, parser)\u001b[0m\n\u001b[0;32m    135\u001b[0m \u001b[39m# Parse the JSON string into a Python dictionary\u001b[39;00m\n\u001b[1;32m--> 136\u001b[0m parsed \u001b[39m=\u001b[39m parser(json_str)\n\u001b[0;32m    138\u001b[0m \u001b[39mreturn\u001b[39;00m parsed\n",
      "File \u001b[1;32md:\\ProgramData\\anaconda3\\Lib\\json\\__init__.py:346\u001b[0m, in \u001b[0;36mloads\u001b[1;34m(s, cls, object_hook, parse_float, parse_int, parse_constant, object_pairs_hook, **kw)\u001b[0m\n\u001b[0;32m    343\u001b[0m \u001b[39mif\u001b[39;00m (\u001b[39mcls\u001b[39m \u001b[39mis\u001b[39;00m \u001b[39mNone\u001b[39;00m \u001b[39mand\u001b[39;00m object_hook \u001b[39mis\u001b[39;00m \u001b[39mNone\u001b[39;00m \u001b[39mand\u001b[39;00m\n\u001b[0;32m    344\u001b[0m         parse_int \u001b[39mis\u001b[39;00m \u001b[39mNone\u001b[39;00m \u001b[39mand\u001b[39;00m parse_float \u001b[39mis\u001b[39;00m \u001b[39mNone\u001b[39;00m \u001b[39mand\u001b[39;00m\n\u001b[0;32m    345\u001b[0m         parse_constant \u001b[39mis\u001b[39;00m \u001b[39mNone\u001b[39;00m \u001b[39mand\u001b[39;00m object_pairs_hook \u001b[39mis\u001b[39;00m \u001b[39mNone\u001b[39;00m \u001b[39mand\u001b[39;00m \u001b[39mnot\u001b[39;00m kw):\n\u001b[1;32m--> 346\u001b[0m     \u001b[39mreturn\u001b[39;00m _default_decoder\u001b[39m.\u001b[39mdecode(s)\n\u001b[0;32m    347\u001b[0m \u001b[39mif\u001b[39;00m \u001b[39mcls\u001b[39m \u001b[39mis\u001b[39;00m \u001b[39mNone\u001b[39;00m:\n",
      "File \u001b[1;32md:\\ProgramData\\anaconda3\\Lib\\json\\decoder.py:337\u001b[0m, in \u001b[0;36mJSONDecoder.decode\u001b[1;34m(self, s, _w)\u001b[0m\n\u001b[0;32m    333\u001b[0m \u001b[39m\u001b[39m\u001b[39m\"\"\"Return the Python representation of ``s`` (a ``str`` instance\u001b[39;00m\n\u001b[0;32m    334\u001b[0m \u001b[39mcontaining a JSON document).\u001b[39;00m\n\u001b[0;32m    335\u001b[0m \n\u001b[0;32m    336\u001b[0m \u001b[39m\"\"\"\u001b[39;00m\n\u001b[1;32m--> 337\u001b[0m obj, end \u001b[39m=\u001b[39m \u001b[39mself\u001b[39m\u001b[39m.\u001b[39mraw_decode(s, idx\u001b[39m=\u001b[39m_w(s, \u001b[39m0\u001b[39m)\u001b[39m.\u001b[39mend())\n\u001b[0;32m    338\u001b[0m end \u001b[39m=\u001b[39m _w(s, end)\u001b[39m.\u001b[39mend()\n",
      "File \u001b[1;32md:\\ProgramData\\anaconda3\\Lib\\json\\decoder.py:355\u001b[0m, in \u001b[0;36mJSONDecoder.raw_decode\u001b[1;34m(self, s, idx)\u001b[0m\n\u001b[0;32m    354\u001b[0m \u001b[39mexcept\u001b[39;00m \u001b[39mStopIteration\u001b[39;00m \u001b[39mas\u001b[39;00m err:\n\u001b[1;32m--> 355\u001b[0m     \u001b[39mraise\u001b[39;00m JSONDecodeError(\u001b[39m\"\u001b[39m\u001b[39mExpecting value\u001b[39m\u001b[39m\"\u001b[39m, s, err\u001b[39m.\u001b[39mvalue) \u001b[39mfrom\u001b[39;00m \u001b[39mNone\u001b[39;00m\n\u001b[0;32m    356\u001b[0m \u001b[39mreturn\u001b[39;00m obj, end\n",
      "\u001b[1;31mJSONDecodeError\u001b[0m: Expecting value: line 1 column 1 (char 0)",
      "\nDuring handling of the above exception, another exception occurred:\n",
      "\u001b[1;31mOutputParserException\u001b[0m                     Traceback (most recent call last)",
      "Cell \u001b[1;32mIn[36], line 27\u001b[0m\n\u001b[0;32m     25\u001b[0m output \u001b[39m=\u001b[39m model(_input\u001b[39m.\u001b[39mto_string())\n\u001b[0;32m     26\u001b[0m \u001b[39mprint\u001b[39m(output)\n\u001b[1;32m---> 27\u001b[0m output_parser\u001b[39m.\u001b[39mparse(output)\n",
      "File \u001b[1;32md:\\ProgramData\\anaconda3\\Lib\\site-packages\\langchain\\output_parsers\\structured.py:95\u001b[0m, in \u001b[0;36mStructuredOutputParser.parse\u001b[1;34m(self, text)\u001b[0m\n\u001b[0;32m     93\u001b[0m \u001b[39mdef\u001b[39;00m \u001b[39mparse\u001b[39m(\u001b[39mself\u001b[39m, text: \u001b[39mstr\u001b[39m) \u001b[39m-\u001b[39m\u001b[39m>\u001b[39m Any:\n\u001b[0;32m     94\u001b[0m     expected_keys \u001b[39m=\u001b[39m [rs\u001b[39m.\u001b[39mname \u001b[39mfor\u001b[39;00m rs \u001b[39min\u001b[39;00m \u001b[39mself\u001b[39m\u001b[39m.\u001b[39mresponse_schemas]\n\u001b[1;32m---> 95\u001b[0m     \u001b[39mreturn\u001b[39;00m parse_and_check_json_markdown(text, expected_keys)\n",
      "File \u001b[1;32md:\\ProgramData\\anaconda3\\Lib\\site-packages\\langchain\\output_parsers\\json.py:156\u001b[0m, in \u001b[0;36mparse_and_check_json_markdown\u001b[1;34m(text, expected_keys)\u001b[0m\n\u001b[0;32m    154\u001b[0m     json_obj \u001b[39m=\u001b[39m parse_json_markdown(text)\n\u001b[0;32m    155\u001b[0m \u001b[39mexcept\u001b[39;00m json\u001b[39m.\u001b[39mJSONDecodeError \u001b[39mas\u001b[39;00m e:\n\u001b[1;32m--> 156\u001b[0m     \u001b[39mraise\u001b[39;00m OutputParserException(\u001b[39mf\u001b[39m\u001b[39m\"\u001b[39m\u001b[39mGot invalid JSON object. Error: \u001b[39m\u001b[39m{\u001b[39;00me\u001b[39m}\u001b[39;00m\u001b[39m\"\u001b[39m)\n\u001b[0;32m    157\u001b[0m \u001b[39mfor\u001b[39;00m key \u001b[39min\u001b[39;00m expected_keys:\n\u001b[0;32m    158\u001b[0m     \u001b[39mif\u001b[39;00m key \u001b[39mnot\u001b[39;00m \u001b[39min\u001b[39;00m json_obj:\n",
      "\u001b[1;31mOutputParserException\u001b[0m: Got invalid JSON object. Error: Expecting value: line 1 column 1 (char 0)"
     ]
    }
   ],
   "source": [
    "que =result[\"result\"]\n",
    "\n",
    "initial_qa_template = (\n",
    "    \"[INST] <<SYS>>\\n\"\n",
    "    \"You are a helpful assistant. 你是一个乐于助人的助手。\\n\"\n",
    "    \"<</SYS>>\\n\\n\"\n",
    "    \"以下为背景知识：\\n\"\n",
    "    \"{context_str}\"\n",
    "    \"\\n\"\n",
    "    \"{format_instructions}\"\n",
    "    \"\\n\"\n",
    "    \"请根据以上背景知识, 回答这个问题：{question}。\"\n",
    "    \" [/INST]\"\n",
    ")\n",
    "\n",
    "\n",
    "output_parser = StructuredOutputParser.from_response_schemas(response_schemas)\n",
    "format_instructions = output_parser.get_format_instructions()\n",
    "prompt = PromptTemplate(\n",
    "    template=initial_qa_template,\n",
    "    input_variables=[\"question\"],\n",
    "    partial_variables={\"format_instructions\": format_instructions,\"context_str\":que}\n",
    ")\n",
    "_input = prompt.format_prompt(question=summary_query)\n",
    "output = model(_input.to_string())\n",
    "print(output)\n",
    "output_parser.parse(output)\n",
    " "
   ]
  },
  {
   "cell_type": "code",
   "execution_count": null,
   "metadata": {},
   "outputs": [],
   "source": []
  }
 ],
 "metadata": {
  "kernelspec": {
   "display_name": "llama",
   "language": "python",
   "name": "python3"
  },
  "language_info": {
   "codemirror_mode": {
    "name": "ipython",
    "version": 3
   },
   "file_extension": ".py",
   "mimetype": "text/x-python",
   "name": "python",
   "nbconvert_exporter": "python",
   "pygments_lexer": "ipython3",
   "version": "3.10.12"
  },
  "orig_nbformat": 4
 },
 "nbformat": 4,
 "nbformat_minor": 2
}
