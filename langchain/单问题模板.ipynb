{
 "cells": [
  {
   "cell_type": "markdown",
   "metadata": {},
   "source": [
    "#### 导入库"
   ]
  },
  {
   "cell_type": "code",
   "execution_count": 1,
   "metadata": {},
   "outputs": [],
   "source": [
    "from langchain.document_loaders import UnstructuredFileLoader\n",
    "from langchain.text_splitter import RecursiveCharacterTextSplitter\n",
    "from langchain.embeddings.huggingface import HuggingFaceEmbeddings\n",
    "from langchain.vectorstores import FAISS\n",
    "from langchain.embeddings import HuggingFaceEmbeddings\n",
    "from langchain.vectorstores import Chroma\n",
    "import chromadb\n",
    "from langchain.output_parsers import StructuredOutputParser, ResponseSchema\n",
    "from langchain.prompts import PromptTemplate, ChatPromptTemplate, HumanMessagePromptTemplate\n",
    "from langchain.llms import OpenAI\n",
    "from langchain.chat_models import ChatOpenAI\n",
    "import os\n",
    "import sys\n",
    "os.environ['CUDA_VISIBLE_DEVICES'] = \"3\"\n"
   ]
  },
  {
   "cell_type": "markdown",
   "metadata": {},
   "source": [
    "#### 文档加载&切分&检索"
   ]
  },
  {
   "cell_type": "code",
   "execution_count": 2,
   "metadata": {},
   "outputs": [
    {
     "name": "stdout",
     "output_type": "stream",
     "text": [
      "python: can't open file '/home/linjw/AGI/llama2/langchain/ingest.py': [Errno 2] No such file or directory\n"
     ]
    }
   ],
   "source": [
    "! python ingest.py # 命令行 python3 ./DB/Process/ingest.py 制作向量数据库"
   ]
  },
  {
   "cell_type": "code",
   "execution_count": 3,
   "metadata": {},
   "outputs": [],
   "source": [
    "### 文档查询 去向量数据库匹配相关代码\n",
    "doc_query = \"人工智能 突破技术 未来技术 塑造未来 革命 新一代技术 未来产业\"\n",
    "\n",
    "\n",
    "### 递归总结, 根据查询出来的向量数据库相关片段 循环输入进llm进行要素提取\n",
    "refine_query = \"\"\"\n",
    "根据获取的信息，总结并提炼出人工智能的突破性技术：\n",
    "1. 技术1: [描述]\n",
    "2. 技术2: [描述]\n",
    "3. 技术3: [描述]\n",
    "4. 技术4: [描述]\n",
    "5. 技术5: [描述]\n",
    "6. 技术6: [描述]\n",
    "7. 技术7: [描述]\n",
    "8. 技术8: [描述]\n",
    "9. 技术9: [描述]\n",
    "10. 技术10: [描述]\n",
    "\"\"\"\n",
    "\n",
    "\n",
    "# 最终总结输出 总结递归的最后输出\n",
    "summary_query = \"\"\"在已知的信息中，确定并列出人工智能的突破性技术\"\"\"\n",
    "\n",
    "\n",
    "# 回答模板 将summary_query的输出格式化为对象\n",
    "response_schemas = [\n",
    "    ResponseSchema(name=\"技术1\", description=\"技术1的简要描述\"),\n",
    "    ResponseSchema(name=\"技术2\", description=\"技术2的简要描述\"),\n",
    "    ResponseSchema(name=\"技术3\", description=\"技术3的简要描述\"),\n",
    "    ResponseSchema(name=\"技术4\", description=\"技术4的简要描述\"),\n",
    "    ResponseSchema(name=\"技术5\", description=\"技术5的简要描述\"),\n",
    "    ResponseSchema(name=\"技术6\", description=\"技术1的简要描述\"),\n",
    "    ResponseSchema(name=\"技术7\", description=\"技术2的简要描述\"),\n",
    "    ResponseSchema(name=\"技术8\", description=\"技术3的简要描述\"),\n",
    "    ResponseSchema(name=\"技术9\", description=\"技术4的简要描述\"),\n",
    "    ResponseSchema(name=\"技术10\", description=\"技术5的简要描述\"),\n",
    "]\n"
   ]
  },
  {
   "cell_type": "code",
   "execution_count": 4,
   "metadata": {},
   "outputs": [],
   "source": [
    "sys.path.append(os.path.dirname(os.path.realpath('__file__'))+\"/../\")\n",
    "import config.conf as cfg\n",
    "from chromadb.config import Settings\n",
    "\n",
    "# Define the folder for storing database\n",
    "PERSIST_DIRECTORY = cfg.PERSIST_DIRECTORY.replace(\"/langchain\",\"\")\n",
    "# Define the Chroma settings\n",
    "CHROMA_SETTINGS = Settings(\n",
    "        persist_directory=PERSIST_DIRECTORY,\n",
    "        anonymized_telemetry=False\n",
    ")\n",
    "\n",
    "embeddings_model_name = cfg.EMBEDDINGS_MODEL_NAME.replace(\"/langchain\",\"\")\n",
    "persist_directory = cfg.PERSIST_DIRECTORY.replace(\"/langchain\",\"\")\n",
    "model_path = cfg.MODEL_PATH.replace(\"/langchain\",\"\")\n",
    "model_n_ctx = cfg.MODEL_N_CTX\n",
    "model_n_batch = cfg.MODEL_N_BATCH\n",
    "target_source_chunks = 4\n",
    "embeddings = HuggingFaceEmbeddings(model_name=embeddings_model_name)\n",
    "chroma_client = chromadb.PersistentClient(settings=CHROMA_SETTINGS , path=persist_directory)\n",
    "db = Chroma(persist_directory=persist_directory, embedding_function=embeddings, client_settings=CHROMA_SETTINGS, client=chroma_client)"
   ]
  },
  {
   "cell_type": "code",
   "execution_count": 5,
   "metadata": {},
   "outputs": [
    {
     "data": {
      "text/plain": [
       "'/home/linjw/AGI/llama2/langchain/checkpoints/paraphrase-multilingual-MiniLM-L12-v2'"
      ]
     },
     "execution_count": 5,
     "metadata": {},
     "output_type": "execute_result"
    }
   ],
   "source": [
    "cfg.EMBEDDINGS_MODEL_NAME"
   ]
  },
  {
   "cell_type": "markdown",
   "metadata": {},
   "source": [
    "##### 普通检索"
   ]
  },
  {
   "cell_type": "code",
   "execution_count": 16,
   "metadata": {},
   "outputs": [],
   "source": [
    "retriever = db.as_retriever(search_type=\"mmr\",search_kwargs={\"k\": 20})\n",
    "\n",
    "# retriever = db.as_retriever(    \n",
    "#     search_type=\"mmr\",\n",
    "#     search_kwargs={'k': 20, 'lambda_mult': 0.25})\n"
   ]
  },
  {
   "cell_type": "code",
   "execution_count": 19,
   "metadata": {},
   "outputs": [
    {
     "data": {
      "text/plain": [
       "['their overall digital transformation maturity journey .\\n人工智能未来\\n已来，是机遇\\n还是挑战\\n人工智能产业近年来发展迅猛，渗透了各行各业，而新技术的革新往往\\n是一把“双刃剑”，在提升企业商业利益的同时也会带来一定的风险。\\n本报告对各行业领域中超过100家企业进行了调研，并根据整合的数据\\n进行了深度洞察分析，其中包括人工智能未来5年的用途和影响，以及\\n人工智能为企业带来的商业利益和风险。\\n大中华区人工智能成熟度调研\\n35',\n",
       " '01  <<\\n新一代人工智能产业白皮书（2019 年）\\n——主要应用场景研判\\n新一代人工智能作为全球新一轮科技和产业变革的关键驱动力，将进一步释放科技\\n革命和产业变革积蓄的巨大能量，持续探索新一代人工智能应用场景，将重构生产、分配、\\n交换、消费等经济活动各环节，催生新技术、新产品、新产业、新业态、新模式，形成\\n从宏观到微观各领域的智能化新需求，并创造新的经济发展的强大引擎，引发经济结构\\n重大变革，深刻改变人类生产生活方式和思维模式，实现社会生产力的整体跃升。\\n全球新一代人工智能产业依赖强大的技术创新积累优势，以谷歌、英特尔、微软、\\n亚马逊等跨国大型科技企业为主导，充分发挥其强大的资源整合能力与持续创新功能，\\n不断加快基础层底层技术研发与应用产品实践步伐，围绕智能硬件与软件核心算法产业\\n上下游进行有效部署。随着技术的不断成熟和底层技术框架的开源，吸引创新企业不断\\n涌入，推动产业规模持续加速增长。2018 年全球新一代人工智能产业规模超过 555.7 亿\\n美元，预计 2019 年产业规模将突破 718 亿美元，带动 2022 年产业规模将超过 1630.2',\n",
       " '27\\n人工智能未来发展洞察\\n全球趋势一：人工智能企业将以技术共享的方式\\n推动技术迭代\\n人工智能处于高速发展阶段，技术快速迭代，企\\n业研发新技术需要耗费大量的人力及时间成本，\\n变相减缓人工智能行业发展速度。因此，人工智\\n能企业将会结成发展联盟，共享彼此的专利技术，\\n共同推进AI通用技术发展，缩短人工智能行业进\\n入成熟期的时间。\\n全球趋势二：人工智能企业持续挖掘多元场景应\\n用，以期稳定市场期望值\\n根据Gartner人工智能技术成熟度曲线显示，有大\\n量人工智能应用技术步入泡沫破裂低谷期，但仅\\n需2-5年即可到达技术成熟期。造成这一现象的主\\n要原因是许多人工智能技术应用场景受限，难以\\n实现落地应用或其应用达不到市场预期效果，因\\n此导致整体预期值大幅下降。未来2-5年内，人工\\n智能企业的核心目标是不断优化技术，拓宽应用\\n场景，实现规模商业化，提升市场整体期望值。\\n全球趋势三：人工智能企业趋向泛领域化，避免\\n聚焦单一垂直赛道\\n结合人工智能共享化及拓场景化，2020年起人工\\n智能企业呈现出泛行业趋势。头部和初创企业均\\n开拓应用场景，避免聚焦单一垂直行业。例如科',\n",
       " '408 \\n \\n11.1.2 人工智能发展方向 \\n近几年，人工智能获得了越来越多的关注，正处于发展的黄金时期，被视为是\\n能够引发下一轮技术变革的引擎。由于信息技术已经度过了高速发展的时期，产业\\n发展也逐渐遭遇天花板，步入了同行竞争激烈、创新驱动力疲软的瓶颈阶段，亟待\\n下一次技术变革来打破这种局面。人工智能技术是当下新兴的互联网前沿科技，有\\n着无限潜力，而它作为一种基础技术，能够在各个行业中渗透，为这些传统产业赋\\n能，帮助实现产业的重塑，带来越来越多的发展机遇。 \\n至今，关于人工智能的研究和探索实际上已经进行了 60 多年，随着信息技术\\n发展成熟，人工智能技术的发展也逐渐步入黄金期。数据资源、计算力和深度学习\\n算法是人工智能的三大基本要素，而这三大要素近些年的突破也让人工智能的发展\\n站上了新的台阶，使得人工智能在自然语言处理、计算机视觉技术等各大细分领域\\n中表现得越来越突出，推动人工智能向更高层的感知发展，推动以人工智能技术为\\n底层技术的多种衍生技术或解决方案大规模落地，掀起人工智能热潮。 \\n虽然当前的人工智能技术无法在每个方面都表现出很强的智能，但是对于完成',\n",
       " '70\\n•\\n人工智能是历史和科技发展的必然趋势。在互联网时代，新的一波高新技术浪潮将会带动新的经济业态，灼识咨询预计未\\n来将有更多的行业投入人工智能的怀抱，不仅仅局限于本报告中所提及的零售、医疗、家居和汽车领域，对于投资者而\\n言，放宽思路、结合过去经验和对未来的展望，积极寻找新的行业独角兽或能取得新的高回报投资举动。\\n人工智能或将成为新的\\n行业独角兽\\n人工智能人才储备将成\\n为未来竞争关键\\n人工智能将在未来面对\\n更多的困难与挑战\\n•\\n人工智能领域的高速发展使得未来中国该领域的人才储备显得尤为重要。虽然中国在数据积累和传统工业等发面都有着\\n一定的优势，但整体人才储备、基础教育和科学成果落后于发达国家。这对于今后的基础研究、行业产业链、经济效益\\n等都会制造困难与阻碍，从而限制中国未来人工智能的发展。故，积极寻找和投资相关人才对于公司或国家都将是极有\\n利的措施。\\n•\\n人工智能为解放劳动力、释放生产力等方面都有着积极的贡献，但对于人口大国的中国，如何平衡好人工智能和人本身还\\n需要进一步的探索与把握。如今，还是有很多人持有“机器人将统治人类”的恐怖观点，这对于当今人类的道德标准、思',\n",
       " '2\\n序言\\n2020年，我们谈到，被纳入新基建范畴的人工智能技术已经广泛出现在决定企业产生经济效益的各个环\\n节，以人机协同模式为主导，推动传统行业启动效率变革、动能转换之路。人工智能作为创业企业标签的属\\n性在变弱，而越来越成为千行百业的经营主体都在积极尝试和运用的生产要素。2021年，作为智能化转型\\n的核心生产力，人工智能技术所带来的创新增量价值引人瞩目，产业应用规模不断突破，数字经济加速器的\\n产业地位逐步稳固。行业领先企业也多在算力、算法、数据三大基础层要素上做整体布局，加速推进人工智\\n能产业进入效率化、工业化生产阶段。\\n2021年，艾瑞连续第四年发布《中国人工智能产业研究报告》，这也是国家大力提倡发展数字经济、\\n细分赛道领先者提速上市，争相步入资本市场发展新阶段、人工智能产业持续增长的一年，人工智能产业经\\n济规模近2000亿元。本年度艾瑞除了持续更新计算机视觉、对话式AI、机器学习、自然语言处理与知识图\\n谱等各项技术的细分市场规模、探讨新兴应用场景或趋势外；在今年的研究报告中，我们希望探讨四大问',\n",
       " '43\\n©2018.11 iResearch Inc                                                                                                       \\nwww.iresearch.com.cn\\n人工智能+金融行业趋势展望\\n科技巨头与细分领域标杆共建生态，行业集中度提高\\n未来伴随着人工智能技术的进一步发展以及市场趋于理性与成熟，人工智能+金融行业将面临重新洗牌。一些打着人工智\\n能的旗号而没有实际核心技术研发能力的公司将被市场所淘汰，而真正具有人才优势、技术优势、数据优势以及场景流量\\n优势的企业将得以长期持续发展。未来行业将会呈现以互联网科技巨头、金融科技集团以及人工智能技术提供方为主要参\\n与主体的三足鼎立的局面。互联网科技巨头将发挥自身优势加大科技研发拓展更多的应用场景；金融科技集团将利用对于\\n金融业务的深入理解不断提升行业转型升级的速度；人工智能技术提供主体则将会集中在细分领域的头部企业，而中游的\\n企业则存在被科技巨头收购的可能。\\n来源：艾瑞咨询研究院自主研究及绘制。\\nAI+金融',\n",
       " '新一代人工智能产业应用驱动的特征愈加明显，从生产方式的智能化改造，生活水\\n平的智能化提升，到社会治理的智能化升级，都对新一代人工智能技术、产品、服务及\\n解决方案有着旺盛的需求。当前，新一代人工智能技术正加速在各行业深度融合和落地\\n应用，推动经济社会各领域从数字化、网络化向智能化加速跃升。基于此，中国电子学\\n会组织专门团队研究编制《新一代人工智能产业白皮书（2019 年）——主要应用场景研\\n判》，全面梳理了全球和我国新一代人工智能产业的发展现状，详细分析了基础层、技\\n术层和应用层的产业发展态势，并归纳出新一代人工智能产业的整体发展趋势，深入剖\\n析了新一代人工智能产业应用场景落地在网络环境、应用需求、智能化基础设施、计算\\n能力、内容升级五大关键因素，重点围绕公共领域的安全防护、金融机构的风险控制、\\n在线客服的标准化应答、医学影像的诊疗和预测性分析、零售门店的营销和供应链管理、\\n广告营销的场景识别、自主学习的学习管理和测评环节、城市管理的车辆管控和资源统\\n筹的应用趋势、商业价值及竞争态势进行研判，最后提出强化共性技术攻关、深化拓展',\n",
       " '竞争力、维护国家安全的重大战略，力图在国际科技竞争中掌握主导权。习近平\\n总书记在十九届中央政治局第九次集体学习时深刻指出，加快发展新一代人工智\\n能是事关我国能否抓住新一轮科技革命和产业变革机遇的战略问题。错失一个机\\n遇，就有可能错过整整一个时代。新一轮科技革命与产业变革已曙光可见，在这\\n场关乎前途命运的大赛场上，我们必须抢抓机遇、奋起直追、力争超越。 \\n \\n \\n \\n百一知识产权 \\n二〇一九年四月',\n",
       " '��\\n新一代人工智能白皮书（2020年）\\n当前，我国经济发展进入新阶段，既面临产业转型升级与重塑国际经济格局的机遇，也\\n面对传统要素红利衰减、经济增速换挡、经济结构失衡的挑战。传统的以规模扩张为特征的\\n数量型增长动力难以支撑新阶段高质量发展的要求,亟需培育经济增长新动能，实现效率提升\\n型的质量型增长。新一代人工智能是引领这一轮科技革命和产业变革的战略性技术，正在对\\n经济发展、社会进步、国际竞争格局等方面产生重大而深远的影响，加快发展新一代人工智\\n能是赢得全球科技竞争主动权的重要战略抓手，是推动科技跨越发展、产业优化升级、生产\\n力整体跃升的重要战略资源。\\n一、全球产业智能化升级的主要表现与特征\\n新一代人工智能与产业各领域、各环节深度融合，加速推动数据和知识成为经济增长的\\n第一要素，人机协同成为主流生产和服务方式，跨界融合成为重要发展模式，共创分享成为\\n经济生态的基本特征，持续引领产业向价值链高端迈进，加快推进产业智能化升级。\\n（一）全面提升经营效益\\n新一代人工智能加速渗透融入设计、生产、管理、物流和营销等核心环节，重构产业组织',\n",
       " '��\\n新一代人工智能白皮书（2020年）\\n当前，我国经济发展进入新阶段，既面临产业转型升级与重塑国际经济格局的机遇，也\\n面对传统要素红利衰减、经济增速换挡、经济结构失衡的挑战。传统的以规模扩张为特征的\\n数量型增长动力难以支撑新阶段高质量发展的要求,亟需培育经济增长新动能，实现效率提升\\n型的质量型增长。新一代人工智能是引领这一轮科技革命和产业变革的战略性技术，正在对\\n经济发展、社会进步、国际竞争格局等方面产生重大而深远的影响，加快发展新一代人工智\\n能是赢得全球科技竞争主动权的重要战略抓手，是推动科技跨越发展、产业优化升级、生产\\n力整体跃升的重要战略资源。\\n一、全球产业智能化升级的主要表现与特征\\n新一代人工智能与产业各领域、各环节深度融合，加速推动数据和知识成为经济增长的\\n第一要素，人机协同成为主流生产和服务方式，跨界融合成为重要发展模式，共创分享成为\\n经济生态的基本特征，持续引领产业向价值链高端迈进，加快推进产业智能化升级。\\n（一）全面提升经营效益\\n新一代人工智能加速渗透融入设计、生产、管理、物流和营销等核心环节，重构产业组织',\n",
       " '前言\\n当前，人工智能浪潮正在释放出巨大的创新能量，驱动人工智能技术从科研领域逐步向社\\n会经济落地演进，经过近几年的快速发展，很多人工智能细分技术已经进入产业化阶段。视\\n觉、语音等技术已经在特定场景下规模应用，在垂直领域和细分场景发挥重要价值，推动智能\\n应用的加速落地与千行百业颠覆性变革。可以预见，人工智能将作为新一轮科技革命和产业变\\n革的关键技术，将深刻改变人类社会的生产生活。\\n在人工智能驱动产业智能转型升级过程中，不同行业、企业对软件工具、智能技术、底层\\n硬件等多个环节均提出差异化需求，具备即时响应、敏捷开发、快速交付、持续迭代等能力的\\nAI中台架构成为有效解决方案和业界广泛共识。AI中台作为全栈式、集约化、自动化的生产力\\n工具箱，是实现AI技术在各行业中快速研发、共享复用和部署管理的智能化底座和关键基础设\\n施。本白皮书旨在深入剖析AI中台体系架构与内涵，探讨能力建设路径和行业赋能方案，以期\\n与业界分享，共同推动我国人工智能产业创新发展与行业智能化升级。',\n",
       " '雁”效应。加快发展新一代人工智能是我们赢得全球科技竞争主动权的重要战略抓手，是推\\n动我国科技跨越发展、产业优化升级、生产力整体跃升的重要战略资源。在此宏观背景下，\\n2016 年 5 月，国家发展改革委、科技部、工业和信息化部、中央网信办四部门联合印发了\\n《“互联网+”人工智能三年行动实施方案》的通知；2017 年 7 月，国务院印发的《新一代\\n人工智能发展规划的通知》；2017 年 12 月，工业和信息化部印发《促进新一代人工智能产\\n业发展三年行动计划（2018-2020 年）》的通知。在中央顶层制度设计的基础上，各地方政府\\n根据各区域产业发展实际需求，纷纷出台了相应的产业发展规划与政策指导意见，为人工智\\n能产业发展提供了良好的社会政策环境。 \\n（2）数字时代助力，广袤市场搭配先进信息技术，累积数据优势。数据是新一轮人工\\n智能的发展需要具备三大核心要素之一，丰富的市场数据量为人工智能应用的深化实践提供\\n了基础条件。随着我国迈入数字经济时代，互联网、云计算、大数据等现代信息技术在各领\\n域的持续深入，当前已积累了大量的消费级数据和企业级数据。据 IDC、希捷统计数据显示，',\n",
       " '雁”效应。加快发展新一代人工智能是我们赢得全球科技竞争主动权的重要战略抓手，是推\\n动我国科技跨越发展、产业优化升级、生产力整体跃升的重要战略资源。在此宏观背景下，\\n2016 年 5 月，国家发展改革委、科技部、工业和信息化部、中央网信办四部门联合印发了\\n《“互联网+”人工智能三年行动实施方案》的通知；2017 年 7 月，国务院印发的《新一代\\n人工智能发展规划的通知》；2017 年 12 月，工业和信息化部印发《促进新一代人工智能产\\n业发展三年行动计划（2018-2020 年）》的通知。在中央顶层制度设计的基础上，各地方政府\\n根据各区域产业发展实际需求，纷纷出台了相应的产业发展规划与政策指导意见，为人工智\\n能产业发展提供了良好的社会政策环境。 \\n（2）数字时代助力，广袤市场搭配先进信息技术，累积数据优势。数据是新一轮人工\\n智能的发展需要具备三大核心要素之一，丰富的市场数据量为人工智能应用的深化实践提供\\n了基础条件。随着我国迈入数字经济时代，互联网、云计算、大数据等现代信息技术在各领\\n域的持续深入，当前已积累了大量的消费级数据和企业级数据。据 IDC、希捷统计数据显示，',\n",
       " '前\\n言\\n当前，新一轮科技革命和产业变革深入发展，人工智能作为新一\\n代信息技术的重要发展方向，正在与 5G、云计算、大数据等数字技\\n术交织并进、融合创新，共同构筑起赋能千行百业的新型基础设施。\\n党中央、国务院高度重视人工智能等新型基础设施发展，习近平总书\\n记多次作出指示批示，强调要“加快传统基础设施和 5G、人工智能\\n等新型基础设施建设”。党的十九届五中全会指出“推动互联网、大数\\n据、人工智能等同各产业深度融合，推动先进制造业集群发展，构建\\n一批各具特色、优势互补、结构合理的战略性新兴产业增长引擎”。\\n加快打造具备先进水平的人工智能基础设施，是推动科技跨越发展、\\n产业优化升级、生产力整体跃升的重要抓手，对提升我国公共服务智\\n能化水平，助力培育数字经济、构建智能社会意义重大。\\n为更好地认识人工智能基础设施，推动其健康可持续发展，专委\\n会组织中国信息通信研究院政策与经济研究所、产业与规划研究所研\\n究团队，开展深入调查研究并形成本报告。主要包含以下内容：第一\\n部分探究了人工智能基础设施的内涵及范围；第二部分梳理并总结全\\n球主要国家及地区人工智能基础设施发展战略及特点；第三部分围绕',\n",
       " '2017年国务院印发的《新一代人工智能发展规划》中\\n提到：“人工智能作为新一轮产业变革的核心驱动力，\\n将进一步释放历次科技革命和产业变革积蓄的巨大能量，\\n并创造新的强大引擎，重构生产、分配、交换、消费等\\n经济活动各环节，形成从宏观到微观各领域的智能化新\\n需求，催生新技术、新产品、新产业、新业态、新模式，\\n引发经济结构重大变革，深刻改变人类生产生活方式和\\n思维模式，实现社会生产力的整体跃升”。\\n人工智能对于教育而言到底意味着什么？\\n从教育本身的发展阶段来看，教育正从以教师为核心的\\n模式走向以学生为核心的模式，这一转变的基础就是大\\n数据和人工智能，AI正让教育走向真正的个性化、规模\\n化和效率化，用AI技术培养人才已成为未来的趋势之一。\\n当然，人工智能时代对于教育的影响绝不仅仅是技术的\\n赋能，更有对人才培养方向和理念的影响。如何做好新\\n时代的人才培养在主要发达国家已上升至国家战略层面，\\n甚至与未来国际竞争力直接挂钩，中国、以色列等新兴\\n国家在市场反响和政策层面的重视程度也在逐步增加。\\n亿欧智库邀请华东师范大学考试与评价研究院及院长陈\\n玉琨教授作为学术指导，从技术和人才培养两个角度，',\n",
       " '2018年11月\\n《新一代人工智能产业创新重点任务揭榜\\n工作方案》\\n通过在人工智能主要细分领域，选拔领头羊、先锋队，树立标杆企业，培育创新发展的主力军，加快我国人工智能产业与实体经济深\\n度融合。\\n2019年3月\\n《2019年政府工作报告》\\n将人工智能升级为智能+，要推动传统产业改造提升，特别是要打造工业互联网平台，拓展“智能+”，为制造业转型升级赋能。要促\\n进新兴产业加快发展，深化大数据、人工智能等研发应用，培育新一代信息技术、高端装备、生物医药、新能源汽车、新材料等新兴\\n产业集群，壮大数字经济。\\n2019年3月\\n《关于促进人工智能和实体经济深度融合\\n的指导意见》\\n把握新一代人工智能的发展特点，结合不同行业、不同区域特点，探索创新成果应用转化的路径和方法，构建数据驱动、人机协同、\\n跨界融合、共创分享的智能经济形态。\\n2019年6月\\n《新一代人工智能治理原则——发展负责\\n任的人工智能》\\n突出了发展负责任的人工智能这一主题，强调了和谐友好、公平公正、包容共享、尊重隐私、安全可控、共担责任、开放协作、敏捷\\n治理等八条原则。\\n截至2019年7月国家层面人工智能政策汇总（二）',\n",
       " '我们认为，下一个阶段的人工智能将呈现“泛在智能”，即人工智能技术将广泛渗入新型基础设施建设，且获\\n得越来越多元的应用场景和更大规模的受众。\\n随着技术、算法、场景和人才的不断充实，人工智能正在渗透到各个领域，其商业应用也在不断催生出新业\\n态、新场景、新融合、新交互和新目标的出现。 \\n疫情期间自动驾驶应用崭露头角的背后，是自动驾驶商业化场景开始在国内外加速落地的结果，无人经济的概\\n念获得了新的诠释。\\n深度合成技术不断演进，朝着综合性的方向发展，泛娱乐和数字内容已然成为了深度合成应用的主场，数字虚\\n拟人受到市场青睐。\\n日益严重的食物、能源和水问题是当前人类所面临最重要的全球性难题，腾讯相信人工智能会在这些地球级的\\n挑战上发挥重要作用。\\n多层次的治理体系、敏捷灵活的治理方式更能适应人工智能所具有的快速发展迭代、日益复杂化等特征。\\n主要发现',\n",
       " '人工智能发展报告 2020 \\n1 \\n \\n1 前言 \\n人工智能在过去十年中从实验室走向产业化生产，重塑传统行业模式、引领\\n未来的价值已经凸显，并为全球经济和社会活动做出了不容忽视的贡献。 \\n当前，人工智能已经迎来其发展史上的第三次浪潮。人工智能理论和技术取\\n得了飞速发展，在语音识别、文本识别、视频识别等感知领域取得了突破，达到\\n或超过人类水准，成为引领新一轮科技革命和产业变革的战略性技术。人工智能\\n的应用领域也快速向多方向发展，出现在与人们日常生活息息相关的越来越多的\\n场景中。 \\n全球经济体都高度重视人工智能领域的科学技术研究和产业发展，不仅意识\\n到人工智能是各国新一轮经济竞争的核心驱动力，而且也都意识到能够推动技术\\n突破和创造性应用的高端人才对人工智能发展的至关重要作用。在中国，人工智\\n能相关的学院、研究院、企业组织在 2013、2014、2015 年左右如雨后春笋般接\\n连出现。政府、高校、企业各方都积极投入到人工智能的发展和应用中。 \\n对于人工智能的未来，人类有很大期待，也有很多争论。有人认为今后十年\\n人工智能将进入人类生活中每一个领域，为各行业赋能，将深刻改变世界的生产',\n",
       " '人工智能发展报告 2020 \\n1 \\n \\n1 前言 \\n人工智能在过去十年中从实验室走向产业化生产，重塑传统行业模式、引领\\n未来的价值已经凸显，并为全球经济和社会活动做出了不容忽视的贡献。 \\n当前，人工智能已经迎来其发展史上的第三次浪潮。人工智能理论和技术取\\n得了飞速发展，在语音识别、文本识别、视频识别等感知领域取得了突破，达到\\n或超过人类水准，成为引领新一轮科技革命和产业变革的战略性技术。人工智能\\n的应用领域也快速向多方向发展，出现在与人们日常生活息息相关的越来越多的\\n场景中。 \\n全球经济体都高度重视人工智能领域的科学技术研究和产业发展，不仅意识\\n到人工智能是各国新一轮经济竞争的核心驱动力，而且也都意识到能够推动技术\\n突破和创造性应用的高端人才对人工智能发展的至关重要作用。在中国，人工智\\n能相关的学院、研究院、企业组织在 2013、2014、2015 年左右如雨后春笋般接\\n连出现。政府、高校、企业各方都积极投入到人工智能的发展和应用中。 \\n对于人工智能的未来，人类有很大期待，也有很多争论。有人认为今后十年\\n人工智能将进入人类生活中每一个领域，为各行业赋能，将深刻改变世界的生产']"
      ]
     },
     "execution_count": 19,
     "metadata": {},
     "output_type": "execute_result"
    }
   ],
   "source": [
    "docs = retriever.get_relevant_documents(doc_query)\n",
    "[doc.page_content for doc in docs]"
   ]
  },
  {
   "cell_type": "code",
   "execution_count": 8,
   "metadata": {},
   "outputs": [
    {
     "name": "stdout",
     "output_type": "stream",
     "text": [
      "{'author': '', 'creationDate': \"D:20201022153906+08'00'\", 'creator': 'Adobe InDesign 15.0 (Windows)', 'file_path': '/home/linjw/AGI/llama2/DB/Process/source/2020年  大中华区人工智能成熟度调研——中国大陆，解码2020，展望数字未来-安永x微软.pdf', 'format': 'PDF 1.7', 'keywords': '', 'modDate': \"D:20201112143019+08'00'\", 'page': 34, 'producer': '99pdf.com', 'source': '/home/linjw/AGI/llama2/DB/Process/source/2020年  大中华区人工智能成熟度调研——中国大陆，解码2020，展望数字未来-安永x微软.pdf', 'subject': '', 'title': '', 'total_pages': 81, 'trapped': ''}\n",
      "{'author': '', 'creationDate': '', 'creator': '', 'file_path': '/home/linjw/AGI/llama2/DB/Process/source/2019年  新一代人工智能产业白皮书：主要应用场景研判-200114.pdf', 'format': 'PDF 1.7', 'keywords': '', 'modDate': \"D:20200515121112+08'00'\", 'page': 8, 'producer': '3-Heights(TM) PDF Optimization Shell 5.9.1.5 (http://www.pdf-tools.com); modified using iTextSharp 5.2.1 (c) 1T3XT BVBA', 'source': '/home/linjw/AGI/llama2/DB/Process/source/2019年  新一代人工智能产业白皮书：主要应用场景研判-200114.pdf', 'subject': '', 'title': '中国电子学会-2019新一代人工智能产业白皮书：主要应用场景研判-200114.pdf', 'total_pages': 50, 'trapped': 'False'}\n",
      "{'author': '', 'creationDate': '', 'creator': '', 'file_path': '/home/linjw/AGI/llama2/DB/Process/source/2020年  全球人工智能科技创新TOP50-2020-12-09.pdf', 'format': 'PDF 1.3', 'keywords': '', 'modDate': '', 'page': 26, 'producer': 'PyPDF2', 'source': '/home/linjw/AGI/llama2/DB/Process/source/2020年  全球人工智能科技创新TOP50-2020-12-09.pdf', 'subject': '', 'title': '', 'total_pages': 31, 'trapped': ''}\n",
      "{'author': 'jingpeng nie', 'creationDate': \"D:20180924171454+08'00'\", 'creator': 'Acrobat PDFMaker 18 Word 版', 'file_path': '/home/linjw/AGI/llama2/DB/Process/source/2018年  云计算和人工智能产业应用白皮书【450页】.pdf', 'format': 'PDF 1.6', 'keywords': '', 'modDate': \"D:20180928211958+08'00'\", 'page': 430, 'producer': 'Adobe PDF Library 15.0', 'source': '/home/linjw/AGI/llama2/DB/Process/source/2018年  云计算和人工智能产业应用白皮书【450页】.pdf', 'subject': '', 'title': '', 'total_pages': 450, 'trapped': ''}\n",
      "{'author': 'Chang Zhao', 'creationDate': \"D:20180509100948+08'00'\", 'creator': 'Microsoft® PowerPoint® 2016', 'file_path': '/home/linjw/AGI/llama2/DB/Process/source/2018年  2018人工智能行业创新情报白皮书【136页】.pdf', 'format': 'PDF 1.7', 'keywords': '', 'modDate': \"D:20180509100948+08'00'\", 'page': 69, 'producer': 'Microsoft® PowerPoint® 2016', 'source': '/home/linjw/AGI/llama2/DB/Process/source/2018年  2018人工智能行业创新情报白皮书【136页】.pdf', 'subject': '', 'title': 'PowerPoint 演示文稿', 'total_pages': 136, 'trapped': ''}\n",
      "{'author': 'BJB218USER', 'creationDate': \"D:20220121113127+08'00'\", 'creator': 'Microsoft® PowerPoint® 2019', 'file_path': '/home/linjw/AGI/llama2/DB/Process/source/2022年  【99页】艾瑞咨询：中国人工智能产业研究报告（Ⅳ）.pdf', 'format': 'PDF 1.7', 'keywords': '', 'modDate': \"D:20220121113127+08'00'\", 'page': 1, 'producer': 'Microsoft® PowerPoint® 2019', 'source': '/home/linjw/AGI/llama2/DB/Process/source/2022年  【99页】艾瑞咨询：中国人工智能产业研究报告（Ⅳ）.pdf', 'subject': '', 'title': '幻灯片 1', 'total_pages': 99, 'trapped': ''}\n",
      "{'author': 'BJB218USER', 'creationDate': \"D:20181115123130+08'00'\", 'creator': 'Microsoft® PowerPoint® 2016', 'file_path': '/home/linjw/AGI/llama2/DB/Process/source/2018年中国人工智能+金融行业研究报告.pdf', 'format': 'PDF 1.5', 'keywords': '', 'modDate': \"D:20181115123130+08'00'\", 'page': 42, 'producer': 'Microsoft® PowerPoint® 2016', 'source': '/home/linjw/AGI/llama2/DB/Process/source/2018年中国人工智能+金融行业研究报告.pdf', 'subject': '', 'title': '幻灯片 1', 'total_pages': 48, 'trapped': ''}\n",
      "{'author': '', 'creationDate': '', 'creator': '', 'file_path': '/home/linjw/AGI/llama2/DB/Process/source/2019年  新一代人工智能产业白皮书：主要应用场景研判-200114.pdf', 'format': 'PDF 1.7', 'keywords': '', 'modDate': \"D:20200515121112+08'00'\", 'page': 2, 'producer': '3-Heights(TM) PDF Optimization Shell 5.9.1.5 (http://www.pdf-tools.com); modified using iTextSharp 5.2.1 (c) 1T3XT BVBA', 'source': '/home/linjw/AGI/llama2/DB/Process/source/2019年  新一代人工智能产业白皮书：主要应用场景研判-200114.pdf', 'subject': '', 'title': '中国电子学会-2019新一代人工智能产业白皮书：主要应用场景研判-200114.pdf', 'total_pages': 50, 'trapped': 'False'}\n",
      "{'author': 'lidin', 'creationDate': \"D:20190422151016+08'00'\", 'creator': '', 'file_path': '/home/linjw/AGI/llama2/DB/Process/source/2019年  中国人工智能专利发展专题报告.pdf', 'format': 'PDF 1.7', 'keywords': '', 'modDate': \"D:20190422151040+08'00'\", 'page': 58, 'producer': 'Microsoft: Print To PDF', 'source': '/home/linjw/AGI/llama2/DB/Process/source/2019年  中国人工智能专利发展专题报告.pdf', 'subject': '', 'title': 'Microsoft Word - ä¸Łåł½äººå·¥æŽºè…½ä¸fiå‹©å‘‚å±Łä¸fié¢Ÿæ−¥å‚−V10_20190418(1)', 'total_pages': 60, 'trapped': ''}\n",
      "{'author': '', 'creationDate': \"D:20200921204445+08'00'\", 'creator': '', 'encryption': 'Standard V5 R6 256-bit AES', 'file_path': '/home/linjw/AGI/llama2/DB/Process/source/2020年  中国电子学会&商汤-新一代人工智能白皮书-2020.9-46页.pdf', 'format': 'PDF 1.4', 'keywords': '', 'modDate': \"D:20201012102719+08'00'\", 'page': 9, 'producer': 'PDFdo.com  5.5.6.0', 'source': '/home/linjw/AGI/llama2/DB/Process/source/2020年  中国电子学会&商汤-新一代人工智能白皮书-2020.9-46页.pdf', 'subject': '', 'title': '', 'total_pages': 46, 'trapped': ''}\n",
      "{'author': '', 'creationDate': \"D:20200831094639+09'00'\", 'creator': 'Adobe Illustrator CC 23.0 (Windows)', 'file_path': '/home/linjw/AGI/llama2/DB/Process/source/2020年  新一代人工智能白皮书（2020年）——产业智能化升级-中国电子学会+中国数字经济百人会+阿里云-202009.pdf', 'format': 'PDF 1.5', 'keywords': '', 'modDate': \"D:20200831094640+08'00'\", 'page': 9, 'producer': 'Adobe PDF library 15.00', 'source': '/home/linjw/AGI/llama2/DB/Process/source/2020年  新一代人工智能白皮书（2020年）——产业智能化升级-中国电子学会+中国数字经济百人会+阿里云-202009.pdf', 'subject': '', 'title': '新一代人工智能白皮书8-26', 'total_pages': 46, 'trapped': ''}\n",
      "{'author': '', 'creationDate': \"D:20210730225238+08'00'\", 'creator': '', 'file_path': '/home/linjw/AGI/llama2/DB/Process/source/2021年  【45页】2021年AI中台白皮书.pdf', 'format': 'PDF 1.4', 'keywords': '', 'modDate': \"D:20210730225238+08'00'\", 'page': 1, 'producer': 'PDFdo.com  5.5.6.0', 'source': '/home/linjw/AGI/llama2/DB/Process/source/2021年  【45页】2021年AI中台白皮书.pdf', 'subject': '', 'title': '', 'total_pages': 45, 'trapped': ''}\n",
      "{'author': '丁 兆增', 'creationDate': \"D:20200622221303+08'00'\", 'creator': 'Microsoft® Word 2019', 'file_path': '/home/linjw/AGI/llama2/DB/Process/source/2020年  人工智能产业人才发展报告（2019-2020年版）.pdf', 'format': 'PDF 1.7', 'keywords': '', 'modDate': \"D:20200622221303+08'00'\", 'page': 16, 'producer': 'Microsoft® Word 2019', 'source': '/home/linjw/AGI/llama2/DB/Process/source/2020年  人工智能产业人才发展报告（2019-2020年版）.pdf', 'subject': '', 'title': '', 'total_pages': 58, 'trapped': ''}\n",
      "{'author': '丁 兆增', 'creationDate': \"D:20200622221303+08'00'\", 'creator': 'Microsoft® Word 2019', 'file_path': '/home/linjw/AGI/llama2/DB/Process/source/2019-2020年人工智能产业人才发展报告.pdf', 'format': 'PDF 1.7', 'keywords': '', 'modDate': \"D:20200622221303+08'00'\", 'page': 16, 'producer': 'Microsoft® Word 2019', 'source': '/home/linjw/AGI/llama2/DB/Process/source/2019-2020年人工智能产业人才发展报告.pdf', 'subject': '', 'title': '', 'total_pages': 58, 'trapped': ''}\n",
      "{'author': '', 'creationDate': '', 'creator': '', 'file_path': '/home/linjw/AGI/llama2/DB/Process/source/2020年  【41页】全球人工智能基础设施战略与政策观察（2020年）.pdf', 'format': 'PDF 1.3', 'keywords': '', 'modDate': '', 'page': 3, 'producer': 'PyPDF2', 'source': '/home/linjw/AGI/llama2/DB/Process/source/2020年  【41页】全球人工智能基础设施战略与政策观察（2020年）.pdf', 'subject': '', 'title': '', 'total_pages': 41, 'trapped': ''}\n",
      "{'author': '', 'creationDate': '', 'creator': '', 'file_path': '/home/linjw/AGI/llama2/DB/Process/source/2019年  亿欧智库：2019全球人工智能教育行业研究报告.pdf', 'format': 'PDF 1.4', 'keywords': '', 'modDate': 'D:20190831053909Z', 'page': 1, 'producer': '3-Heights(TM) PDF Optimization Shell 4.8.25.2 (http://www.pdf-tools.com)', 'source': '/home/linjw/AGI/llama2/DB/Process/source/2019年  亿欧智库：2019全球人工智能教育行业研究报告.pdf', 'subject': '', 'title': '', 'total_pages': 64, 'trapped': ''}\n",
      "{'author': 'iSlide', 'creationDate': \"D:20191008172832+08'00'\", 'creator': 'Microsoft® PowerPoint® 2013', 'file_path': '/home/linjw/AGI/llama2/DB/Process/source/2019年人工智能行业现状与发展趋势报告.pdf', 'format': 'PDF 1.5', 'keywords': '', 'modDate': \"D:20191008172832+08'00'\", 'page': 10, 'producer': 'Microsoft® PowerPoint® 2013', 'source': '/home/linjw/AGI/llama2/DB/Process/source/2019年人工智能行业现状与发展趋势报告.pdf', 'subject': '', 'title': 'PowerPoint 演示文稿', 'total_pages': 52, 'trapped': ''}\n",
      "{'author': '', 'creationDate': \"D:20200710101832+08'00'\", 'creator': 'Adobe Illustrator CC 22.1 (Macintosh)', 'file_path': '/home/linjw/AGI/llama2/DB/Process/source/2020年  2020腾讯人工智能白皮书-2020.7-46页.pdf', 'format': 'PDF 1.7', 'keywords': '', 'modDate': \"D:20201002220415+08'00'\", 'page': 2, 'producer': '3-Heights(TM) PDF Optimization Shell 5.9.3.7 (http://www.pdf-tools.com)', 'source': '/home/linjw/AGI/llama2/DB/Process/source/2020年  2020腾讯人工智能白皮书-2020.7-46页.pdf', 'subject': '', 'title': '白皮书-单页版本0710', 'total_pages': 46, 'trapped': ''}\n",
      "{'author': 'ZM', 'creationDate': \"D:20210411201313+08'00'\", 'creator': 'Microsoft® Word 适用于 Microsoft 365', 'file_path': '/home/linjw/AGI/llama2/DB/Process/source/2021年  【235页】2011-2020年人工智能发展报告.pdf', 'format': 'PDF 1.7', 'keywords': '', 'modDate': \"D:20210411201313+08'00'\", 'page': 8, 'producer': 'Microsoft® Word 适用于 Microsoft 365', 'source': '/home/linjw/AGI/llama2/DB/Process/source/2021年  【235页】2011-2020年人工智能发展报告.pdf', 'subject': '2010-2020', 'title': '人工智能发展报告', 'total_pages': 235, 'trapped': ''}\n",
      "{'author': 'ZM', 'creationDate': \"D:20210119094807+08'00'\", 'creator': 'Microsoft® Word 2016', 'file_path': '/home/linjw/AGI/llama2/DB/Process/source/2021年  【235页】人工智能发展报告（2011-2020）.pdf', 'format': 'PDF 1.7', 'keywords': '', 'modDate': \"D:20210119094807+08'00'\", 'page': 8, 'producer': 'Microsoft® Word 2016', 'source': '/home/linjw/AGI/llama2/DB/Process/source/2021年  【235页】人工智能发展报告（2011-2020）.pdf', 'subject': '2010-2020', 'title': '人工智能发展报告', 'total_pages': 235, 'trapped': ''}\n"
     ]
    }
   ],
   "source": [
    "for doc in docs:\n",
    "    print(doc.metadata)\n"
   ]
  },
  {
   "cell_type": "markdown",
   "metadata": {},
   "source": [
    "##### LLM压缩检索"
   ]
  },
  {
   "cell_type": "code",
   "execution_count": 9,
   "metadata": {},
   "outputs": [],
   "source": [
    "# from langchain.retrievers import ContextualCompressionRetriever\n",
    "# from langchain.retrievers.document_compressors import LLMChainExtractor\n",
    "# from langchain.llms import OpenAI\n",
    "# from langchain.retrievers.self_query.base import SelfQueryRetriever\n",
    "# from langchain.chains.query_constructor.base import AttributeInfo\n",
    " \n",
    "# #定义元数据的过滤条件\n",
    "# metadata_field_info = [\n",
    "#     AttributeInfo(\n",
    "#         name=\"source\",\n",
    "#         description=\"The lecture the chunk is from, should be one of `docs/cs229_lectures/MachineLearning-Lecture01.pdf`, `docs/cs229_lectures/MachineLearning-Lecture02.pdf`, or `docs/cs229_lectures/MachineLearning-Lecture03.pdf`\",\n",
    "#         type=\"string\",\n",
    "#     ),\n",
    "#     AttributeInfo(\n",
    "#         name=\"page\",\n",
    "#         description=\"The page from the lecture\",\n",
    "#         type=\"integer\",\n",
    "#     ),\n",
    "# ]\n",
    " \n",
    "# #创建SelfQueryRetriever\n",
    "# document_content_description = \"Lecture notes\"\n",
    "# llm = OpenAI(temperature=0)\n",
    "# retriever = SelfQueryRetriever.from_llm(\n",
    "#     llm,\n",
    "#     db,\n",
    "#     document_content_description,\n",
    "#     metadata_field_info,\n",
    "#     verbose=True\n",
    "# )\n",
    "# def pretty_print_docs(docs):\n",
    "#     print(f\"\\n{'-' * 100}\\n\".join([f\"Document {i+1}:\\n\\n\" + d.page_content for i, d in enumerate(docs)]))\n",
    "    \n",
    "# # Wrap our vectorstore\n",
    "# llm = OpenAI(temperature=0)\n",
    "# compressor = LLMChainExtractor.from_llm(llm)\n",
    " \n",
    "# compression_retriever = ContextualCompressionRetriever(\n",
    "#     base_compressor=compressor,\n",
    "#     base_retriever=db.as_retriever()\n",
    "# )\n",
    "\n",
    "# question = \"what did they say about matlab?\"\n",
    "# compressed_docs = compression_retriever.get_relevant_documents(question)\n",
    "# pretty_print_docs(compressed_docs)"
   ]
  },
  {
   "cell_type": "markdown",
   "metadata": {},
   "source": [
    "#### 加载模型"
   ]
  },
  {
   "cell_type": "code",
   "execution_count": 10,
   "metadata": {},
   "outputs": [
    {
     "data": {
      "application/vnd.jupyter.widget-view+json": {
       "model_id": "e24c2e4c746a4cd9a58623ac4816dbfd",
       "version_major": 2,
       "version_minor": 0
      },
      "text/plain": [
       "Loading checkpoint shards:   0%|          | 0/3 [00:00<?, ?it/s]"
      ]
     },
     "metadata": {},
     "output_type": "display_data"
    },
    {
     "name": "stderr",
     "output_type": "stream",
     "text": [
      "/home/linjw/anaconda3/envs/llama/lib/python3.10/site-packages/transformers/generation/configuration_utils.py:362: UserWarning: `do_sample` is set to `False`. However, `temperature` is set to `0.9` -- this flag is only used in sample-based generation modes. You should set `do_sample=True` or unset `temperature`. This was detected when initializing the generation config instance, which means the corresponding file may hold incorrect parameterization and should be fixed.\n",
      "  warnings.warn(\n",
      "/home/linjw/anaconda3/envs/llama/lib/python3.10/site-packages/transformers/generation/configuration_utils.py:367: UserWarning: `do_sample` is set to `False`. However, `top_p` is set to `0.6` -- this flag is only used in sample-based generation modes. You should set `do_sample=True` or unset `top_p`. This was detected when initializing the generation config instance, which means the corresponding file may hold incorrect parameterization and should be fixed.\n",
      "  warnings.warn(\n"
     ]
    }
   ],
   "source": [
    "from langchain.chains import RetrievalQA\n",
    "from langchain.embeddings.huggingface import HuggingFaceEmbeddings\n",
    "from langchain import HuggingFacePipeline\n",
    "embeddings = HuggingFaceEmbeddings(model_name=embeddings_model_name)\n",
    "model = HuggingFacePipeline.from_model_id(model_id=model_path,\n",
    "        task=\"text-generation\",\n",
    "        device=0,\n",
    "        pipeline_kwargs={\n",
    "            \"max_new_tokens\": 4096, \n",
    "            \"do_sample\": True,\n",
    "            \"temperature\": 0.2,\n",
    "            \"top_k\": 1,\n",
    "            \"top_p\": 0.9,\n",
    "            \"repetition_penalty\": 1.1},\n",
    "        model_kwargs={\n",
    "            \"torch_dtype\": \"auto\",\n",
    "            \"low_cpu_mem_usage\": True}\n",
    "        )"
   ]
  },
  {
   "cell_type": "markdown",
   "metadata": {},
   "source": [
    "##### 定义目标模板"
   ]
  },
  {
   "cell_type": "code",
   "execution_count": 11,
   "metadata": {},
   "outputs": [
    {
     "data": {
      "text/plain": [
       "'\\n\\nRevised answer:\\n1. 技术1: 深度学习和神经网络的发展使得机器能够模拟人类大脑的工作方式，从而实现更准确和复杂的任务。\\n2. 技术2: 自然语言处理（NLP）的技术进步使计算机能够理解和生成人类语言，推动了智能助手、语音识别等领域的发展。\\n3. 技术3: 强化学习在机器人控制、游戏策略等方面取得了重大突破，通过试错和奖励机制来优化决策过程。\\n4. 技术4: 图像识别和计算机视觉领域的进展，包括卷积神经网络（CNN）的应用，使得机器能够自动识别和分类图像内容。\\n5. 技术5: 自动驾驶技术的发展，利用传感器数据和机器学习算法进行实时路况分析和车辆控制，实现了无人驾驶的目标。\\n6. 技术6: 人机交互界面的设计和改进，如虚拟现实（VR）和增强现实（AR）技术，为用户提供了更加沉浸式的体验。\\n7. 技术7: 区块链技术在人工智能中的应用，可以提供去中心化的数据存储和交换平台，提高了数据安全性和隐私保护能力。\\n8. 技术8: 量子计算的发展，有望大幅提升计算能力和解决复杂问题的能力，对人工智能领域具有潜在影响。\\n9. 技术9: 联邦学习的方法，可以在不共享个人敏感信息的情况下进行模型训练和推理，提高了数据隐私保护的水平。\\n10. 技术10: 迁移学习的方法，可以通过将已经'"
      ]
     },
     "execution_count": 11,
     "metadata": {},
     "output_type": "execute_result"
    }
   ],
   "source": [
    "qa_chain_refine = RetrievalQA.from_chain_type(\n",
    "    model,\n",
    "    retriever=db.as_retriever(search_kwargs={\"k\": 10}),\n",
    "    chain_type=\"refine\"\n",
    ")\n",
    " \n",
    "result = qa_chain_refine({\"query\": refine_query})\n",
    "result[\"result\"]\n"
   ]
  },
  {
   "cell_type": "markdown",
   "metadata": {},
   "source": [
    "### 整理回答"
   ]
  },
  {
   "cell_type": "markdown",
   "metadata": {},
   "source": [
    "#### 数据解析器"
   ]
  },
  {
   "cell_type": "code",
   "execution_count": 12,
   "metadata": {},
   "outputs": [
    {
     "name": "stderr",
     "output_type": "stream",
     "text": [
      "/home/linjw/anaconda3/envs/llama/lib/python3.10/site-packages/transformers/pipelines/base.py:1101: UserWarning: You seem to be using the pipelines sequentially on GPU. In order to maximize efficiency please use a dataset\n",
      "  warnings.warn(\n"
     ]
    },
    {
     "name": "stdout",
     "output_type": "stream",
     "text": [
      " 以下是人工智能的突破性技术列表：\n",
      "\n",
      "1. 技术1: 深度学习和神经网络的发展使得机器能够模拟人类大脑的工作方式，从而实现更准确和复杂的任务。\n",
      "2. 技术2: 自然语言处理（NLP）的技术进步使计算机能够理解和生成人类语言，推动了智能助手、语音识别等领域的发展。\n",
      "3. 技术3: 强化学习在机器人控制、游戏策略等方面取得了重大突破，通过试错和奖励机制来优化决策过程。\n",
      "4. 技术4: 图像识别和计算机视觉领域的进展，包括卷积神经网络（CNN）的应用，使得机器能够自动识别和分类图像内容。\n",
      "5. 技术5: 自动驾驶技术的发展，利用传感器数据和机器学习算法进行实时路况分析和车辆控制，实现了无人驾驶的目标。\n",
      "6. 技术6: 人机交互界面的设计和改进，如虚拟现实（VR）和增强现实（AR）技术，为用户提供了更加沉浸式的体验。\n",
      "7. 技术7: 区块链技术在人工智能中的应用，可以提供去中心化的数据存储和交换平台，提高了数据安全性和隐私保护能力。\n",
      "8. 技术8: 量子计算的发展，有望大幅提升计算能力和解决复杂问题的能力，对人工智能领域具有潜在影响。\n",
      "9. 技术9: 联邦学习的方法，可以在不共享个人敏感信息的情况下进行模型训练和推理，提高了数据隐私保护的水平。\n",
      "10. 技术10: 迁移学习的方法，可以通过将已\n"
     ]
    },
    {
     "ename": "OutputParserException",
     "evalue": "Got invalid JSON object. Error: Expecting value: line 1 column 1 (char 0)",
     "output_type": "error",
     "traceback": [
      "\u001b[0;31m---------------------------------------------------------------------------\u001b[0m",
      "\u001b[0;31mJSONDecodeError\u001b[0m                           Traceback (most recent call last)",
      "File \u001b[0;32m~/anaconda3/envs/llama/lib/python3.10/site-packages/langchain/output_parsers/json.py:86\u001b[0m, in \u001b[0;36mparse_and_check_json_markdown\u001b[0;34m(text, expected_keys)\u001b[0m\n\u001b[1;32m     85\u001b[0m \u001b[39mtry\u001b[39;00m:\n\u001b[0;32m---> 86\u001b[0m     json_obj \u001b[39m=\u001b[39m parse_json_markdown(text)\n\u001b[1;32m     87\u001b[0m \u001b[39mexcept\u001b[39;00m json\u001b[39m.\u001b[39mJSONDecodeError \u001b[39mas\u001b[39;00m e:\n",
      "File \u001b[0;32m~/anaconda3/envs/llama/lib/python3.10/site-packages/langchain/output_parsers/json.py:68\u001b[0m, in \u001b[0;36mparse_json_markdown\u001b[0;34m(json_string)\u001b[0m\n\u001b[1;32m     67\u001b[0m \u001b[39m# Parse the JSON string into a Python dictionary\u001b[39;00m\n\u001b[0;32m---> 68\u001b[0m parsed \u001b[39m=\u001b[39m json\u001b[39m.\u001b[39;49mloads(json_str)\n\u001b[1;32m     70\u001b[0m \u001b[39mreturn\u001b[39;00m parsed\n",
      "File \u001b[0;32m~/anaconda3/envs/llama/lib/python3.10/json/__init__.py:346\u001b[0m, in \u001b[0;36mloads\u001b[0;34m(s, cls, object_hook, parse_float, parse_int, parse_constant, object_pairs_hook, **kw)\u001b[0m\n\u001b[1;32m    343\u001b[0m \u001b[39mif\u001b[39;00m (\u001b[39mcls\u001b[39m \u001b[39mis\u001b[39;00m \u001b[39mNone\u001b[39;00m \u001b[39mand\u001b[39;00m object_hook \u001b[39mis\u001b[39;00m \u001b[39mNone\u001b[39;00m \u001b[39mand\u001b[39;00m\n\u001b[1;32m    344\u001b[0m         parse_int \u001b[39mis\u001b[39;00m \u001b[39mNone\u001b[39;00m \u001b[39mand\u001b[39;00m parse_float \u001b[39mis\u001b[39;00m \u001b[39mNone\u001b[39;00m \u001b[39mand\u001b[39;00m\n\u001b[1;32m    345\u001b[0m         parse_constant \u001b[39mis\u001b[39;00m \u001b[39mNone\u001b[39;00m \u001b[39mand\u001b[39;00m object_pairs_hook \u001b[39mis\u001b[39;00m \u001b[39mNone\u001b[39;00m \u001b[39mand\u001b[39;00m \u001b[39mnot\u001b[39;00m kw):\n\u001b[0;32m--> 346\u001b[0m     \u001b[39mreturn\u001b[39;00m _default_decoder\u001b[39m.\u001b[39;49mdecode(s)\n\u001b[1;32m    347\u001b[0m \u001b[39mif\u001b[39;00m \u001b[39mcls\u001b[39m \u001b[39mis\u001b[39;00m \u001b[39mNone\u001b[39;00m:\n",
      "File \u001b[0;32m~/anaconda3/envs/llama/lib/python3.10/json/decoder.py:337\u001b[0m, in \u001b[0;36mJSONDecoder.decode\u001b[0;34m(self, s, _w)\u001b[0m\n\u001b[1;32m    333\u001b[0m \u001b[39m\u001b[39m\u001b[39m\"\"\"Return the Python representation of ``s`` (a ``str`` instance\u001b[39;00m\n\u001b[1;32m    334\u001b[0m \u001b[39mcontaining a JSON document).\u001b[39;00m\n\u001b[1;32m    335\u001b[0m \n\u001b[1;32m    336\u001b[0m \u001b[39m\"\"\"\u001b[39;00m\n\u001b[0;32m--> 337\u001b[0m obj, end \u001b[39m=\u001b[39m \u001b[39mself\u001b[39;49m\u001b[39m.\u001b[39;49mraw_decode(s, idx\u001b[39m=\u001b[39;49m_w(s, \u001b[39m0\u001b[39;49m)\u001b[39m.\u001b[39;49mend())\n\u001b[1;32m    338\u001b[0m end \u001b[39m=\u001b[39m _w(s, end)\u001b[39m.\u001b[39mend()\n",
      "File \u001b[0;32m~/anaconda3/envs/llama/lib/python3.10/json/decoder.py:355\u001b[0m, in \u001b[0;36mJSONDecoder.raw_decode\u001b[0;34m(self, s, idx)\u001b[0m\n\u001b[1;32m    354\u001b[0m \u001b[39mexcept\u001b[39;00m \u001b[39mStopIteration\u001b[39;00m \u001b[39mas\u001b[39;00m err:\n\u001b[0;32m--> 355\u001b[0m     \u001b[39mraise\u001b[39;00m JSONDecodeError(\u001b[39m\"\u001b[39m\u001b[39mExpecting value\u001b[39m\u001b[39m\"\u001b[39m, s, err\u001b[39m.\u001b[39mvalue) \u001b[39mfrom\u001b[39;00m \u001b[39mNone\u001b[39;00m\n\u001b[1;32m    356\u001b[0m \u001b[39mreturn\u001b[39;00m obj, end\n",
      "\u001b[0;31mJSONDecodeError\u001b[0m: Expecting value: line 1 column 1 (char 0)",
      "\nDuring handling of the above exception, another exception occurred:\n",
      "\u001b[0;31mOutputParserException\u001b[0m                     Traceback (most recent call last)",
      "\u001b[1;32m/home/linjw/AGI/llama2/langchain/单问题模板.ipynb 单元格 20\u001b[0m line \u001b[0;36m2\n\u001b[1;32m     <a href='vscode-notebook-cell://ssh-remote%2Bpizza/home/linjw/AGI/llama2/langchain/%E5%8D%95%E9%97%AE%E9%A2%98%E6%A8%A1%E6%9D%BF.ipynb#X25sdnNjb2RlLXJlbW90ZQ%3D%3D?line=24'>25</a>\u001b[0m output \u001b[39m=\u001b[39m model(_input\u001b[39m.\u001b[39mto_string())\n\u001b[1;32m     <a href='vscode-notebook-cell://ssh-remote%2Bpizza/home/linjw/AGI/llama2/langchain/%E5%8D%95%E9%97%AE%E9%A2%98%E6%A8%A1%E6%9D%BF.ipynb#X25sdnNjb2RlLXJlbW90ZQ%3D%3D?line=25'>26</a>\u001b[0m \u001b[39mprint\u001b[39m(output)\n\u001b[0;32m---> <a href='vscode-notebook-cell://ssh-remote%2Bpizza/home/linjw/AGI/llama2/langchain/%E5%8D%95%E9%97%AE%E9%A2%98%E6%A8%A1%E6%9D%BF.ipynb#X25sdnNjb2RlLXJlbW90ZQ%3D%3D?line=26'>27</a>\u001b[0m output_parser\u001b[39m.\u001b[39;49mparse(output)\n",
      "File \u001b[0;32m~/anaconda3/envs/llama/lib/python3.10/site-packages/langchain/output_parsers/structured.py:95\u001b[0m, in \u001b[0;36mStructuredOutputParser.parse\u001b[0;34m(self, text)\u001b[0m\n\u001b[1;32m     93\u001b[0m \u001b[39mdef\u001b[39;00m \u001b[39mparse\u001b[39m(\u001b[39mself\u001b[39m, text: \u001b[39mstr\u001b[39m) \u001b[39m-\u001b[39m\u001b[39m>\u001b[39m Any:\n\u001b[1;32m     94\u001b[0m     expected_keys \u001b[39m=\u001b[39m [rs\u001b[39m.\u001b[39mname \u001b[39mfor\u001b[39;00m rs \u001b[39min\u001b[39;00m \u001b[39mself\u001b[39m\u001b[39m.\u001b[39mresponse_schemas]\n\u001b[0;32m---> 95\u001b[0m     \u001b[39mreturn\u001b[39;00m parse_and_check_json_markdown(text, expected_keys)\n",
      "File \u001b[0;32m~/anaconda3/envs/llama/lib/python3.10/site-packages/langchain/output_parsers/json.py:88\u001b[0m, in \u001b[0;36mparse_and_check_json_markdown\u001b[0;34m(text, expected_keys)\u001b[0m\n\u001b[1;32m     86\u001b[0m     json_obj \u001b[39m=\u001b[39m parse_json_markdown(text)\n\u001b[1;32m     87\u001b[0m \u001b[39mexcept\u001b[39;00m json\u001b[39m.\u001b[39mJSONDecodeError \u001b[39mas\u001b[39;00m e:\n\u001b[0;32m---> 88\u001b[0m     \u001b[39mraise\u001b[39;00m OutputParserException(\u001b[39mf\u001b[39m\u001b[39m\"\u001b[39m\u001b[39mGot invalid JSON object. Error: \u001b[39m\u001b[39m{\u001b[39;00me\u001b[39m}\u001b[39;00m\u001b[39m\"\u001b[39m)\n\u001b[1;32m     89\u001b[0m \u001b[39mfor\u001b[39;00m key \u001b[39min\u001b[39;00m expected_keys:\n\u001b[1;32m     90\u001b[0m     \u001b[39mif\u001b[39;00m key \u001b[39mnot\u001b[39;00m \u001b[39min\u001b[39;00m json_obj:\n",
      "\u001b[0;31mOutputParserException\u001b[0m: Got invalid JSON object. Error: Expecting value: line 1 column 1 (char 0)"
     ]
    }
   ],
   "source": [
    "que =result[\"result\"]\n",
    "\n",
    "initial_qa_template = (\n",
    "    \"[INST] <<SYS>>\\n\"\n",
    "    \"You are a helpful assistant. 你是一个乐于助人的助手。\\n\"\n",
    "    \"<</SYS>>\\n\\n\"\n",
    "    \"以下为背景知识：\\n\"\n",
    "    \"{context_str}\"\n",
    "    \"\\n\"\n",
    "    \"{format_instructions}\"\n",
    "    \"\\n\"\n",
    "    \"请根据以上背景知识, 回答这个问题：{question}。\"\n",
    "    \" [/INST]\"\n",
    ")\n",
    "\n",
    "\n",
    "output_parser = StructuredOutputParser.from_response_schemas(response_schemas)\n",
    "format_instructions = output_parser.get_format_instructions()\n",
    "prompt = PromptTemplate(\n",
    "    template=initial_qa_template,\n",
    "    input_variables=[\"question\"],\n",
    "    partial_variables={\"format_instructions\": format_instructions,\"context_str\":que}\n",
    ")\n",
    "_input = prompt.format_prompt(question=summary_query)\n",
    "output = model(_input.to_string())\n",
    "print(output)\n",
    "# output_parser.parse(output)\n",
    " "
   ]
  },
  {
   "cell_type": "code",
   "execution_count": null,
   "metadata": {},
   "outputs": [],
   "source": []
  }
 ],
 "metadata": {
  "kernelspec": {
   "display_name": "llama",
   "language": "python",
   "name": "python3"
  },
  "language_info": {
   "codemirror_mode": {
    "name": "ipython",
    "version": 3
   },
   "file_extension": ".py",
   "mimetype": "text/x-python",
   "name": "python",
   "nbconvert_exporter": "python",
   "pygments_lexer": "ipython3",
   "version": "3.10.12"
  },
  "orig_nbformat": 4
 },
 "nbformat": 4,
 "nbformat_minor": 2
}
