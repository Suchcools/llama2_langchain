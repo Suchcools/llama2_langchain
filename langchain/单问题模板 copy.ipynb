{
 "cells": [
  {
   "cell_type": "markdown",
   "metadata": {},
   "source": [
    "#### 导入库"
   ]
  },
  {
   "cell_type": "code",
   "execution_count": 1,
   "metadata": {},
   "outputs": [],
   "source": [
    "from langchain.document_loaders import UnstructuredFileLoader\n",
    "from langchain.text_splitter import RecursiveCharacterTextSplitter\n",
    "from langchain.embeddings.huggingface import HuggingFaceEmbeddings\n",
    "from langchain.vectorstores import FAISS\n",
    "from langchain.embeddings import HuggingFaceEmbeddings\n",
    "from langchain.vectorstores import Chroma\n",
    "import chromadb\n",
    "from langchain.output_parsers import StructuredOutputParser, ResponseSchema\n",
    "from langchain.prompts import PromptTemplate, ChatPromptTemplate, HumanMessagePromptTemplate\n",
    "from langchain.llms import OpenAI\n",
    "from langchain.chat_models import ChatOpenAI\n",
    "import os\n",
    "import sys\n",
    "os.environ[\"CUDA_VISIBLE_DEVICES\"] = \"1\""
   ]
  },
  {
   "cell_type": "markdown",
   "metadata": {},
   "source": [
    "#### 文档加载&切分&检索"
   ]
  },
  {
   "cell_type": "code",
   "execution_count": 2,
   "metadata": {},
   "outputs": [
    {
     "name": "stdout",
     "output_type": "stream",
     "text": [
      "python: can't open file '/home/linjw/AGI/llama2/langchain/ingest.py': [Errno 2] No such file or directory\n"
     ]
    }
   ],
   "source": [
    "! python ingest.py # 命令行 python3 ./DB/Process/ingest.py 制作向量数据库"
   ]
  },
  {
   "cell_type": "code",
   "execution_count": 3,
   "metadata": {},
   "outputs": [],
   "source": [
    "### 文档查询 去向量数据库匹配相关代码\n",
    "doc_query = \"未来 将要 细分赛道 分化 五年 产业规模 子领域\"\n",
    "\n",
    "\n",
    "### 递归总结, 根据查询出来的向量数据库相关片段 循环输入进llm进行要素提取\n",
    "refine_query = \"\"\"\n",
    "根据获取的信息,总结并推理提炼出人工智能5年后的细分赛道的产业规模:\n",
    "1. 技术1和其产业规模: [描述]\n",
    "2. 技术2和其产业规模: [描述]\n",
    "3. 技术3和其产业规模: [描述]\n",
    "4. 技术4和其产业规模: [描述]\n",
    "5. 技术5和其产业规模: [描述]\n",
    "\"\"\"\n",
    "\n",
    "\n",
    "# 最终总结输出 总结递归的最后输出\n",
    "summary_query = \"\"\"在已知的信息中，确定并列出人工智能5年后的细分赛道的产业规模\"\"\"\n",
    "\n",
    "\n",
    "# 回答模板 将summary_query的输出格式化为对象\n",
    "response_schemas = [\n",
    " ResponseSchema(name=\"技术1/产业规模\", description=\"技术1和其产业规模\"),\n",
    " ResponseSchema(name=\"技术2/产业规模\", description=\"技术2和其产业规模\"),\n",
    " ResponseSchema(name=\"技术3/产业规模\", description=\"技术3和其产业规模\"),\n",
    " ResponseSchema(name=\"技术4/产业规模\", description=\"技术4和其产业规模\"),\n",
    " ResponseSchema(name=\"技术5/产业规模\", description=\"技术5和其产业规模\"),]\n",
    "\n"
   ]
  },
  {
   "cell_type": "code",
   "execution_count": 4,
   "metadata": {},
   "outputs": [],
   "source": [
    "sys.path.append(os.path.dirname(os.path.realpath('__file__'))+\"/../\")\n",
    "import config.conf as cfg\n",
    "from chromadb.config import Settings\n",
    "\n",
    "# Define the folder for storing database\n",
    "PERSIST_DIRECTORY = cfg.PERSIST_DIRECTORY.replace(\"/langchain\",\"\")\n",
    "# Define the Chroma settings\n",
    "CHROMA_SETTINGS = Settings(\n",
    "        persist_directory=PERSIST_DIRECTORY,\n",
    "        anonymized_telemetry=False\n",
    ")\n",
    "\n",
    "embeddings_model_name = cfg.EMBEDDINGS_MODEL_NAME.replace(\"/langchain\",\"\")\n",
    "persist_directory = cfg.PERSIST_DIRECTORY.replace(\"/langchain\",\"\")\n",
    "model_path = cfg.MODEL_PATH.replace(\"/langchain\",\"\")\n",
    "model_n_ctx = cfg.MODEL_N_CTX\n",
    "model_n_batch = cfg.MODEL_N_BATCH\n",
    "target_source_chunks = 4\n",
    "embeddings = HuggingFaceEmbeddings(model_name=embeddings_model_name)\n",
    "chroma_client = chromadb.PersistentClient(settings=CHROMA_SETTINGS , path=persist_directory)\n",
    "db = Chroma(persist_directory=persist_directory, embedding_function=embeddings, client_settings=CHROMA_SETTINGS, client=chroma_client)"
   ]
  },
  {
   "cell_type": "code",
   "execution_count": 5,
   "metadata": {},
   "outputs": [
    {
     "data": {
      "text/plain": [
       "'/home/linjw/AGI/llama2/langchain/checkpoints/paraphrase-multilingual-MiniLM-L12-v2'"
      ]
     },
     "execution_count": 5,
     "metadata": {},
     "output_type": "execute_result"
    }
   ],
   "source": [
    "cfg.EMBEDDINGS_MODEL_NAME"
   ]
  },
  {
   "cell_type": "markdown",
   "metadata": {},
   "source": [
    "##### 普通检索"
   ]
  },
  {
   "cell_type": "code",
   "execution_count": 6,
   "metadata": {},
   "outputs": [],
   "source": [
    "retriever = db.as_retriever(search_kwargs={\"k\": 30})\n",
    "\n",
    "# retriever = db.as_retriever(    \n",
    "#     search_type=\"mmr\",\n",
    "#     search_kwargs={'k': 20, 'lambda_mult': 0.25})\n"
   ]
  },
  {
   "cell_type": "code",
   "execution_count": 7,
   "metadata": {},
   "outputs": [
    {
     "data": {
      "text/plain": [
       "['37 \\n \\n报告编号[19RI0028] \\n未来，伴随着技术迭代与生态格局变化，拥有雄厚技术架构实力与解决方案落地能力的\\n企业将蚕食部分中小企业份额，技术薄弱的中小公司将进一步被淘汰出局，行业将进入整合\\n周期，行业格局持续优化，预计未来智慧交通市场竞争格局将会更加激烈。 \\n6.2 \\n银江股份有限公司 \\n6.2.1 企业概况 \\n银江股份有限公司（以下简称银江）成立于 1992 年，是中国领先的城市智能化整体解\\n决方案运营商，于 2009 年在上海证券交易所上市，正式登陆 A 股。银江以智能化系统工程\\n产品为主营业务，包括城市交通智能化、医疗信息化和建筑智能化三类。在城市交通智能化\\n领域，银江通过城市交通智能化管控综合配套系统、城市交通智能化诱导系统为客户提供智\\n慧交通一体化的解决方案。经过二十多年发展，银江建立了国家级企业技术中心、国家级博\\n士后科研工作站、院士专家工作站，浙江省智能交通工程技术研究中心等技术创新平台。 \\n凭借研发创新与资金实力优势，银江在城市智能化解决方案方面拥有专利总量约 300',\n",
       " '5G+云+AI三者相互协同，将打破众多行业发展天花板，打开新的成长空间，同时释放出巨大能\\n量，为政企转型和产业升级注入新活力。\\n融合视角：5G+云计算+AI深度融合协作创新，构筑数字经济\\n动力引擎\\n38%\\n43%\\n49%\\n55%\\n61%\\n0%\\n10%\\n20%\\n30%\\n40%\\n50%\\n60%\\n70%\\n2019\\n2020E\\n2021E\\n2022E\\n2023E\\n来源：国务院发展研究中心，亿欧智库整理\\n亿欧智库：2019-2023年中国政府和大型企业\\n上云率\\n[INTEGRATION\\n]',\n",
       " '映在业务层面可以重点关注客户拓展与模式创新带来的收入增长，\\n以及规模效应逐步显现推动费用率显著下降； \\n\\uf0d8 路径的选择：人工智能场景落地复杂且业务链条长，我们判断上述\\n厂商势必需要进行一定的取舍，具体有两条路径：一是沿着场景进\\n行取舍，从而产生业务场景的垂直化；二是沿着产业链环节进行取\\n舍，从而带来产业链的分工化。 \\n■风险提示：行业增长不及预期、行业竞争格局恶化。 \\nTable_Tit le \\n2022 年 01 月 14 日 \\n传媒 \\nTable_BaseI nfo \\n行业深度分析 \\n证券研究报告 \\n \\n投资评级 \\n领先大市-A \\n维持评级 \\n \\nTable_Fir st St ock \\n首选股票 \\n目标价 \\n评级 \\n \\n \\n \\n \\n \\n \\n \\n \\n \\n \\n \\nTable_Char t  \\n行业表现 \\n \\n资料来源：Wind 资讯 \\n  \\n% \\n1M \\n3M \\n12M \\n相对收益 \\n15.38 \\n25.46 \\n37.67 \\n绝对收益 \\n9.76 \\n22.45 \\n24.79 \\n \\n  \\n焦娟 \\n分析师 \\nSAC 执业证书编号：S1450516120001',\n",
       " '42  \\n优先级矩阵\\n除三项创新外，此技术成熟度曲线上的其他\\n项目都具有高影响力或变革性。在不到五年\\n的时间里，超过一半的技术成熟度曲线项目\\n可达到实质生产的高峰期（20% 的市场渗透\\n率）。这些确实不负众望！高效益创新可提高\\n业务效率，但需要进行持续培养。转型创新\\n将带来变革，它们需要新技能，同时也会带来\\n图 2\\n 人工智能优先级矩阵，2018 年\\nffiliates. All rights reserved.\\nffiliates. All rights reserved.\\n© 2018 Gartner, Inc. \\nID: 357478\\n人工智能优先级矩阵，2018 年\\n好处\\n获得主流接受的年数\\n不到 2 年\\n2 至 5 年\\n5 至 10 年\\n超过 10 年\\n具有变革性\\n语音识别\\n与人工智能相关的 C&SI 服务\\n聊天机器人\\n深度神经网络（深度学习）\\n智能应用\\n机器学习\\n虚拟助手\\nVPA 无线扬声器\\n认知计算\\n会话用户界面\\n神经形态硬件\\nNLP\\n通用人工智能\\n无人驾驶车辆\\n高\\n集成学习\\nGPU 加速器\\n机器人流程自动化软件\\n人工智能开发人员工具包\\n商用 UAV（无人机）\\n计算机视觉',\n",
       " '低\\n高\\n高\\n行业渗透率\\n目前市场规模\\n数字政务\\n智慧城市\\n医疗\\n零售\\n教育\\n无人驾驶\\n通信\\n金融\\n渗透率：行业应用程度；市场规模：市场机会\\n2，过渡期\\n1，萌芽期\\n4，发展期\\n3，成长期\\n本白皮书分别在萌芽期、成长期、发展期选择了三个最具增长潜力的重点行业：医疗、智能制造、金融，每个\\n行业面临的痛点有所不同，但通过人工智能对数据的收集、处理与分析能够有效解决上述多样的问题，从而带\\n动产业变革与升级。由于这些行业自身规模庞大，再加上人工智能在这些行业都有着巨大的应用潜力，因此将\\n有望创造规模巨大的细分市场。\\n注：图中圆圈大小代表发展潜力，即未来市场规模',\n",
       " '2019.3\\n强调市场导向与产业应用，打造智能经济形态\\n《国家新一代人工智能创新发展试验区建设工作指引》\\n2019.8\\n到2030年，布局建设20个左右人工智能试验区，\\n创新一批切实有效的政策工具，形成一批人工智能\\n与实体经济深度融合的典型模式，累计一批可复制\\n推广的经验做法打造一批重大引领带动作用的人工\\n智能创新高地\\n两会工作报告\\n2020.5\\n“智能”连续四年被写入政府工作报告。加强新型\\n基础设施建设，发展新一代信息网络，拓展5G应\\n用，建设数据中心，激发新消费需求，助力产业升\\n级\\nAI加速键——上海人工智能创新发展探索与实践案例集\\n中国人工智能发展概况及趋势',\n",
       " '分别为 21%和 22%左右，未来仍有不小的国产替代空间。 \\n图 41：光伏&储能用软磁粉（芯）供应格局（2022） \\n \\n图 42：新能源汽车&充电桩用软磁粉（芯）供应格局（2022） \\n \\n \\n \\n资料来源：调研数据、招商证券 \\n \\n资料来源：调研数据、招商证券 \\n \\n2025 年，预计我国金属软磁粉（芯）总产能将超 25 万吨，但仍有较大供应缺口。由于软磁粉芯行业净利润水平较高，\\n吸引众多产业链上下游涉足该领域，预计未来行业竞争格局呈现铂科新材、东睦股份引领、其他新进入者如云路股份、\\n横店东磁并存的局面。 \\n \\n铂科新材\\n24%\\n东睦股份\\n17%\\n美磁、昌兴\\n17%\\n其他\\n42%\\n铂科新材\\n44%\\n东睦股份\\n23%\\n其他\\n33%\\n铂科新材\\n21%\\n东睦股份\\n22%\\n其他\\n57%\\n下载日志已记录，仅供内部参考，股票报告网',\n",
       " '低\\n高\\n2022年市场容量\\n市场竞争性\\n2018年市场规模\\n对AI的需求度\\n核心企业AI活跃度\\n产业受技术驱动程度\\n解决办法与需求契合度\\n政策支持强度\\n数据共享程度\\n数据质量\\n基础设施IT化程度\\n场景清晰度\\n商业模式清晰度\\n对新技术的接受周期\\n解决方案落地效果\\n制造\\n零售\\n客服\\n金融\\n农业\\n教育\\n安防\\n营销\\n交通\\n医疗\\n2018年融资总额度\\n2019年人工智能赋能行业效果评估模型',\n",
       " '究机构的内部探索项目。因为市场规模短期内相对有限，且渠道和前期资源的积累需要较长时间，我们认为后期会\\n更容易出现高行业集中度。\\n技术方面，除去个别布局较早的企业外，国内AIGC领域大规模稳定生产的能力还需进一步增强，完成从尝鲜式做\\n法向正式和业务化的进入各类场景的转化。据业内人士估计，预计2-3年内，各AIGC能力有望在成本可控的前提\\n下，实现工业化生产。\\n26',\n",
       " '>> 06\\n（二）我国技术层和应用层的产业发展齐头并进\\n1、技术创新推动我国基础层产业蓄势待发\\n我国基础层企业和科研机构深度合作，积极打破技术研发和成果转化的壁垒，加强\\n了对传感器、智能芯片及算法模型等基础层技术的研发力度，并逐步取得了一定的技术\\n积累，形成了较为完整的技术和产品体系，有望在未来打破国际基础层技术垄断的格局。\\n2018 年我国新一代人工智能基础层产业规模达到 16.6 亿美元，预计 2019 年产业规模\\n将接近 20 亿美元，随着我国优秀巨头企业的开源平台效应逐渐显著，为初创企业的持\\n续创新提供了良好的研发环境，预计 2022 年产业规模将达到 35.2 亿美元。\\n图 5  我国新一代人工智能产业规模及年增长率\\n资料来源：中国电子学会整理\\n股票报告网整理http://www.nxny.com',\n",
       " '2023e\\n2024e\\n2025e\\n2026e\\n互联网领域（亿元）\\n金融领域市场规模（亿元）\\n医疗领域市场规模（亿元）\\n泛安防领域市场规模（亿元）\\n工业领域市场规模（亿元）',\n",
       " '宏观研究/深度研究 | 2020 年 05 月 19 日 \\n \\n谨请参阅尾页重要声明及华泰证券股票和行业评级标准 \\n9 \\n技术层面：乘胜追击，国内头部企业各领风骚 \\n技术层是基于基础理论和数据之上，面向细分应用开发的技术。中游技术类企业具有技术\\n生态圈、资金和人才三重壁垒，是人工智能产业的核心。相比较绝大多数上游和下游企业\\n聚焦某一细分领域、技术层向产业链上下游扩展较为容易。该层面包括算法理论（机器学\\n习）、开发平台（开源框架）和应用技术（计算机视觉、智能语音、生物特征识别、自然\\n语言处理）。众多国际科技巨头和独角兽均在该层级开展广泛布局。近年来，我国技术层\\n围绕垂直领域重点研发，在计算机视觉、语音识别等领域技术成熟，国内头部企业脱颖而\\n出，竞争优势明显。但算法理论和开发平台的核心技术仍有所欠缺。 \\n \\n图表14： 中国及全球人工智能技术层产业规模及年增长率 \\n \\n资料来源：中国电子学会，华泰证券研究所 \\n \\n具体来看，在算法理论和开发平台领域，国内尚缺乏经验，发展较为缓慢。机器学习算法\\n是人工智能的热点，开源框架成为国际科技巨头和独角兽布局的重点。开源深度学习平台',\n",
       " '虑以下四方面：一是政策制定应考虑产业、技术应用的动态\\n性和多样性，为行业发展提供一定宽松的环境；二是不同机\\n \\n5 https://www.ibm.com/downloads/cas/VQ9ZGKAE',\n",
       " '4421\\n2019\\n2020\\n2021\\n2022e\\n2023e\\n2024e\\n2025e\\n2026e\\n核心产品市场规模（亿元）\\n带动相关产业规模（亿元）\\n仅供内部参考，请勿外传',\n",
       " '2021中国智能制造市辖区TOP15剖析\\n2021中国“AI+制造”产业发展研究报告\\n49\\n中国智能制造市辖区TOP15发展总结\\n产业间交流平台\\n产学合作平台\\n产业引导基金\\n产业\\n政策 01\\n产业园区分布、\\n企业聚集情况\\n空间分布\\n产业集聚 03\\n产业整体发展\\n产业\\n成就\\n04\\n产业\\n动能\\n02\\n代表企业\\n地区产业规划\\n园区/企业规划\\n人才政策\\n顺势升级型\\n多为制造大区，在优渥土壤下自然发展智能制造。已形成千亿级制造产业，智\\n能制造为其开辟发展空间，增加其在国际的竞争力与美、德等发达经济体接轨。\\n•\\n佛山顺德区从智能装备制造入手，发展工业机器人，形成机器人产业集群；\\n布局新能源汽车制造。\\n•\\n上海宝山区广泛发展工业互联技术服务，改造建设老工业园区，吸引工业\\n互联网初创企业，为钢铁制造产业服务。\\n•\\n广州黄埔区、深圳宝安区也均有此特点。\\n政策引导型\\n制造形成独特优势，政府产业规划清晰且长远，信息与决策公开透明度\\n高于其他区，政策明显利好智能制造领域企业，有吸引智能制造企业聚\\n集之势。\\n•\\n苏州工业园区推进制造业高质量发展政策的发布效率高。\\n•',\n",
       " '请务必阅读正文之后的免责声明及其项下所有内容\\n发展战略：研发为基石，提升商业化能力，拓展不同行业客户\\n\\uf0d8 第四范式未来将着重在三个方向寻求发展：\\n\\uf0d8 加强研发：计划将创新产品服务、优化底层核心技术能力作为发展驱动力，探索新的人工智能技术，拓展、升级原有框架，并逐步扩充公司人\\n才储备，以巩固当前的行业领先地位;\\n\\uf0d8 梳理行业标杆：公司发展战略为先抓住特定行业龙头企业，摸索该领域企业人工智能实施的标准，使影响力扩大至该行业的其他用户。2020\\n年6月底，第四范式已与宁德时代达成合作，未来也将不断拓展合作边界;\\n\\uf0d8 提升商业化能力：第四范式计划在扩大销售团队、提高方案渗透率、战略投资与收购三个方面进行商业化能力的提升。继2021年以来，公司\\n相继收购广州健新、上海伊飒海科技有限公司，增资理想科技，以分别加快公司在能源电力行业、以及IT运维管理行业的布局。\\n图27：第四范式拓展行业领域相关举措\\n资料来源：第四范式招股书、国信证券经济研究所整理\\n进\\n一\\n步\\n加\\n强\\n研\\n发\\n能\\n力\\n继续投资加强研发能力，巩固行业内\\n领导地位\\n专注联邦学习技术等其他前沿人工智\\n能技术研发',\n",
       " '我们认为 2021 年产品和解决方案均将有较强的增速反弹，后续增速回归行业水平。而创新\\n业务由于刚刚开始，还在低基数基础上，增速将保持较快水平，而后续随着基数增长，增\\n速自然下滑。 \\n1）产品：该业务是公司的基石，公司围绕安防生产的硬件产品在 AI 应用下全面升级，随\\n着应用场景的丰富，将形成系统化的产品布局。随着公司战略从产品向解决方案转移，该\\n项业务增速放缓，更多面向 SMB 的渠道客户和 2C 客户。我们预计未来三年将保持 15%、\\n10%、10%的增长速度，21/22/23 年营收将达到 117.72/129.49/142.44 亿元。成本增速大\\n致与营收增速保持一致。 \\n2）解决方案：公司依托“一体系、两平台”的结构，不断深化以视频为核心的智慧物联解\\n决方案提供商和运营服务商战略，重点围绕城市级和企业级提供数字化转型方案。该业务\\n可以为客户提供更加全面的解决方案，覆盖更多场景。相关毛利率能稳定在 40%以上，提\\n供稳定的现金流。我们预计该部分营收占比未来三年将突破 50%，毛利率保持稳定。预计',\n",
       " '地区振兴规划 ”，其中涵盖了中国东北和\\n内蒙古东部的三个主要省份。这一地区历\\n来是中国的重工业中心。东北地区振兴规\\n划旨在重新激发已具有生产能力的设备制\\n造部门的活力，并发展新兴高科技产业。32\\n中部地区：2004 年，温家宝总理提出了“ 促\\n进中部地区崛起规划 ”，其中涵盖了中部\\n的六个省份，希望在 2015 年前大幅提高\\n这一地区的经济生产率和可持续能力。该\\n规划重点关注四个领域：农业工业化、煤\\n炭工业和电力生产、研发以及通讯和运输\\n系统。33\\n西部地区：在 1999 年至 2001 年间，中\\n国政府实施了“ 中国西部大开发 ”战略，\\n其中包括六个省，这六个省的面积合计占\\n中国领土的 71.4％，但其人口数量仅占中\\n国人口总数的 28.8％。西部大开发战略旨\\n在是缩小东西部之间的发展差距。为了实\\n施该战略，政府放松了某些移民政策，并\\n鼓励具有所需技能的劳动力向西部移民。\\n此外，中国还修建了著名的青藏铁路，实\\n现西部与全国其它地区的连接。31',\n",
       " '国务院常务会议\\n中共中央政治局会议\\n七部门印发《关于促进“互联网+社会服\\n务”发展的意见》\\n国务院常务会议\\n中央全面深化改革委员会第十二次会议\\n中共中央政治局常务委员会会议\\n发挥投资关键作用，加大制造业技术改造和设备更更新。加快5G商用步伐，加强人工\\n智能、工业互联网、物联网等新型基础设施建设。\\n加快5G商用步伐和IPv6部署；打造工业互联网平台；深化大数据、人工智能等研发应\\n用；加强重大科技基础设施、科技创新中心建设；加强新一代基础设施建设和融合应用。\\n2020.05.22\\n政府工作报告\\n把工业互联网等新型基础设施建设与制造业技术进步有机结合。\\n加快推进信息网络等新型基础设施建设。\\n加快布局新型数字基础设施；加快5G行业应用试点；加速构建支持大数据应用和云端\\n海量信息处理的云计算基础设施，支持政府和企业建设人工智能基础服务平台；面向社\\n会服务提供人工智能应用所需的基础数据、计算能力和模型算法。\\n发展先进制造业，出台信息网络等新型基础设施投资支持政策，推进智能、绿色制造。\\n通过《关于推动基础设施高质量发展的意见》；统筹存量和增量、传统和新型基础设施',\n",
       " '2023e\\n2024e\\n2025e\\n2026e\\n金融领域市场规模（亿元）\\n互联网领域（亿元）\\n泛安防领域市场规模（亿元）\\n医疗领域市场规模（亿元）\\n工业领域市场规模（亿元）',\n",
       " '2021中国智能制造市辖区TOP15剖析\\n2021中国“AI+制造”产业发展研究报告\\n49\\n中国智能制造TOP15市辖区发展总结\\n产业间交流平台\\n产学合作平台\\n产业引导基金\\n产业\\n政策 01\\n产业园区分布、\\n企业聚集情况\\n空间分布\\n产业集聚 03\\n产业整体发展\\n产业\\n成就\\n04\\n产业\\n动能\\n02\\n代表企业\\n地区产业规划\\n园区/企业规划\\n人才政策\\n顺势升级型\\n多为制造大区，在优渥土壤下自然发展智能制造。已形成千亿级制造产业，智\\n能制造为其开辟发展空间，增加其在国际的竞争力与美、德等发达经济体接轨。\\n•\\n佛山顺德区从智能装备制造入手，发展工业机器人，形成机器人产业集群；\\n布局新能源汽车制造。\\n•\\n上海宝山区广泛发展工业互联技术服务，改造建设老工业园区，吸引工业\\n互联网初创企业，为钢铁制造产业服务。\\n•\\n广州黄埔区、深圳宝安区也均有此特点。\\n政策引导型\\n制造形成独特优势，政府产业规划清晰且长远，信息与决策公开透明度\\n高于其他区，政策明显利好智能制造领域企业，有吸引智能制造企业聚\\n集之势。\\n•\\n苏州工业园区推进制造业高质量发展政策的发布效率高。\\n•',\n",
       " '边缘侧：数据向边缘下沉，随着行业落地市场将有很大增量\\n来源：边缘计算与云计算协同白皮书、google学术及公开资料 、亿欧智库整理\\n\\uf0d8\\n5G与物联网的发展以及各行业的智能化转型升级，带来了爆发式的数据增长。海量的数据将在边缘侧积累，建立在边缘的数据分析与处理将\\n大幅度的提高效率、降低成本。\\n\\uf0d8\\n随着大量的数据向边缘下沉，边缘计算将有更大的发展，IDC预测，未来，超过50%的数据需要在边缘侧进行储存、分析和计算，这就对边缘\\n侧的算力提出了更高的要求。芯片作为实现计算能力的重要基础硬件，也将具备更多的发展。ABI Research预测，2025年，边缘AI芯片市场\\n将超过云端AI芯片。\\n\\uf0d8\\n在人工智能算法的驱动下，边缘AI芯不但可以自主进行逻辑分析与计算，而且可以动态实时地自我优化，调整策略，典型的应用如黑灯工厂等。\\n亿欧智库：边缘计算在数据处理中的位置\\n物联网\\n（物理世界）\\n边缘计算\\n(桥梁）\\n人工智能\\n（数字世界）\\n大量设备\\n要求低延时、\\n高带宽\\n智能化\\n突出本地协同\\n高计算效率\\n实现数据的\\n存储、计算\\n与应用\\nData\\nData\\n亿欧智库：边缘计算的价值: “CROSS”',\n",
       " 'II\\n发展政策环境持续优化；机遇二，市场增长迎来发力期，资方入局窗口已经打开；\\n机遇三，市场需求日益旺盛，慢病管理等领域颇具增长空间；机遇四，新冠疫情\\n的迫切需求为相关产业的发展打开了新局面；机遇五，5G、量子计算等新技术\\n的增长为产业发展提供了新动能；机遇六，复合型人才厚度增加为产业厚积薄发\\n创造新节点。\\n在行业发展重要机遇期，政府密集释放相关利好政策，推动科技成果转化，\\n推动数据共享，持续完善行业标准规范体系。同时，“以患者为核心、切实满足\\n医生临床工作需求”的核心理念正在逐渐成为行业共识，人工智能医疗产品正在\\n向覆盖多病种、深入应用场景的方向发展。可以预见，人工智能医疗大规模落地\\n应用的时代即将来临。',\n",
       " '智能化的基础，行业数字化还需遵循 C—>B—>A 的路径，即先云化，再\\n有大数据最后实现智能化。大带宽、低时延、万物互联的 5G 网络有望带\\n动流量和数据量爆发，我们认为 5G 网络杀手级应用在当前建网阶段尚未\\n出现，2C 端 VR/AR 和 2B 端工业互联网或许是两个孵化方向。云计算与\\n5G 技术推广、渗透率提升有望推动更多人工智能场景落地。 \\n图表 8：不同行业的 AI 技术应用程度 \\n \\n来源：麦肯锡，国金证券研究所 \\n深度学习框架是战略制高点，同样具备国产化替代机遇。深度学习框架作\\n为底层语言和算法模型的骨架，将数据、算力、算法三者相连接，向下对\\n接芯片（算力），向上支撑应用，可省去开发者从 0 到 1 地搭建地基的成本，\\n提高开发效率，与 AI 芯片构成 AI 基础设施底座，是“智能时代的操作系',\n",
       " '47\\n©2020.12 iResearch Inc.                                                                                                                         \\nwww.iresearch.com.cn\\n第三个拐点——成为基础性产品\\n“功在当下，利在长远”寻找领先市场五年以上的技术方向\\n纵观半导体、5G等科技领域行业领先企业的发展脉络：企业长远布局，及时填充亟需战略资源可有效加强市场竞争力；若\\n缺少战略思维，未跟上行业发展，则可能会露出衰败迹象，被迫在未来的竞争中退出市场。分别以移动端芯片龙头企业英\\n国ARM公司、PC端芯片龙头企业英特尔，5G设备领先全球12-18个月的华为为例，展示寻找领先市场五年以上技术方向\\n或发展角度对于企业的重要战略价值。前车之鉴，AI企业在业务经营中除注重实现商业价值外，也应未雨绸缪地储备战略\\n资源，以确保在市场变化中的业务延续、塑造领先优势。\\n来源：艾瑞根据公开资料与专家访谈自主研究绘制。',\n",
       " '相关新业务的蓬勃发展，下游数字经济规模有望受到 5G与新技术激发而全面兴起。\\n5G网络需求\\n智能调\\n度资源\\n全面开\\n放能力\\n容量弹\\n性伸缩\\n架构灵\\n活调整\\n5G技术创新\\n产品创新\\n生产方式变革\\n大规模天线架构创新\\n为生产和管理数据的有效\\n集成提供关键数据支撑\\n帮助实现低成本远程操控\\n助力实现生产的高精度\\n实时检测\\n提升生产线的柔性化能力\\n材料创新：低密度高效散\\n热材料、V形齿结构\\n小基站：独立布局，开放\\n高性能低复杂度算法：天\\n线域到波束域降维前置\\n5GR16标准发布：关键性能方面，\\nR16对低时延和高可靠性能进行了增\\n强；网络基础能力方面，R16显著提\\n升网络自组织、自动化运营能力；应\\n用能力方面，扩大垂直行业的应用\\n端到端网络切片技术完成整体架构：\\n具体包括总体技术要求、对接技术要\\n求等\\n行业虚拟专网标准研究持续推进：5G\\n应用产业方阵成立专项研究组，持续\\n推进相关的技术研究以及标准制定.\\n5G需求推动创新',\n",
       " '请阅读最后评级说明和重要声明 \\n15 / 16 \\n \\n行业研究┃行业周报 \\n生产商，霸州一期投产在即，品牌+产品+渠道+产能四维定位夯实增速，未来将沿着品\\n牌扩展、产品开发、渠道下沉及产能拓张四个方面发展。 \\n人力资源板块看好具备先发优势和管理壁垒的龙头公司，推荐科锐国际。公司是中国大\\n陆本土发展起来的人力资源解决方案提供商，已建立起高效专业的服务、丰富的候选人\\n数据库、不断的产品创新等核心优势。当前宏观经济背景下，处于发展初期且自然增速\\n较快的灵活用工业务将强化公司抗周期属性，支撑公司未来增长；猎头业务受益于公司\\n对新模式的探索，有望持续环比改善。 \\n教育板块优选升学就业赛道龙头标的。在国家政策和财政支持、消费者教育投入增加的\\n共同影响下，我国教育行业的市场规模不断扩大。建议积极关注升学和就业两大刚需赛\\n道优质龙头标的，重点推荐中公教育，看好公司凭借其在教研、渠道和管理方面的综合\\n实力，积极拓展考研、IT 培训等业务范围，实现跨赛道持续高增长，打开业绩空间。新\\n东方在线，依托新东方集团和腾讯集团强大的教育行业和互联网行业产业背景和资本优',\n",
       " '下跌至13.3%（较2018年近250%的增速相比）。随疫情常态化以及十四五规划开篇，雪亮工程进入扫尾阶段并开启升级\\n阶段，预计2021年市场小幅升温，规模达542亿元。艾瑞预测，2021-2025年市场进入产业结构调整期，市场增速将放缓，\\n预计2025年规模超900亿元，AI开始向公安交通等场景的下沉市场以及泛安防的长尾细分领域渗透，发展模式由过去粗放\\n上量转变为精细化升级改造。从细分领域看，公安交通领域仍然是市场支撑力量，但随十三五收官，该领域已基本完成重\\n点领域智能视频监控系统覆盖，市场增长相对疲软。反观其它细分领域，受安全需求刺激、技术迭代加快、产品价格大杀\\n等影响，将不断侵蚀公安交通领域市场份额，特别是围绕智慧城市综合治理展开的智慧社区或将成为下半场重点。\\nAI+安防总体市场规模\\n市场增速放缓，预计2025年超900亿，智慧社区或将成重点\\n注释：①图中所示市场规模口径包括AI算法与系统平台、AI摄像机、智能化一体机、分\\n析服务器资源、大数据应用、知识图谱、安防智能机器人、出入口控制系统和设备等，',\n",
       " '2021中国智能制造市辖区TOP15剖析\\n2021中国“AI+制造”产业发展研究报告\\n41\\n区域概况\\n产业定位\\n吴江战略定位为全球智能制造标杆区、全国绿色经济先行区长三角创新经济活力区；吴江将\\n突出四大“强”制造集群作为发展重点之一，同时加快发展人工智能、生命健康、新材料、\\n绿色环保四大“新”制造集群。\\n吴江区2019年实现地区生产总值1958.16亿元，全市5个市辖区中位居第一。其产业特色鲜\\n明，集聚程度高，拥有丝绸纺织、电子信息两个千亿级产业，以及光电缆、装备制造两个\\n500亿级产业。吴江智能工业转型升级起步早，已累计培育105家智能制造示范企业、502\\n家试点企业、带动超5000家行动企业，获评江苏省智能示范车间79个，位居全省首位，初\\n步形成了智能制造全国领先、全球有名的先发优势。\\n产业政策\\n苏州市吴江区高质量发展产业扶持政策的若干实施意见（修订）》\\n2018.01\\n•\\n整体扶持政策分为智能设计类、智能生产类、智能装备、资源计划管理或供应链管理四类设计类注重技术\\n中心、创新中心、自主品牌大企业与领军企业先进技术研究院的认定，分别给予最高100万元、500万元、',\n",
       " '2021中国智能制造市辖区TOP15剖析\\n2021中国“AI+制造”产业发展研究报告\\n41\\n区域概况\\n产业定位\\n吴江战略定位为全球智能制造标杆区、全国绿色经济先行区长三角创新经济活力区；吴江将\\n突出四大“强”制造集群作为发展重点之一，同时加快发展人工智能、生命健康、新材料、\\n绿色环保四大“新”制造集群。\\n吴江区2019年实现地区生产总值1958.16亿元，全市5个市辖区中位居第一。其产业特色鲜\\n明，集聚程度高，拥有丝绸纺织、电子信息两个千亿级产业，以及光电缆、装备制造两个\\n500亿级产业。吴江智能工业转型升级起步早，已累计培育105家智能制造示范企业、502\\n家试点企业、带动超5000家行动企业，获评江苏省智能示范车间79个，位居全省首位，初\\n步形成了智能制造全国领先、全球有名的先发优势。\\n产业政策\\n苏州市吴江区高质量发展产业扶持政策的若干实施意见（修订）》\\n2018.01\\n•\\n整体扶持政策分为智能设计类、智能生产类、智能装备、资源计划管理或供应链管理四类设计类注重技术\\n中心、创新中心、自主品牌大企业与领军企业先进技术研究院的认定，分别给予最高100万元、500万元、']"
      ]
     },
     "execution_count": 7,
     "metadata": {},
     "output_type": "execute_result"
    }
   ],
   "source": [
    "docs = retriever.get_relevant_documents(doc_query)\n",
    "[doc.page_content for doc in docs]"
   ]
  },
  {
   "cell_type": "code",
   "execution_count": 8,
   "metadata": {},
   "outputs": [
    {
     "name": "stdout",
     "output_type": "stream",
     "text": [
      "{'author': '', 'creationDate': '', 'creator': '', 'file_path': '/home/linjw/AGI/llama2/DB/Process/source/2019年  智慧交通研究——人工智能技术助力行业智能化升级，前景可期-头豹研究院.pdf', 'format': 'PDF 1.5', 'keywords': '', 'modDate': '', 'page': 36, 'producer': '', 'source': '/home/linjw/AGI/llama2/DB/Process/source/2019年  智慧交通研究——人工智能技术助力行业智能化升级，前景可期-头豹研究院.pdf', 'subject': '', 'title': '', 'total_pages': 44, 'trapped': ''}\n",
      "{'author': '张一豪', 'creationDate': \"D:20200709192943+08'00'\", 'creator': 'Microsoft® PowerPoint® 适用于 Microsoft 365', 'file_path': '/home/linjw/AGI/llama2/DB/Process/source/2020年  亿欧智库：中国人工智能商业落地研究报告.pdf', 'format': 'PDF 1.7', 'keywords': '', 'modDate': \"D:20200709192943+08'00'\", 'page': 8, 'producer': 'Microsoft® PowerPoint® 适用于 Microsoft 365', 'source': '/home/linjw/AGI/llama2/DB/Process/source/2020年  亿欧智库：中国人工智能商业落地研究报告.pdf', 'subject': '', 'title': '2020中国人工智能商业落地研究报告', 'total_pages': 79, 'trapped': ''}\n",
      "{'author': '', 'creationDate': '', 'creator': '', 'file_path': '/home/linjw/AGI/llama2/DB/Process/source/2022年  【32页】三类人工智能企业或终将同台竞技.pdf', 'format': 'PDF 1.5', 'keywords': '', 'modDate': \"D:20220115181456+08'00'\", 'page': 0, 'producer': 'Microsoft® Word 2010; modified using iTextSharp 5.2.1 (c) 1T3XT BVBA', 'source': '/home/linjw/AGI/llama2/DB/Process/source/2022年  【32页】三类人工智能企业或终将同台竞技.pdf', 'subject': '', 'title': '安信证券-传媒行业深度分析：三类人工智能企业或终将同台竞技-220114.pdf', 'total_pages': 32, 'trapped': ''}\n",
      "{'author': '', 'creationDate': \"D:20180911094006+08'00'\", 'creator': 'Adobe InDesign CC 2017 (Windows)', 'file_path': '/home/linjw/AGI/llama2/DB/Process/source/2018年  2018世界人工智能产业发展蓝皮书.pdf', 'format': 'PDF 1.6', 'keywords': '', 'modDate': \"D:20180912074800-04'00'\", 'page': 41, 'producer': 'Adobe PDF Library 15.0', 'source': '/home/linjw/AGI/llama2/DB/Process/source/2018年  2018世界人工智能产业发展蓝皮书.pdf', 'subject': '', 'title': '', 'total_pages': 80, 'trapped': ''}\n",
      "{'author': '', 'creationDate': \"D:20210512161209+08'00'\", 'creator': 'Adobe InDesign CS6 (Windows)', 'file_path': '/home/linjw/AGI/llama2/DB/Process/source/2021年  【80页】迈向巅峰之路——中国成长型AI企业研究报告.pdf', 'format': 'PDF 1.4', 'keywords': '', 'modDate': \"D:20210512161253+08'00'\", 'page': 42, 'producer': 'Adobe PDF Library 10.0.1', 'source': '/home/linjw/AGI/llama2/DB/Process/source/2021年  【80页】迈向巅峰之路——中国成长型AI企业研究报告.pdf', 'subject': '', 'title': '', 'total_pages': 80, 'trapped': ''}\n",
      "{'author': '', 'creationDate': \"D:20210712035811Z00'00'\", 'creator': '', 'file_path': '/home/linjw/AGI/llama2/DB/Process/source/2021年  【55页】【亿欧智库】AI加速键：2021上海人工智能创新发展探索与实践案例集.pdf', 'format': 'PDF 1.4', 'keywords': '', 'modDate': 'D:20210712040114Z', 'page': 10, 'producer': 'iLovePDF', 'source': '/home/linjw/AGI/llama2/DB/Process/source/2021年  【55页】【亿欧智库】AI加速键：2021上海人工智能创新发展探索与实践案例集.pdf', 'subject': '', 'title': '', 'total_pages': 55, 'trapped': ''}\n",
      "{'author': '', 'creationDate': '', 'creator': '', 'file_path': '/home/linjw/AGI/llama2/DB/Process/source/2023年  【40页】新能源和人工智能时代的金属软磁粉芯.pdf', 'format': 'PDF 1.3', 'keywords': '', 'modDate': \"D:20230301101418+08'00'\", 'page': 26, 'producer': 'PyPDF2; modified using iTextSharp 5.2.1 (c) 1T3XT BVBA', 'source': '/home/linjw/AGI/llama2/DB/Process/source/2023年  【40页】新能源和人工智能时代的金属软磁粉芯.pdf', 'subject': '', 'title': '招商证券-金属新材料行业深度报告：新能源和人工智能时代的金属软磁粉芯-230228.pdf', 'total_pages': 40, 'trapped': ''}\n",
      "{'author': 'BJB218USER', 'creationDate': \"D:20190628163304+08'00'\", 'creator': 'Microsoft® PowerPoint® 适用于 Office 365', 'file_path': '/home/linjw/AGI/llama2/DB/Process/source/2019年中国人工智能产业研究报告【114页】.pdf', 'format': 'PDF 1.7', 'keywords': '', 'modDate': \"D:20190628163304+08'00'\", 'page': 14, 'producer': 'Microsoft® PowerPoint® 适用于 Office 365', 'source': '/home/linjw/AGI/llama2/DB/Process/source/2019年中国人工智能产业研究报告【114页】.pdf', 'subject': '', 'title': '幻灯片 1', 'total_pages': 114, 'trapped': ''}\n",
      "{'author': '', 'creationDate': '', 'creator': '', 'file_path': '/home/linjw/AGI/llama2/DB/Process/source/2023年  【34页】AIGC AI生成内容产业展望报告 量子位.pdf', 'format': 'PDF 1.3', 'keywords': '', 'modDate': \"D:20230207121427+08'00'\", 'page': 28, 'producer': 'PyPDF2', 'source': '/home/linjw/AGI/llama2/DB/Process/source/2023年  【34页】AIGC AI生成内容产业展望报告 量子位.pdf', 'subject': '', 'title': '', 'total_pages': 34, 'trapped': ''}\n",
      "{'author': '', 'creationDate': '', 'creator': '', 'file_path': '/home/linjw/AGI/llama2/DB/Process/source/2019年  新一代人工智能产业白皮书：主要应用场景研判-200114.pdf', 'format': 'PDF 1.7', 'keywords': '', 'modDate': \"D:20200515121112+08'00'\", 'page': 13, 'producer': '3-Heights(TM) PDF Optimization Shell 5.9.1.5 (http://www.pdf-tools.com); modified using iTextSharp 5.2.1 (c) 1T3XT BVBA', 'source': '/home/linjw/AGI/llama2/DB/Process/source/2019年  新一代人工智能产业白皮书：主要应用场景研判-200114.pdf', 'subject': '', 'title': '中国电子学会-2019新一代人工智能产业白皮书：主要应用场景研判-200114.pdf', 'total_pages': 50, 'trapped': 'False'}\n",
      "{'author': 'BJB218USER', 'creationDate': \"D:20220121113127+08'00'\", 'creator': 'Microsoft® PowerPoint® 2019', 'file_path': '/home/linjw/AGI/llama2/DB/Process/source/2022年  【99页】艾瑞咨询：中国人工智能产业研究报告（Ⅳ）.pdf', 'format': 'PDF 1.7', 'keywords': '', 'modDate': \"D:20220121113127+08'00'\", 'page': 31, 'producer': 'Microsoft® PowerPoint® 2019', 'source': '/home/linjw/AGI/llama2/DB/Process/source/2022年  【99页】艾瑞咨询：中国人工智能产业研究报告（Ⅳ）.pdf', 'subject': '', 'title': '幻灯片 1', 'total_pages': 99, 'trapped': ''}\n",
      "{'author': '', 'creationDate': '', 'creator': '', 'file_path': '/home/linjw/AGI/llama2/DB/Process/source/2020年  全球产业趋势系列研究之人工智能-200519.pdf', 'format': 'PDF 1.5', 'keywords': '', 'modDate': \"D:20200519185402+08'00'\", 'page': 8, 'producer': 'Microsoft® Word 2013; modified using iText® 5.4.2 ©2000-2012 1T3XT BVBA (AGPL-version); modified using iTextSharp 5.2.1 (c) 1T3XT BVBA', 'source': '/home/linjw/AGI/llama2/DB/Process/source/2020年  全球产业趋势系列研究之人工智能-200519.pdf', 'subject': '', 'title': '华泰证券-全球产业趋势系列研究之人工智能-200519.pdf', 'total_pages': 25, 'trapped': ''}\n",
      "{'author': '胡正坤', 'creationDate': \"D:20220901152414+08'00'\", 'creator': 'Microsoft® Word 适用于 Microsoft 365', 'file_path': '/home/linjw/AGI/llama2/DB/Process/source/2022年  【30页】平衡发展的AI治理白皮书.pdf', 'format': 'PDF 1.7', 'keywords': '', 'modDate': \"D:20220901152414+08'00'\", 'page': 8, 'producer': 'Microsoft® Word 适用于 Microsoft 365', 'source': '/home/linjw/AGI/llama2/DB/Process/source/2022年  【30页】平衡发展的AI治理白皮书.pdf', 'subject': '', 'title': '', 'total_pages': 30, 'trapped': ''}\n",
      "{'author': '', 'creationDate': '', 'creator': '', 'file_path': '/home/linjw/AGI/llama2/DB/Process/source/2022年  【26页】人工智能行业研究框架：政策助推产业发展，落地场景创新拓展.pdf', 'format': 'PDF 1.7', 'keywords': '', 'modDate': \"D:20230201163218+08'00'\", 'page': 17, 'producer': 'Microsoft® PowerPoint® 2019; modified using iTextSharp 5.2.1 (c) 1T3XT BVBA', 'source': '/home/linjw/AGI/llama2/DB/Process/source/2022年  【26页】人工智能行业研究框架：政策助推产业发展，落地场景创新拓展.pdf', 'subject': '', 'title': '富途证券-人工智能行业研究框架：政策助推产业发展，落地场景创新拓展-221109.pdf', 'total_pages': 26, 'trapped': ''}\n",
      "{'author': '', 'creationDate': \"D:20210707173257+09'32'\", 'creator': 'WPS 演示', 'file_path': '/home/linjw/AGI/llama2/DB/Process/source/2021年  【56页】2021中国AI制造产业发展研究报告.pdf', 'format': 'PDF 1.7', 'keywords': '', 'modDate': \"D:20210707173257+09'32'\", 'page': 48, 'producer': '', 'source': '/home/linjw/AGI/llama2/DB/Process/source/2021年  【56页】2021中国AI制造产业发展研究报告.pdf', 'subject': '', 'title': '', 'total_pages': 56, 'trapped': ''}\n",
      "{'author': '', 'creationDate': '', 'creator': '', 'file_path': '/home/linjw/AGI/llama2/DB/Process/source/2021年  【33页】AI系列报告之1—第四范式：决策类企业级人工智能领导者.pdf', 'format': 'PDF 1.4', 'keywords': '', 'modDate': \"D:20211022151743+08'00'\", 'page': 26, 'producer': 'iTextSharp 5.1.1 (c) 1T3XT BVBA', 'source': '/home/linjw/AGI/llama2/DB/Process/source/2021年  【33页】AI系列报告之1—第四范式：决策类企业级人工智能领导者.pdf', 'subject': '', 'title': '国信证券-信息技术行业AI系列报告之1-第四范式：决策类企业级人工智能领导者-211022.pdf', 'total_pages': 33, 'trapped': ''}\n",
      "{'author': '', 'creationDate': '', 'creator': '', 'file_path': '/home/linjw/AGI/llama2/DB/Process/source/2021年  【67页】AI、区块链、商业航天的未来十年.pdf', 'format': 'PDF 1.6', 'keywords': '', 'modDate': \"D:20210621093815+08'00'\", 'page': 48, 'producer': 'Adobe PDF Library 19.8.103; modified using iTextSharp 5.2.1 (c) 1T3XT BVBA', 'source': '/home/linjw/AGI/llama2/DB/Process/source/2021年  【67页】AI、区块链、商业航天的未来十年.pdf', 'subject': '', 'title': '华泰证券-电子行业：AI、区块链、商业航天的未来十年-210621.pdf', 'total_pages': 67, 'trapped': ''}\n",
      "{'author': '', 'creationDate': \"D:20200624201639+08'00'\", 'creator': 'Adobe Illustrator CC 23.1 (Macintosh)', 'file_path': '/home/linjw/AGI/llama2/DB/Process/source/2020年  2020中国智能城市指数：中国城市人工智能能力评估-悉尼商业洞察-2020.7-44页.pdf', 'format': 'PDF 1.7', 'keywords': '', 'modDate': \"D:20200918141736+08'00'\", 'page': 28, 'producer': '3-Heights(TM) PDF Optimization Shell 5.9.3.7 (http://www.pdf-tools.com)', 'source': '/home/linjw/AGI/llama2/DB/Process/source/2020年  2020中国智能城市指数：中国城市人工智能能力评估-悉尼商业洞察-2020.7-44页.pdf', 'subject': '', 'title': '画册中文版', 'total_pages': 44, 'trapped': ''}\n",
      "{'author': 'BJB218USER', 'creationDate': \"D:20201126164705+08'00'\", 'creator': 'Microsoft® PowerPoint® 2019', 'file_path': '/home/linjw/AGI/llama2/DB/Process/source/2020年  【49页】艾瑞股份-2020年面向人工智能“新基建”的知识图谱行业白皮书.pdf', 'format': 'PDF 1.7', 'keywords': '', 'modDate': \"D:20201126164705+08'00'\", 'page': 3, 'producer': 'Microsoft® PowerPoint® 2019', 'source': '/home/linjw/AGI/llama2/DB/Process/source/2020年  【49页】艾瑞股份-2020年面向人工智能“新基建”的知识图谱行业白皮书.pdf', 'subject': '', 'title': '幻灯片 1', 'total_pages': 49, 'trapped': ''}\n",
      "{'author': 'BJB218USER', 'creationDate': \"D:20220121113127+08'00'\", 'creator': 'Microsoft® PowerPoint® 2019', 'file_path': '/home/linjw/AGI/llama2/DB/Process/source/2022年  【99页】艾瑞咨询：中国人工智能产业研究报告（Ⅳ）.pdf', 'format': 'PDF 1.7', 'keywords': '', 'modDate': \"D:20220121113127+08'00'\", 'page': 27, 'producer': 'Microsoft® PowerPoint® 2019', 'source': '/home/linjw/AGI/llama2/DB/Process/source/2022年  【99页】艾瑞咨询：中国人工智能产业研究报告（Ⅳ）.pdf', 'subject': '', 'title': '幻灯片 1', 'total_pages': 99, 'trapped': ''}\n",
      "{'author': '', 'creationDate': \"D:20210707152721+07'00'\", 'creator': 'WPS 演示', 'file_path': '/home/linjw/AGI/llama2/DB/Process/source/2021年  【57页】2021中国“AI+制造”产业发展研究报告-亿欧智库-2021.7-56页.pdf', 'format': 'PDF 1.7', 'keywords': '', 'modDate': \"D:20210709141852+08'00'\", 'page': 48, 'producer': '99pdf.com', 'source': '/home/linjw/AGI/llama2/DB/Process/source/2021年  【57页】2021中国“AI+制造”产业发展研究报告-亿欧智库-2021.7-56页.pdf', 'subject': '', 'title': '', 'total_pages': 57, 'trapped': ''}\n",
      "{'author': '', 'creationDate': \"D:20220225115453+03'54'\", 'creator': 'WPS Presentation', 'file_path': '/home/linjw/AGI/llama2/DB/Process/source/2022年  【47页】中国AI芯片行业研究报告.pdf', 'format': 'PDF 1.7', 'keywords': '', 'modDate': \"D:20220225115453+03'54'\", 'page': 25, 'producer': 'macOS Version 12.1 (Build 21C52) Quartz PDFContext', 'source': '/home/linjw/AGI/llama2/DB/Process/source/2022年  【47页】中国AI芯片行业研究报告.pdf', 'subject': '', 'title': '', 'total_pages': 47, 'trapped': ''}\n",
      "{'author': '', 'creationDate': \"D:20200913205124+08'00'\", 'creator': 'Aspose Ltd.', 'file_path': '/home/linjw/AGI/llama2/DB/Process/source/2020年  2020人工智能医疗产业发展蓝皮书-中国信通院&36氪研究院-2020.9-109页.pdf', 'format': 'PDF 1.4', 'keywords': '', 'modDate': \"D:20210316134012+08'00'\", 'page': 4, 'producer': 'Aspose.Pdf for .NET 10.1.0', 'source': '/home/linjw/AGI/llama2/DB/Process/source/2020年  2020人工智能医疗产业发展蓝皮书-中国信通院&36氪研究院-2020.9-109页.pdf', 'subject': '', 'title': '', 'total_pages': 109, 'trapped': ''}\n",
      "{'author': '', 'creationDate': '', 'creator': '', 'file_path': '/home/linjw/AGI/llama2/DB/Process/source/2021年  【32页】行业拐点将至，不同AI公司价值几何？.pdf', 'format': 'PDF 1.5', 'keywords': '', 'modDate': \"D:20210905204823+08'00'\", 'page': 7, 'producer': 'Microsoft® Word 2010; modified using iText® 5.2.1 ©2000-2012 1T3XT BVBA; modified using iTextSharp 5.2.1 (c) 1T3XT BVBA', 'source': '/home/linjw/AGI/llama2/DB/Process/source/2021年  【32页】行业拐点将至，不同AI公司价值几何？.pdf', 'subject': '', 'title': '国金证券-通信行业研究：行业拐点将至，不同AI公司价值几何？-210905.pdf', 'total_pages': 32, 'trapped': ''}\n",
      "{'author': '李天慈', 'creationDate': \"D:20201228182258+08'00'\", 'creator': 'Microsoft® PowerPoint® 2019', 'file_path': '/home/linjw/AGI/llama2/DB/Process/source/2020年  【103页】艾瑞股份-2020年中国人工智能产业研究报告（Ⅲ）公开版.pdf', 'format': 'PDF 1.7', 'keywords': '', 'modDate': \"D:20201228182258+08'00'\", 'page': 46, 'producer': 'Microsoft® PowerPoint® 2019', 'source': '/home/linjw/AGI/llama2/DB/Process/source/2020年  【103页】艾瑞股份-2020年中国人工智能产业研究报告（Ⅲ）公开版.pdf', 'subject': '', 'title': 'PowerPoint 演示文稿', 'total_pages': 103, 'trapped': ''}\n",
      "{'author': 'BJB218USER', 'creationDate': \"D:20210319154839+08'00'\", 'creator': 'Microsoft® PowerPoint® 2019', 'file_path': '/home/linjw/AGI/llama2/DB/Process/source/2021年  【40页】艾瑞咨询：2021年中国5G AI典型案例研究报告—小沃科技.pdf', 'format': 'PDF 1.7', 'keywords': '', 'modDate': \"D:20210319173839+08'00'\", 'page': 4, 'producer': 'Microsoft® PowerPoint® 2019; modified using iTextSharp™ 5.5.13.2 ©2000-2020 iText Group NV (AGPL-version)', 'source': '/home/linjw/AGI/llama2/DB/Process/source/2021年  【40页】艾瑞咨询：2021年中国5G AI典型案例研究报告—小沃科技.pdf', 'subject': '', 'title': '幻灯片 1', 'total_pages': 40, 'trapped': ''}\n",
      "{'author': '', 'creationDate': '', 'creator': '', 'file_path': '/home/linjw/AGI/llama2/DB/Process/source/2020年  播种未来-人工智能如何赋能教育？-200307.pdf', 'format': 'PDF 1.5', 'keywords': '', 'modDate': \"D:20200318075249+08'00'\", 'page': 14, 'producer': 'Microsoft® Word 2013; modified using iText 5.0.6 (c) 1T3XT BVBA; modified using iTextSharp 5.2.1 (c) 1T3XT BVBA', 'source': '/home/linjw/AGI/llama2/DB/Process/source/2020年  播种未来-人工智能如何赋能教育？-200307.pdf', 'subject': '', 'title': '长江证券-教育系列之三：播种未来-人工智能如何赋能教育？-200307.pdf', 'total_pages': 16, 'trapped': ''}\n",
      "{'author': 'BJB218USER', 'creationDate': \"D:20211015164242+08'00'\", 'creator': 'Microsoft® PowerPoint® 2019', 'file_path': '/home/linjw/AGI/llama2/DB/Process/source/2021年  【43页】艾瑞咨询：2021年中国AI 安防行业发展研究报告.pdf', 'format': 'PDF 1.7', 'keywords': '', 'modDate': \"D:20211015164242+08'00'\", 'page': 14, 'producer': 'Microsoft® PowerPoint® 2019', 'source': '/home/linjw/AGI/llama2/DB/Process/source/2021年  【43页】艾瑞咨询：2021年中国AI 安防行业发展研究报告.pdf', 'subject': '', 'title': '幻灯片 1', 'total_pages': 43, 'trapped': ''}\n",
      "{'author': '', 'creationDate': \"D:20210707152721+07'00'\", 'creator': 'WPS 演示', 'file_path': '/home/linjw/AGI/llama2/DB/Process/source/2021年  【57页】2021中国“AI+制造”产业发展研究报告-亿欧智库-2021.7-56页.pdf', 'format': 'PDF 1.7', 'keywords': '', 'modDate': \"D:20210709141852+08'00'\", 'page': 40, 'producer': '99pdf.com', 'source': '/home/linjw/AGI/llama2/DB/Process/source/2021年  【57页】2021中国“AI+制造”产业发展研究报告-亿欧智库-2021.7-56页.pdf', 'subject': '', 'title': '', 'total_pages': 57, 'trapped': ''}\n",
      "{'author': '', 'creationDate': \"D:20210707173257+09'32'\", 'creator': 'WPS 演示', 'file_path': '/home/linjw/AGI/llama2/DB/Process/source/2021年  【56页】2021中国AI制造产业发展研究报告.pdf', 'format': 'PDF 1.7', 'keywords': '', 'modDate': \"D:20210707173257+09'32'\", 'page': 40, 'producer': '', 'source': '/home/linjw/AGI/llama2/DB/Process/source/2021年  【56页】2021中国AI制造产业发展研究报告.pdf', 'subject': '', 'title': '', 'total_pages': 56, 'trapped': ''}\n"
     ]
    }
   ],
   "source": [
    "for doc in docs:\n",
    "    print(doc.metadata)\n"
   ]
  },
  {
   "cell_type": "markdown",
   "metadata": {},
   "source": [
    "##### LLM压缩检索"
   ]
  },
  {
   "cell_type": "code",
   "execution_count": 9,
   "metadata": {},
   "outputs": [],
   "source": [
    "# from langchain.retrievers import ContextualCompressionRetriever\n",
    "# from langchain.retrievers.document_compressors import LLMChainExtractor\n",
    "# from langchain.llms import OpenAI\n",
    "# from langchain.retrievers.self_query.base import SelfQueryRetriever\n",
    "# from langchain.chains.query_constructor.base import AttributeInfo\n",
    " \n",
    "# #定义元数据的过滤条件\n",
    "# metadata_field_info = [\n",
    "#     AttributeInfo(\n",
    "#         name=\"source\",\n",
    "#         description=\"The lecture the chunk is from, should be one of `docs/cs229_lectures/MachineLearning-Lecture01.pdf`, `docs/cs229_lectures/MachineLearning-Lecture02.pdf`, or `docs/cs229_lectures/MachineLearning-Lecture03.pdf`\",\n",
    "#         type=\"string\",\n",
    "#     ),\n",
    "#     AttributeInfo(\n",
    "#         name=\"page\",\n",
    "#         description=\"The page from the lecture\",\n",
    "#         type=\"integer\",\n",
    "#     ),\n",
    "# ]\n",
    " \n",
    "# #创建SelfQueryRetriever\n",
    "# document_content_description = \"Lecture notes\"\n",
    "# llm = OpenAI(temperature=0)\n",
    "# retriever = SelfQueryRetriever.from_llm(\n",
    "#     llm,\n",
    "#     db,\n",
    "#     document_content_description,\n",
    "#     metadata_field_info,\n",
    "#     verbose=True\n",
    "# )\n",
    "# def pretty_print_docs(docs):\n",
    "#     print(f\"\\n{'-' * 100}\\n\".join([f\"Document {i+1}:\\n\\n\" + d.page_content for i, d in enumerate(docs)]))\n",
    "    \n",
    "# # Wrap our vectorstore\n",
    "# llm = OpenAI(temperature=0)\n",
    "# compressor = LLMChainExtractor.from_llm(llm)\n",
    " \n",
    "# compression_retriever = ContextualCompressionRetriever(\n",
    "#     base_compressor=compressor,\n",
    "#     base_retriever=db.as_retriever()\n",
    "# )\n",
    "\n",
    "# question = \"what did they say about matlab?\"\n",
    "# compressed_docs = compression_retriever.get_relevant_documents(question)\n",
    "# pretty_print_docs(compressed_docs)"
   ]
  },
  {
   "cell_type": "markdown",
   "metadata": {},
   "source": [
    "#### 加载模型"
   ]
  },
  {
   "cell_type": "code",
   "execution_count": 10,
   "metadata": {},
   "outputs": [
    {
     "data": {
      "application/vnd.jupyter.widget-view+json": {
       "model_id": "d336eb3c72754f23bd6486a3ee7f139d",
       "version_major": 2,
       "version_minor": 0
      },
      "text/plain": [
       "Loading checkpoint shards:   0%|          | 0/3 [00:00<?, ?it/s]"
      ]
     },
     "metadata": {},
     "output_type": "display_data"
    },
    {
     "name": "stderr",
     "output_type": "stream",
     "text": [
      "/home/linjw/anaconda3/envs/llama/lib/python3.10/site-packages/transformers/generation/configuration_utils.py:362: UserWarning: `do_sample` is set to `False`. However, `temperature` is set to `0.9` -- this flag is only used in sample-based generation modes. You should set `do_sample=True` or unset `temperature`. This was detected when initializing the generation config instance, which means the corresponding file may hold incorrect parameterization and should be fixed.\n",
      "  warnings.warn(\n",
      "/home/linjw/anaconda3/envs/llama/lib/python3.10/site-packages/transformers/generation/configuration_utils.py:367: UserWarning: `do_sample` is set to `False`. However, `top_p` is set to `0.6` -- this flag is only used in sample-based generation modes. You should set `do_sample=True` or unset `top_p`. This was detected when initializing the generation config instance, which means the corresponding file may hold incorrect parameterization and should be fixed.\n",
      "  warnings.warn(\n"
     ]
    }
   ],
   "source": [
    "from langchain.chains import RetrievalQA\n",
    "from langchain.embeddings.huggingface import HuggingFaceEmbeddings\n",
    "from langchain import HuggingFacePipeline\n",
    "embeddings = HuggingFaceEmbeddings(model_name=embeddings_model_name)\n",
    "model = HuggingFacePipeline.from_model_id(model_id=model_path,\n",
    "        task=\"text-generation\",\n",
    "        device=0,\n",
    "        pipeline_kwargs={\n",
    "            \"max_new_tokens\": 4096, \n",
    "            \"do_sample\": True,\n",
    "            \"temperature\": 0.2,\n",
    "            \"top_k\": 1,\n",
    "            \"top_p\": 0.9,\n",
    "            \"repetition_penalty\": 1.1},\n",
    "        model_kwargs={\n",
    "            \"torch_dtype\": \"auto\",\n",
    "            \"low_cpu_mem_usage\": True}\n",
    "        )"
   ]
  },
  {
   "cell_type": "markdown",
   "metadata": {},
   "source": [
    "##### 定义目标模板"
   ]
  },
  {
   "cell_type": "code",
   "execution_count": 11,
   "metadata": {},
   "outputs": [
    {
     "data": {
      "text/plain": [
       "'\\n\\nRevised Answer:\\n\\n1. 技术1和其产业规模: [描述]\\n2. 技术2和其产业规模: [描述]\\n3. 技术3和其产业规模: [描述]\\n4. 技术4和其产业规模: [描述]\\n5. 技术5和其产业规模: [描述]'"
      ]
     },
     "execution_count": 11,
     "metadata": {},
     "output_type": "execute_result"
    }
   ],
   "source": [
    "qa_chain_refine = RetrievalQA.from_chain_type(\n",
    "    model,\n",
    "    retriever=db.as_retriever(search_kwargs={\"k\": 10}),\n",
    "    chain_type=\"refine\"\n",
    ")\n",
    " \n",
    "result = qa_chain_refine({\"query\": refine_query})\n",
    "result[\"result\"]\n"
   ]
  },
  {
   "cell_type": "markdown",
   "metadata": {},
   "source": [
    "### 整理回答"
   ]
  },
  {
   "cell_type": "markdown",
   "metadata": {},
   "source": [
    "#### 数据解析器"
   ]
  },
  {
   "cell_type": "code",
   "execution_count": null,
   "metadata": {},
   "outputs": [],
   "source": []
  },
  {
   "cell_type": "code",
   "execution_count": 12,
   "metadata": {},
   "outputs": [
    {
     "name": "stderr",
     "output_type": "stream",
     "text": [
      "/home/linjw/anaconda3/envs/llama/lib/python3.10/site-packages/transformers/pipelines/base.py:1101: UserWarning: You seem to be using the pipelines sequentially on GPU. In order to maximize efficiency please use a dataset\n",
      "  warnings.warn(\n"
     ]
    },
    {
     "name": "stdout",
     "output_type": "stream",
     "text": [
      " 以下是人工智能5年后可能存在的一些细分赛道及其对应的产业规模预测：\n",
      "\n",
      "1. 自动驾驶汽车（Autonomous Vehicles）-预计到2025年，全球自动驾驶汽车市场规模将达到约1.5万亿美元。\n",
      "2. 智能医疗保健（Smart Healthcare）-预计到2025年，全球智能医疗保健市场规模将超过1.6万亿美元。\n",
      "3. 智能家居与物联网（Smart Home & IoT）-预计到2025年，全球智能家居与物联网市场规模将超过1.8万亿美元。\n",
      "4. 机器人与自动化（Robotics & Automation）-预计到2025年，全球机器人与自动化市场规模将超过2.5万亿美元。\n",
      "5. 虚拟现实与增强现实（Virtual Reality & Augmented Reality）-预计到2025年，全球虚拟现实与增强现实市场规模将超过1.2万亿美元。\n",
      "\n",
      "请注意，这些数据仅供参考，实际结果可能会受到多种因素的影响而有所变化。\n"
     ]
    },
    {
     "ename": "OutputParserException",
     "evalue": "Got invalid JSON object. Error: Expecting value: line 1 column 1 (char 0)",
     "output_type": "error",
     "traceback": [
      "\u001b[0;31m---------------------------------------------------------------------------\u001b[0m",
      "\u001b[0;31mJSONDecodeError\u001b[0m                           Traceback (most recent call last)",
      "File \u001b[0;32m~/anaconda3/envs/llama/lib/python3.10/site-packages/langchain/output_parsers/json.py:86\u001b[0m, in \u001b[0;36mparse_and_check_json_markdown\u001b[0;34m(text, expected_keys)\u001b[0m\n\u001b[1;32m     85\u001b[0m \u001b[39mtry\u001b[39;00m:\n\u001b[0;32m---> 86\u001b[0m     json_obj \u001b[39m=\u001b[39m parse_json_markdown(text)\n\u001b[1;32m     87\u001b[0m \u001b[39mexcept\u001b[39;00m json\u001b[39m.\u001b[39mJSONDecodeError \u001b[39mas\u001b[39;00m e:\n",
      "File \u001b[0;32m~/anaconda3/envs/llama/lib/python3.10/site-packages/langchain/output_parsers/json.py:68\u001b[0m, in \u001b[0;36mparse_json_markdown\u001b[0;34m(json_string)\u001b[0m\n\u001b[1;32m     67\u001b[0m \u001b[39m# Parse the JSON string into a Python dictionary\u001b[39;00m\n\u001b[0;32m---> 68\u001b[0m parsed \u001b[39m=\u001b[39m json\u001b[39m.\u001b[39;49mloads(json_str)\n\u001b[1;32m     70\u001b[0m \u001b[39mreturn\u001b[39;00m parsed\n",
      "File \u001b[0;32m~/anaconda3/envs/llama/lib/python3.10/json/__init__.py:346\u001b[0m, in \u001b[0;36mloads\u001b[0;34m(s, cls, object_hook, parse_float, parse_int, parse_constant, object_pairs_hook, **kw)\u001b[0m\n\u001b[1;32m    343\u001b[0m \u001b[39mif\u001b[39;00m (\u001b[39mcls\u001b[39m \u001b[39mis\u001b[39;00m \u001b[39mNone\u001b[39;00m \u001b[39mand\u001b[39;00m object_hook \u001b[39mis\u001b[39;00m \u001b[39mNone\u001b[39;00m \u001b[39mand\u001b[39;00m\n\u001b[1;32m    344\u001b[0m         parse_int \u001b[39mis\u001b[39;00m \u001b[39mNone\u001b[39;00m \u001b[39mand\u001b[39;00m parse_float \u001b[39mis\u001b[39;00m \u001b[39mNone\u001b[39;00m \u001b[39mand\u001b[39;00m\n\u001b[1;32m    345\u001b[0m         parse_constant \u001b[39mis\u001b[39;00m \u001b[39mNone\u001b[39;00m \u001b[39mand\u001b[39;00m object_pairs_hook \u001b[39mis\u001b[39;00m \u001b[39mNone\u001b[39;00m \u001b[39mand\u001b[39;00m \u001b[39mnot\u001b[39;00m kw):\n\u001b[0;32m--> 346\u001b[0m     \u001b[39mreturn\u001b[39;00m _default_decoder\u001b[39m.\u001b[39;49mdecode(s)\n\u001b[1;32m    347\u001b[0m \u001b[39mif\u001b[39;00m \u001b[39mcls\u001b[39m \u001b[39mis\u001b[39;00m \u001b[39mNone\u001b[39;00m:\n",
      "File \u001b[0;32m~/anaconda3/envs/llama/lib/python3.10/json/decoder.py:337\u001b[0m, in \u001b[0;36mJSONDecoder.decode\u001b[0;34m(self, s, _w)\u001b[0m\n\u001b[1;32m    333\u001b[0m \u001b[39m\u001b[39m\u001b[39m\"\"\"Return the Python representation of ``s`` (a ``str`` instance\u001b[39;00m\n\u001b[1;32m    334\u001b[0m \u001b[39mcontaining a JSON document).\u001b[39;00m\n\u001b[1;32m    335\u001b[0m \n\u001b[1;32m    336\u001b[0m \u001b[39m\"\"\"\u001b[39;00m\n\u001b[0;32m--> 337\u001b[0m obj, end \u001b[39m=\u001b[39m \u001b[39mself\u001b[39;49m\u001b[39m.\u001b[39;49mraw_decode(s, idx\u001b[39m=\u001b[39;49m_w(s, \u001b[39m0\u001b[39;49m)\u001b[39m.\u001b[39;49mend())\n\u001b[1;32m    338\u001b[0m end \u001b[39m=\u001b[39m _w(s, end)\u001b[39m.\u001b[39mend()\n",
      "File \u001b[0;32m~/anaconda3/envs/llama/lib/python3.10/json/decoder.py:355\u001b[0m, in \u001b[0;36mJSONDecoder.raw_decode\u001b[0;34m(self, s, idx)\u001b[0m\n\u001b[1;32m    354\u001b[0m \u001b[39mexcept\u001b[39;00m \u001b[39mStopIteration\u001b[39;00m \u001b[39mas\u001b[39;00m err:\n\u001b[0;32m--> 355\u001b[0m     \u001b[39mraise\u001b[39;00m JSONDecodeError(\u001b[39m\"\u001b[39m\u001b[39mExpecting value\u001b[39m\u001b[39m\"\u001b[39m, s, err\u001b[39m.\u001b[39mvalue) \u001b[39mfrom\u001b[39;00m \u001b[39mNone\u001b[39;00m\n\u001b[1;32m    356\u001b[0m \u001b[39mreturn\u001b[39;00m obj, end\n",
      "\u001b[0;31mJSONDecodeError\u001b[0m: Expecting value: line 1 column 1 (char 0)",
      "\nDuring handling of the above exception, another exception occurred:\n",
      "\u001b[0;31mOutputParserException\u001b[0m                     Traceback (most recent call last)",
      "\u001b[1;32m/home/linjw/AGI/llama2/langchain/单问题模板 copy.ipynb 单元格 22\u001b[0m line \u001b[0;36m2\n\u001b[1;32m     <a href='vscode-notebook-cell://ssh-remote%2Bpizza/home/linjw/AGI/llama2/langchain/%E5%8D%95%E9%97%AE%E9%A2%98%E6%A8%A1%E6%9D%BF%20copy.ipynb#X25sdnNjb2RlLXJlbW90ZQ%3D%3D?line=24'>25</a>\u001b[0m output \u001b[39m=\u001b[39m model(_input\u001b[39m.\u001b[39mto_string())\n\u001b[1;32m     <a href='vscode-notebook-cell://ssh-remote%2Bpizza/home/linjw/AGI/llama2/langchain/%E5%8D%95%E9%97%AE%E9%A2%98%E6%A8%A1%E6%9D%BF%20copy.ipynb#X25sdnNjb2RlLXJlbW90ZQ%3D%3D?line=25'>26</a>\u001b[0m \u001b[39mprint\u001b[39m(output)\n\u001b[0;32m---> <a href='vscode-notebook-cell://ssh-remote%2Bpizza/home/linjw/AGI/llama2/langchain/%E5%8D%95%E9%97%AE%E9%A2%98%E6%A8%A1%E6%9D%BF%20copy.ipynb#X25sdnNjb2RlLXJlbW90ZQ%3D%3D?line=26'>27</a>\u001b[0m output_parser\u001b[39m.\u001b[39;49mparse(output)\n",
      "File \u001b[0;32m~/anaconda3/envs/llama/lib/python3.10/site-packages/langchain/output_parsers/structured.py:95\u001b[0m, in \u001b[0;36mStructuredOutputParser.parse\u001b[0;34m(self, text)\u001b[0m\n\u001b[1;32m     93\u001b[0m \u001b[39mdef\u001b[39;00m \u001b[39mparse\u001b[39m(\u001b[39mself\u001b[39m, text: \u001b[39mstr\u001b[39m) \u001b[39m-\u001b[39m\u001b[39m>\u001b[39m Any:\n\u001b[1;32m     94\u001b[0m     expected_keys \u001b[39m=\u001b[39m [rs\u001b[39m.\u001b[39mname \u001b[39mfor\u001b[39;00m rs \u001b[39min\u001b[39;00m \u001b[39mself\u001b[39m\u001b[39m.\u001b[39mresponse_schemas]\n\u001b[0;32m---> 95\u001b[0m     \u001b[39mreturn\u001b[39;00m parse_and_check_json_markdown(text, expected_keys)\n",
      "File \u001b[0;32m~/anaconda3/envs/llama/lib/python3.10/site-packages/langchain/output_parsers/json.py:88\u001b[0m, in \u001b[0;36mparse_and_check_json_markdown\u001b[0;34m(text, expected_keys)\u001b[0m\n\u001b[1;32m     86\u001b[0m     json_obj \u001b[39m=\u001b[39m parse_json_markdown(text)\n\u001b[1;32m     87\u001b[0m \u001b[39mexcept\u001b[39;00m json\u001b[39m.\u001b[39mJSONDecodeError \u001b[39mas\u001b[39;00m e:\n\u001b[0;32m---> 88\u001b[0m     \u001b[39mraise\u001b[39;00m OutputParserException(\u001b[39mf\u001b[39m\u001b[39m\"\u001b[39m\u001b[39mGot invalid JSON object. Error: \u001b[39m\u001b[39m{\u001b[39;00me\u001b[39m}\u001b[39;00m\u001b[39m\"\u001b[39m)\n\u001b[1;32m     89\u001b[0m \u001b[39mfor\u001b[39;00m key \u001b[39min\u001b[39;00m expected_keys:\n\u001b[1;32m     90\u001b[0m     \u001b[39mif\u001b[39;00m key \u001b[39mnot\u001b[39;00m \u001b[39min\u001b[39;00m json_obj:\n",
      "\u001b[0;31mOutputParserException\u001b[0m: Got invalid JSON object. Error: Expecting value: line 1 column 1 (char 0)"
     ]
    }
   ],
   "source": [
    "que =result[\"result\"]\n",
    "\n",
    "initial_qa_template = (\n",
    "    \"[INST] <<SYS>>\\n\"\n",
    "    \"You are a helpful assistant. 你是一个乐于助人的助手。\\n\"\n",
    "    \"<</SYS>>\\n\\n\"\n",
    "    \"以下为背景知识：\\n\"\n",
    "    \"{context_str}\"\n",
    "    \"\\n\"\n",
    "    \"{format_instructions}\"\n",
    "    \"\\n\"\n",
    "    \"请根据以上背景知识, 回答这个问题：{question}。\"\n",
    "    \" [/INST]\"\n",
    ")\n",
    "\n",
    "\n",
    "output_parser = StructuredOutputParser.from_response_schemas(response_schemas)\n",
    "format_instructions = output_parser.get_format_instructions()\n",
    "prompt = PromptTemplate(\n",
    "    template=initial_qa_template,\n",
    "    input_variables=[\"question\"],\n",
    "    partial_variables={\"format_instructions\": format_instructions,\"context_str\":que}\n",
    ")\n",
    "_input = prompt.format_prompt(question=summary_query)\n",
    "output = model(_input.to_string())\n",
    "print(output)\n",
    "output_parser.parse(output)\n",
    " "
   ]
  },
  {
   "cell_type": "code",
   "execution_count": null,
   "metadata": {},
   "outputs": [],
   "source": []
  }
 ],
 "metadata": {
  "kernelspec": {
   "display_name": "llama",
   "language": "python",
   "name": "python3"
  },
  "language_info": {
   "codemirror_mode": {
    "name": "ipython",
    "version": 3
   },
   "file_extension": ".py",
   "mimetype": "text/x-python",
   "name": "python",
   "nbconvert_exporter": "python",
   "pygments_lexer": "ipython3",
   "version": "3.10.12"
  },
  "orig_nbformat": 4
 },
 "nbformat": 4,
 "nbformat_minor": 2
}
